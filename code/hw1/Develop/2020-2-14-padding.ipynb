{
  "nbformat": 4,
  "nbformat_minor": 0,
  "metadata": {
    "accelerator": "GPU",
    "colab": {
      "name": "2020-2-11-new-preprocessing.ipynb",
      "provenance": [],
      "collapsed_sections": [
        "Rx05A6vcf785",
        "zRjlkeMYf_Oh"
      ],
      "machine_shape": "hm"
    },
    "kernelspec": {
      "display_name": "Python 3",
      "language": "python",
      "name": "python3"
    },
    "language_info": {
      "codemirror_mode": {
        "name": "ipython",
        "version": 3
      },
      "file_extension": ".py",
      "mimetype": "text/x-python",
      "name": "python",
      "nbconvert_exporter": "python",
      "pygments_lexer": "ipython3",
      "version": "3.7.1"
    },
    "widgets": {
      "application/vnd.jupyter.widget-state+json": {
        "5bf1117a41c14142ac968956735a5cf0": {
          "model_module": "@jupyter-widgets/controls",
          "model_name": "HBoxModel",
          "state": {
            "_dom_classes": [],
            "_model_module": "@jupyter-widgets/controls",
            "_model_module_version": "1.5.0",
            "_model_name": "HBoxModel",
            "_view_count": null,
            "_view_module": "@jupyter-widgets/controls",
            "_view_module_version": "1.5.0",
            "_view_name": "HBoxView",
            "box_style": "",
            "children": [
              "IPY_MODEL_4107f9ff3dad4d48b5d3bdb455160409",
              "IPY_MODEL_336bab06fe7d4007839572cdcfd0b461"
            ],
            "layout": "IPY_MODEL_66b5ccf42e58462088e7267df2f33781"
          }
        },
        "66b5ccf42e58462088e7267df2f33781": {
          "model_module": "@jupyter-widgets/base",
          "model_name": "LayoutModel",
          "state": {
            "_model_module": "@jupyter-widgets/base",
            "_model_module_version": "1.2.0",
            "_model_name": "LayoutModel",
            "_view_count": null,
            "_view_module": "@jupyter-widgets/base",
            "_view_module_version": "1.2.0",
            "_view_name": "LayoutView",
            "align_content": null,
            "align_items": null,
            "align_self": null,
            "border": null,
            "bottom": null,
            "display": null,
            "flex": null,
            "flex_flow": null,
            "grid_area": null,
            "grid_auto_columns": null,
            "grid_auto_flow": null,
            "grid_auto_rows": null,
            "grid_column": null,
            "grid_gap": null,
            "grid_row": null,
            "grid_template_areas": null,
            "grid_template_columns": null,
            "grid_template_rows": null,
            "height": null,
            "justify_content": null,
            "justify_items": null,
            "left": null,
            "margin": null,
            "max_height": null,
            "max_width": null,
            "min_height": null,
            "min_width": null,
            "object_fit": null,
            "object_position": null,
            "order": null,
            "overflow": null,
            "overflow_x": null,
            "overflow_y": null,
            "padding": null,
            "right": null,
            "top": null,
            "visibility": null,
            "width": null
          }
        },
        "4107f9ff3dad4d48b5d3bdb455160409": {
          "model_module": "@jupyter-widgets/controls",
          "model_name": "IntProgressModel",
          "state": {
            "_dom_classes": [],
            "_model_module": "@jupyter-widgets/controls",
            "_model_module_version": "1.5.0",
            "_model_name": "IntProgressModel",
            "_view_count": null,
            "_view_module": "@jupyter-widgets/controls",
            "_view_module_version": "1.5.0",
            "_view_name": "ProgressView",
            "bar_style": "success",
            "description": "",
            "description_tooltip": null,
            "layout": "IPY_MODEL_005998f8f5b74fb3b92737b82f568861",
            "max": 50210,
            "min": 0,
            "orientation": "horizontal",
            "style": "IPY_MODEL_59ad03d513ff454d9361fe38e8d2a56b",
            "value": 50210
          }
        },
        "336bab06fe7d4007839572cdcfd0b461": {
          "model_module": "@jupyter-widgets/controls",
          "model_name": "HTMLModel",
          "state": {
            "_dom_classes": [],
            "_model_module": "@jupyter-widgets/controls",
            "_model_module_version": "1.5.0",
            "_model_name": "HTMLModel",
            "_view_count": null,
            "_view_module": "@jupyter-widgets/controls",
            "_view_module_version": "1.5.0",
            "_view_name": "HTMLView",
            "description": "",
            "description_tooltip": null,
            "layout": "IPY_MODEL_e7fa4e9f859244e3b1b0a03bc3c5afc7",
            "placeholder": "​",
            "style": "IPY_MODEL_5a6743b6fd9149b5a9b76b84978f8682",
            "value": "100% 50210/50210 [00:32&lt;00:00, 1540.37it/s]"
          }
        },
        "59ad03d513ff454d9361fe38e8d2a56b": {
          "model_module": "@jupyter-widgets/controls",
          "model_name": "ProgressStyleModel",
          "state": {
            "_model_module": "@jupyter-widgets/controls",
            "_model_module_version": "1.5.0",
            "_model_name": "ProgressStyleModel",
            "_view_count": null,
            "_view_module": "@jupyter-widgets/base",
            "_view_module_version": "1.2.0",
            "_view_name": "StyleView",
            "bar_color": null,
            "description_width": ""
          }
        },
        "005998f8f5b74fb3b92737b82f568861": {
          "model_module": "@jupyter-widgets/base",
          "model_name": "LayoutModel",
          "state": {
            "_model_module": "@jupyter-widgets/base",
            "_model_module_version": "1.2.0",
            "_model_name": "LayoutModel",
            "_view_count": null,
            "_view_module": "@jupyter-widgets/base",
            "_view_module_version": "1.2.0",
            "_view_name": "LayoutView",
            "align_content": null,
            "align_items": null,
            "align_self": null,
            "border": null,
            "bottom": null,
            "display": null,
            "flex": null,
            "flex_flow": null,
            "grid_area": null,
            "grid_auto_columns": null,
            "grid_auto_flow": null,
            "grid_auto_rows": null,
            "grid_column": null,
            "grid_gap": null,
            "grid_row": null,
            "grid_template_areas": null,
            "grid_template_columns": null,
            "grid_template_rows": null,
            "height": null,
            "justify_content": null,
            "justify_items": null,
            "left": null,
            "margin": null,
            "max_height": null,
            "max_width": null,
            "min_height": null,
            "min_width": null,
            "object_fit": null,
            "object_position": null,
            "order": null,
            "overflow": null,
            "overflow_x": null,
            "overflow_y": null,
            "padding": null,
            "right": null,
            "top": null,
            "visibility": null,
            "width": null
          }
        },
        "5a6743b6fd9149b5a9b76b84978f8682": {
          "model_module": "@jupyter-widgets/controls",
          "model_name": "DescriptionStyleModel",
          "state": {
            "_model_module": "@jupyter-widgets/controls",
            "_model_module_version": "1.5.0",
            "_model_name": "DescriptionStyleModel",
            "_view_count": null,
            "_view_module": "@jupyter-widgets/base",
            "_view_module_version": "1.2.0",
            "_view_name": "StyleView",
            "description_width": ""
          }
        },
        "e7fa4e9f859244e3b1b0a03bc3c5afc7": {
          "model_module": "@jupyter-widgets/base",
          "model_name": "LayoutModel",
          "state": {
            "_model_module": "@jupyter-widgets/base",
            "_model_module_version": "1.2.0",
            "_model_name": "LayoutModel",
            "_view_count": null,
            "_view_module": "@jupyter-widgets/base",
            "_view_module_version": "1.2.0",
            "_view_name": "LayoutView",
            "align_content": null,
            "align_items": null,
            "align_self": null,
            "border": null,
            "bottom": null,
            "display": null,
            "flex": null,
            "flex_flow": null,
            "grid_area": null,
            "grid_auto_columns": null,
            "grid_auto_flow": null,
            "grid_auto_rows": null,
            "grid_column": null,
            "grid_gap": null,
            "grid_row": null,
            "grid_template_areas": null,
            "grid_template_columns": null,
            "grid_template_rows": null,
            "height": null,
            "justify_content": null,
            "justify_items": null,
            "left": null,
            "margin": null,
            "max_height": null,
            "max_width": null,
            "min_height": null,
            "min_width": null,
            "object_fit": null,
            "object_position": null,
            "order": null,
            "overflow": null,
            "overflow_x": null,
            "overflow_y": null,
            "padding": null,
            "right": null,
            "top": null,
            "visibility": null,
            "width": null
          }
        },
        "0b773192912043dd9766e147fb1888f3": {
          "model_module": "@jupyter-widgets/controls",
          "model_name": "HBoxModel",
          "state": {
            "_dom_classes": [],
            "_model_module": "@jupyter-widgets/controls",
            "_model_module_version": "1.5.0",
            "_model_name": "HBoxModel",
            "_view_count": null,
            "_view_module": "@jupyter-widgets/controls",
            "_view_module_version": "1.5.0",
            "_view_name": "HBoxView",
            "box_style": "",
            "children": [
              "IPY_MODEL_48e114588a084dea819e01173b903541",
              "IPY_MODEL_a51f5e1b24454bd4a2902e24a79fb7ff"
            ],
            "layout": "IPY_MODEL_6e092b350c0a45f9a9346a97aa93d786"
          }
        },
        "6e092b350c0a45f9a9346a97aa93d786": {
          "model_module": "@jupyter-widgets/base",
          "model_name": "LayoutModel",
          "state": {
            "_model_module": "@jupyter-widgets/base",
            "_model_module_version": "1.2.0",
            "_model_name": "LayoutModel",
            "_view_count": null,
            "_view_module": "@jupyter-widgets/base",
            "_view_module_version": "1.2.0",
            "_view_name": "LayoutView",
            "align_content": null,
            "align_items": null,
            "align_self": null,
            "border": null,
            "bottom": null,
            "display": null,
            "flex": null,
            "flex_flow": null,
            "grid_area": null,
            "grid_auto_columns": null,
            "grid_auto_flow": null,
            "grid_auto_rows": null,
            "grid_column": null,
            "grid_gap": null,
            "grid_row": null,
            "grid_template_areas": null,
            "grid_template_columns": null,
            "grid_template_rows": null,
            "height": null,
            "justify_content": null,
            "justify_items": null,
            "left": null,
            "margin": null,
            "max_height": null,
            "max_width": null,
            "min_height": null,
            "min_width": null,
            "object_fit": null,
            "object_position": null,
            "order": null,
            "overflow": null,
            "overflow_x": null,
            "overflow_y": null,
            "padding": null,
            "right": null,
            "top": null,
            "visibility": null,
            "width": null
          }
        },
        "48e114588a084dea819e01173b903541": {
          "model_module": "@jupyter-widgets/controls",
          "model_name": "IntProgressModel",
          "state": {
            "_dom_classes": [],
            "_model_module": "@jupyter-widgets/controls",
            "_model_module_version": "1.5.0",
            "_model_name": "IntProgressModel",
            "_view_count": null,
            "_view_module": "@jupyter-widgets/controls",
            "_view_module_version": "1.5.0",
            "_view_name": "ProgressView",
            "bar_style": "success",
            "description": "",
            "description_tooltip": null,
            "layout": "IPY_MODEL_0caf4d959dad4ee3975df0b91b803560",
            "max": 50210,
            "min": 0,
            "orientation": "horizontal",
            "style": "IPY_MODEL_452ef2f3b1734fafa707091525e098d5",
            "value": 50210
          }
        },
        "a51f5e1b24454bd4a2902e24a79fb7ff": {
          "model_module": "@jupyter-widgets/controls",
          "model_name": "HTMLModel",
          "state": {
            "_dom_classes": [],
            "_model_module": "@jupyter-widgets/controls",
            "_model_module_version": "1.5.0",
            "_model_name": "HTMLModel",
            "_view_count": null,
            "_view_module": "@jupyter-widgets/controls",
            "_view_module_version": "1.5.0",
            "_view_name": "HTMLView",
            "description": "",
            "description_tooltip": null,
            "layout": "IPY_MODEL_4bd0a569dbad4772bc61f0d6fd232d83",
            "placeholder": "​",
            "style": "IPY_MODEL_cc2a1ac11f564004b65b9b55836823f0",
            "value": "100% 50210/50210 [00:34&lt;00:00, 1449.58it/s]"
          }
        },
        "452ef2f3b1734fafa707091525e098d5": {
          "model_module": "@jupyter-widgets/controls",
          "model_name": "ProgressStyleModel",
          "state": {
            "_model_module": "@jupyter-widgets/controls",
            "_model_module_version": "1.5.0",
            "_model_name": "ProgressStyleModel",
            "_view_count": null,
            "_view_module": "@jupyter-widgets/base",
            "_view_module_version": "1.2.0",
            "_view_name": "StyleView",
            "bar_color": null,
            "description_width": ""
          }
        },
        "0caf4d959dad4ee3975df0b91b803560": {
          "model_module": "@jupyter-widgets/base",
          "model_name": "LayoutModel",
          "state": {
            "_model_module": "@jupyter-widgets/base",
            "_model_module_version": "1.2.0",
            "_model_name": "LayoutModel",
            "_view_count": null,
            "_view_module": "@jupyter-widgets/base",
            "_view_module_version": "1.2.0",
            "_view_name": "LayoutView",
            "align_content": null,
            "align_items": null,
            "align_self": null,
            "border": null,
            "bottom": null,
            "display": null,
            "flex": null,
            "flex_flow": null,
            "grid_area": null,
            "grid_auto_columns": null,
            "grid_auto_flow": null,
            "grid_auto_rows": null,
            "grid_column": null,
            "grid_gap": null,
            "grid_row": null,
            "grid_template_areas": null,
            "grid_template_columns": null,
            "grid_template_rows": null,
            "height": null,
            "justify_content": null,
            "justify_items": null,
            "left": null,
            "margin": null,
            "max_height": null,
            "max_width": null,
            "min_height": null,
            "min_width": null,
            "object_fit": null,
            "object_position": null,
            "order": null,
            "overflow": null,
            "overflow_x": null,
            "overflow_y": null,
            "padding": null,
            "right": null,
            "top": null,
            "visibility": null,
            "width": null
          }
        },
        "cc2a1ac11f564004b65b9b55836823f0": {
          "model_module": "@jupyter-widgets/controls",
          "model_name": "DescriptionStyleModel",
          "state": {
            "_model_module": "@jupyter-widgets/controls",
            "_model_module_version": "1.5.0",
            "_model_name": "DescriptionStyleModel",
            "_view_count": null,
            "_view_module": "@jupyter-widgets/base",
            "_view_module_version": "1.2.0",
            "_view_name": "StyleView",
            "description_width": ""
          }
        },
        "4bd0a569dbad4772bc61f0d6fd232d83": {
          "model_module": "@jupyter-widgets/base",
          "model_name": "LayoutModel",
          "state": {
            "_model_module": "@jupyter-widgets/base",
            "_model_module_version": "1.2.0",
            "_model_name": "LayoutModel",
            "_view_count": null,
            "_view_module": "@jupyter-widgets/base",
            "_view_module_version": "1.2.0",
            "_view_name": "LayoutView",
            "align_content": null,
            "align_items": null,
            "align_self": null,
            "border": null,
            "bottom": null,
            "display": null,
            "flex": null,
            "flex_flow": null,
            "grid_area": null,
            "grid_auto_columns": null,
            "grid_auto_flow": null,
            "grid_auto_rows": null,
            "grid_column": null,
            "grid_gap": null,
            "grid_row": null,
            "grid_template_areas": null,
            "grid_template_columns": null,
            "grid_template_rows": null,
            "height": null,
            "justify_content": null,
            "justify_items": null,
            "left": null,
            "margin": null,
            "max_height": null,
            "max_width": null,
            "min_height": null,
            "min_width": null,
            "object_fit": null,
            "object_position": null,
            "order": null,
            "overflow": null,
            "overflow_x": null,
            "overflow_y": null,
            "padding": null,
            "right": null,
            "top": null,
            "visibility": null,
            "width": null
          }
        },
        "2ee1d183d5154484be59ba0546687478": {
          "model_module": "@jupyter-widgets/controls",
          "model_name": "HBoxModel",
          "state": {
            "_dom_classes": [],
            "_model_module": "@jupyter-widgets/controls",
            "_model_module_version": "1.5.0",
            "_model_name": "HBoxModel",
            "_view_count": null,
            "_view_module": "@jupyter-widgets/controls",
            "_view_module_version": "1.5.0",
            "_view_name": "HBoxView",
            "box_style": "",
            "children": [
              "IPY_MODEL_cc18181316b84c70aaae4bcc6f3fc9bd",
              "IPY_MODEL_19e66b578fc04f7d82dace5c46ec0ca4"
            ],
            "layout": "IPY_MODEL_47f43b4077634403bb25e49ead8d20d9"
          }
        },
        "47f43b4077634403bb25e49ead8d20d9": {
          "model_module": "@jupyter-widgets/base",
          "model_name": "LayoutModel",
          "state": {
            "_model_module": "@jupyter-widgets/base",
            "_model_module_version": "1.2.0",
            "_model_name": "LayoutModel",
            "_view_count": null,
            "_view_module": "@jupyter-widgets/base",
            "_view_module_version": "1.2.0",
            "_view_name": "LayoutView",
            "align_content": null,
            "align_items": null,
            "align_self": null,
            "border": null,
            "bottom": null,
            "display": null,
            "flex": null,
            "flex_flow": null,
            "grid_area": null,
            "grid_auto_columns": null,
            "grid_auto_flow": null,
            "grid_auto_rows": null,
            "grid_column": null,
            "grid_gap": null,
            "grid_row": null,
            "grid_template_areas": null,
            "grid_template_columns": null,
            "grid_template_rows": null,
            "height": null,
            "justify_content": null,
            "justify_items": null,
            "left": null,
            "margin": null,
            "max_height": null,
            "max_width": null,
            "min_height": null,
            "min_width": null,
            "object_fit": null,
            "object_position": null,
            "order": null,
            "overflow": null,
            "overflow_x": null,
            "overflow_y": null,
            "padding": null,
            "right": null,
            "top": null,
            "visibility": null,
            "width": null
          }
        },
        "cc18181316b84c70aaae4bcc6f3fc9bd": {
          "model_module": "@jupyter-widgets/controls",
          "model_name": "IntProgressModel",
          "state": {
            "_dom_classes": [],
            "_model_module": "@jupyter-widgets/controls",
            "_model_module_version": "1.5.0",
            "_model_name": "IntProgressModel",
            "_view_count": null,
            "_view_module": "@jupyter-widgets/controls",
            "_view_module_version": "1.5.0",
            "_view_name": "ProgressView",
            "bar_style": "success",
            "description": "",
            "description_tooltip": null,
            "layout": "IPY_MODEL_36aefbecfd334001994e3904e49207d6",
            "max": 50210,
            "min": 0,
            "orientation": "horizontal",
            "style": "IPY_MODEL_5a4965af8df249c28431be268076bcd6",
            "value": 50210
          }
        },
        "19e66b578fc04f7d82dace5c46ec0ca4": {
          "model_module": "@jupyter-widgets/controls",
          "model_name": "HTMLModel",
          "state": {
            "_dom_classes": [],
            "_model_module": "@jupyter-widgets/controls",
            "_model_module_version": "1.5.0",
            "_model_name": "HTMLModel",
            "_view_count": null,
            "_view_module": "@jupyter-widgets/controls",
            "_view_module_version": "1.5.0",
            "_view_name": "HTMLView",
            "description": "",
            "description_tooltip": null,
            "layout": "IPY_MODEL_dbe2a98b9a73499a877352a96f024384",
            "placeholder": "​",
            "style": "IPY_MODEL_62a703426c494b928e8c5f7a699fd010",
            "value": "100% 50210/50210 [01:29&lt;00:00, 563.95it/s]"
          }
        },
        "5a4965af8df249c28431be268076bcd6": {
          "model_module": "@jupyter-widgets/controls",
          "model_name": "ProgressStyleModel",
          "state": {
            "_model_module": "@jupyter-widgets/controls",
            "_model_module_version": "1.5.0",
            "_model_name": "ProgressStyleModel",
            "_view_count": null,
            "_view_module": "@jupyter-widgets/base",
            "_view_module_version": "1.2.0",
            "_view_name": "StyleView",
            "bar_color": null,
            "description_width": ""
          }
        },
        "36aefbecfd334001994e3904e49207d6": {
          "model_module": "@jupyter-widgets/base",
          "model_name": "LayoutModel",
          "state": {
            "_model_module": "@jupyter-widgets/base",
            "_model_module_version": "1.2.0",
            "_model_name": "LayoutModel",
            "_view_count": null,
            "_view_module": "@jupyter-widgets/base",
            "_view_module_version": "1.2.0",
            "_view_name": "LayoutView",
            "align_content": null,
            "align_items": null,
            "align_self": null,
            "border": null,
            "bottom": null,
            "display": null,
            "flex": null,
            "flex_flow": null,
            "grid_area": null,
            "grid_auto_columns": null,
            "grid_auto_flow": null,
            "grid_auto_rows": null,
            "grid_column": null,
            "grid_gap": null,
            "grid_row": null,
            "grid_template_areas": null,
            "grid_template_columns": null,
            "grid_template_rows": null,
            "height": null,
            "justify_content": null,
            "justify_items": null,
            "left": null,
            "margin": null,
            "max_height": null,
            "max_width": null,
            "min_height": null,
            "min_width": null,
            "object_fit": null,
            "object_position": null,
            "order": null,
            "overflow": null,
            "overflow_x": null,
            "overflow_y": null,
            "padding": null,
            "right": null,
            "top": null,
            "visibility": null,
            "width": null
          }
        },
        "62a703426c494b928e8c5f7a699fd010": {
          "model_module": "@jupyter-widgets/controls",
          "model_name": "DescriptionStyleModel",
          "state": {
            "_model_module": "@jupyter-widgets/controls",
            "_model_module_version": "1.5.0",
            "_model_name": "DescriptionStyleModel",
            "_view_count": null,
            "_view_module": "@jupyter-widgets/base",
            "_view_module_version": "1.2.0",
            "_view_name": "StyleView",
            "description_width": ""
          }
        },
        "dbe2a98b9a73499a877352a96f024384": {
          "model_module": "@jupyter-widgets/base",
          "model_name": "LayoutModel",
          "state": {
            "_model_module": "@jupyter-widgets/base",
            "_model_module_version": "1.2.0",
            "_model_name": "LayoutModel",
            "_view_count": null,
            "_view_module": "@jupyter-widgets/base",
            "_view_module_version": "1.2.0",
            "_view_name": "LayoutView",
            "align_content": null,
            "align_items": null,
            "align_self": null,
            "border": null,
            "bottom": null,
            "display": null,
            "flex": null,
            "flex_flow": null,
            "grid_area": null,
            "grid_auto_columns": null,
            "grid_auto_flow": null,
            "grid_auto_rows": null,
            "grid_column": null,
            "grid_gap": null,
            "grid_row": null,
            "grid_template_areas": null,
            "grid_template_columns": null,
            "grid_template_rows": null,
            "height": null,
            "justify_content": null,
            "justify_items": null,
            "left": null,
            "margin": null,
            "max_height": null,
            "max_width": null,
            "min_height": null,
            "min_width": null,
            "object_fit": null,
            "object_position": null,
            "order": null,
            "overflow": null,
            "overflow_x": null,
            "overflow_y": null,
            "padding": null,
            "right": null,
            "top": null,
            "visibility": null,
            "width": null
          }
        },
        "0acfe035498a461a8a32ff55bc15539b": {
          "model_module": "@jupyter-widgets/controls",
          "model_name": "HBoxModel",
          "state": {
            "_dom_classes": [],
            "_model_module": "@jupyter-widgets/controls",
            "_model_module_version": "1.5.0",
            "_model_name": "HBoxModel",
            "_view_count": null,
            "_view_module": "@jupyter-widgets/controls",
            "_view_module_version": "1.5.0",
            "_view_name": "HBoxView",
            "box_style": "",
            "children": [
              "IPY_MODEL_edaefeec334e4d74b2e67fe77cab196e",
              "IPY_MODEL_0eaa00af18514024bc3495e0d879ff40"
            ],
            "layout": "IPY_MODEL_4ce0b19b08b3484a8c4a59c227ca9e64"
          }
        },
        "4ce0b19b08b3484a8c4a59c227ca9e64": {
          "model_module": "@jupyter-widgets/base",
          "model_name": "LayoutModel",
          "state": {
            "_model_module": "@jupyter-widgets/base",
            "_model_module_version": "1.2.0",
            "_model_name": "LayoutModel",
            "_view_count": null,
            "_view_module": "@jupyter-widgets/base",
            "_view_module_version": "1.2.0",
            "_view_name": "LayoutView",
            "align_content": null,
            "align_items": null,
            "align_self": null,
            "border": null,
            "bottom": null,
            "display": null,
            "flex": null,
            "flex_flow": null,
            "grid_area": null,
            "grid_auto_columns": null,
            "grid_auto_flow": null,
            "grid_auto_rows": null,
            "grid_column": null,
            "grid_gap": null,
            "grid_row": null,
            "grid_template_areas": null,
            "grid_template_columns": null,
            "grid_template_rows": null,
            "height": null,
            "justify_content": null,
            "justify_items": null,
            "left": null,
            "margin": null,
            "max_height": null,
            "max_width": null,
            "min_height": null,
            "min_width": null,
            "object_fit": null,
            "object_position": null,
            "order": null,
            "overflow": null,
            "overflow_x": null,
            "overflow_y": null,
            "padding": null,
            "right": null,
            "top": null,
            "visibility": null,
            "width": null
          }
        },
        "edaefeec334e4d74b2e67fe77cab196e": {
          "model_module": "@jupyter-widgets/controls",
          "model_name": "IntProgressModel",
          "state": {
            "_dom_classes": [],
            "_model_module": "@jupyter-widgets/controls",
            "_model_module_version": "1.5.0",
            "_model_name": "IntProgressModel",
            "_view_count": null,
            "_view_module": "@jupyter-widgets/controls",
            "_view_module_version": "1.5.0",
            "_view_name": "ProgressView",
            "bar_style": "success",
            "description": "",
            "description_tooltip": null,
            "layout": "IPY_MODEL_e727d7d13ad4499282f64d6e585de039",
            "max": 50210,
            "min": 0,
            "orientation": "horizontal",
            "style": "IPY_MODEL_c062d1f80489414a99712b66d6e49167",
            "value": 50210
          }
        },
        "0eaa00af18514024bc3495e0d879ff40": {
          "model_module": "@jupyter-widgets/controls",
          "model_name": "HTMLModel",
          "state": {
            "_dom_classes": [],
            "_model_module": "@jupyter-widgets/controls",
            "_model_module_version": "1.5.0",
            "_model_name": "HTMLModel",
            "_view_count": null,
            "_view_module": "@jupyter-widgets/controls",
            "_view_module_version": "1.5.0",
            "_view_name": "HTMLView",
            "description": "",
            "description_tooltip": null,
            "layout": "IPY_MODEL_8d405f5a526649c1a1c017f5e6e086e8",
            "placeholder": "​",
            "style": "IPY_MODEL_11dbecef994447778b87232ee437cf39",
            "value": "100% 50210/50210 [01:04&lt;00:00, 773.80it/s]"
          }
        },
        "c062d1f80489414a99712b66d6e49167": {
          "model_module": "@jupyter-widgets/controls",
          "model_name": "ProgressStyleModel",
          "state": {
            "_model_module": "@jupyter-widgets/controls",
            "_model_module_version": "1.5.0",
            "_model_name": "ProgressStyleModel",
            "_view_count": null,
            "_view_module": "@jupyter-widgets/base",
            "_view_module_version": "1.2.0",
            "_view_name": "StyleView",
            "bar_color": null,
            "description_width": ""
          }
        },
        "e727d7d13ad4499282f64d6e585de039": {
          "model_module": "@jupyter-widgets/base",
          "model_name": "LayoutModel",
          "state": {
            "_model_module": "@jupyter-widgets/base",
            "_model_module_version": "1.2.0",
            "_model_name": "LayoutModel",
            "_view_count": null,
            "_view_module": "@jupyter-widgets/base",
            "_view_module_version": "1.2.0",
            "_view_name": "LayoutView",
            "align_content": null,
            "align_items": null,
            "align_self": null,
            "border": null,
            "bottom": null,
            "display": null,
            "flex": null,
            "flex_flow": null,
            "grid_area": null,
            "grid_auto_columns": null,
            "grid_auto_flow": null,
            "grid_auto_rows": null,
            "grid_column": null,
            "grid_gap": null,
            "grid_row": null,
            "grid_template_areas": null,
            "grid_template_columns": null,
            "grid_template_rows": null,
            "height": null,
            "justify_content": null,
            "justify_items": null,
            "left": null,
            "margin": null,
            "max_height": null,
            "max_width": null,
            "min_height": null,
            "min_width": null,
            "object_fit": null,
            "object_position": null,
            "order": null,
            "overflow": null,
            "overflow_x": null,
            "overflow_y": null,
            "padding": null,
            "right": null,
            "top": null,
            "visibility": null,
            "width": null
          }
        },
        "11dbecef994447778b87232ee437cf39": {
          "model_module": "@jupyter-widgets/controls",
          "model_name": "DescriptionStyleModel",
          "state": {
            "_model_module": "@jupyter-widgets/controls",
            "_model_module_version": "1.5.0",
            "_model_name": "DescriptionStyleModel",
            "_view_count": null,
            "_view_module": "@jupyter-widgets/base",
            "_view_module_version": "1.2.0",
            "_view_name": "StyleView",
            "description_width": ""
          }
        },
        "8d405f5a526649c1a1c017f5e6e086e8": {
          "model_module": "@jupyter-widgets/base",
          "model_name": "LayoutModel",
          "state": {
            "_model_module": "@jupyter-widgets/base",
            "_model_module_version": "1.2.0",
            "_model_name": "LayoutModel",
            "_view_count": null,
            "_view_module": "@jupyter-widgets/base",
            "_view_module_version": "1.2.0",
            "_view_name": "LayoutView",
            "align_content": null,
            "align_items": null,
            "align_self": null,
            "border": null,
            "bottom": null,
            "display": null,
            "flex": null,
            "flex_flow": null,
            "grid_area": null,
            "grid_auto_columns": null,
            "grid_auto_flow": null,
            "grid_auto_rows": null,
            "grid_column": null,
            "grid_gap": null,
            "grid_row": null,
            "grid_template_areas": null,
            "grid_template_columns": null,
            "grid_template_rows": null,
            "height": null,
            "justify_content": null,
            "justify_items": null,
            "left": null,
            "margin": null,
            "max_height": null,
            "max_width": null,
            "min_height": null,
            "min_width": null,
            "object_fit": null,
            "object_position": null,
            "order": null,
            "overflow": null,
            "overflow_x": null,
            "overflow_y": null,
            "padding": null,
            "right": null,
            "top": null,
            "visibility": null,
            "width": null
          }
        },
        "bd092bd9e86e4e1687875ce0a71cfdf2": {
          "model_module": "@jupyter-widgets/controls",
          "model_name": "HBoxModel",
          "state": {
            "_dom_classes": [],
            "_model_module": "@jupyter-widgets/controls",
            "_model_module_version": "1.5.0",
            "_model_name": "HBoxModel",
            "_view_count": null,
            "_view_module": "@jupyter-widgets/controls",
            "_view_module_version": "1.5.0",
            "_view_name": "HBoxView",
            "box_style": "",
            "children": [
              "IPY_MODEL_c47c5f3695d84ee995039579b821a853",
              "IPY_MODEL_8579c98675f943cf8be0ef24699dcd61"
            ],
            "layout": "IPY_MODEL_9ed4086a52984a7cb8da8596b52b1cb3"
          }
        },
        "9ed4086a52984a7cb8da8596b52b1cb3": {
          "model_module": "@jupyter-widgets/base",
          "model_name": "LayoutModel",
          "state": {
            "_model_module": "@jupyter-widgets/base",
            "_model_module_version": "1.2.0",
            "_model_name": "LayoutModel",
            "_view_count": null,
            "_view_module": "@jupyter-widgets/base",
            "_view_module_version": "1.2.0",
            "_view_name": "LayoutView",
            "align_content": null,
            "align_items": null,
            "align_self": null,
            "border": null,
            "bottom": null,
            "display": null,
            "flex": null,
            "flex_flow": null,
            "grid_area": null,
            "grid_auto_columns": null,
            "grid_auto_flow": null,
            "grid_auto_rows": null,
            "grid_column": null,
            "grid_gap": null,
            "grid_row": null,
            "grid_template_areas": null,
            "grid_template_columns": null,
            "grid_template_rows": null,
            "height": null,
            "justify_content": null,
            "justify_items": null,
            "left": null,
            "margin": null,
            "max_height": null,
            "max_width": null,
            "min_height": null,
            "min_width": null,
            "object_fit": null,
            "object_position": null,
            "order": null,
            "overflow": null,
            "overflow_x": null,
            "overflow_y": null,
            "padding": null,
            "right": null,
            "top": null,
            "visibility": null,
            "width": null
          }
        },
        "c47c5f3695d84ee995039579b821a853": {
          "model_module": "@jupyter-widgets/controls",
          "model_name": "IntProgressModel",
          "state": {
            "_dom_classes": [],
            "_model_module": "@jupyter-widgets/controls",
            "_model_module_version": "1.5.0",
            "_model_name": "IntProgressModel",
            "_view_count": null,
            "_view_module": "@jupyter-widgets/controls",
            "_view_module_version": "1.5.0",
            "_view_name": "ProgressView",
            "bar_style": "success",
            "description": "",
            "description_tooltip": null,
            "layout": "IPY_MODEL_703d643031f349d6901f391c1b83350f",
            "max": 50210,
            "min": 0,
            "orientation": "horizontal",
            "style": "IPY_MODEL_bdce5520c13d406f9300489b1d66bf65",
            "value": 50210
          }
        },
        "8579c98675f943cf8be0ef24699dcd61": {
          "model_module": "@jupyter-widgets/controls",
          "model_name": "HTMLModel",
          "state": {
            "_dom_classes": [],
            "_model_module": "@jupyter-widgets/controls",
            "_model_module_version": "1.5.0",
            "_model_name": "HTMLModel",
            "_view_count": null,
            "_view_module": "@jupyter-widgets/controls",
            "_view_module_version": "1.5.0",
            "_view_name": "HTMLView",
            "description": "",
            "description_tooltip": null,
            "layout": "IPY_MODEL_65b1ae5e9d66412bbef36dc88138663a",
            "placeholder": "​",
            "style": "IPY_MODEL_f0e99577679b45f9b951931e89ece6d2",
            "value": "100% 50210/50210 [00:41&lt;00:00, 1208.92it/s]"
          }
        },
        "bdce5520c13d406f9300489b1d66bf65": {
          "model_module": "@jupyter-widgets/controls",
          "model_name": "ProgressStyleModel",
          "state": {
            "_model_module": "@jupyter-widgets/controls",
            "_model_module_version": "1.5.0",
            "_model_name": "ProgressStyleModel",
            "_view_count": null,
            "_view_module": "@jupyter-widgets/base",
            "_view_module_version": "1.2.0",
            "_view_name": "StyleView",
            "bar_color": null,
            "description_width": ""
          }
        },
        "703d643031f349d6901f391c1b83350f": {
          "model_module": "@jupyter-widgets/base",
          "model_name": "LayoutModel",
          "state": {
            "_model_module": "@jupyter-widgets/base",
            "_model_module_version": "1.2.0",
            "_model_name": "LayoutModel",
            "_view_count": null,
            "_view_module": "@jupyter-widgets/base",
            "_view_module_version": "1.2.0",
            "_view_name": "LayoutView",
            "align_content": null,
            "align_items": null,
            "align_self": null,
            "border": null,
            "bottom": null,
            "display": null,
            "flex": null,
            "flex_flow": null,
            "grid_area": null,
            "grid_auto_columns": null,
            "grid_auto_flow": null,
            "grid_auto_rows": null,
            "grid_column": null,
            "grid_gap": null,
            "grid_row": null,
            "grid_template_areas": null,
            "grid_template_columns": null,
            "grid_template_rows": null,
            "height": null,
            "justify_content": null,
            "justify_items": null,
            "left": null,
            "margin": null,
            "max_height": null,
            "max_width": null,
            "min_height": null,
            "min_width": null,
            "object_fit": null,
            "object_position": null,
            "order": null,
            "overflow": null,
            "overflow_x": null,
            "overflow_y": null,
            "padding": null,
            "right": null,
            "top": null,
            "visibility": null,
            "width": null
          }
        },
        "f0e99577679b45f9b951931e89ece6d2": {
          "model_module": "@jupyter-widgets/controls",
          "model_name": "DescriptionStyleModel",
          "state": {
            "_model_module": "@jupyter-widgets/controls",
            "_model_module_version": "1.5.0",
            "_model_name": "DescriptionStyleModel",
            "_view_count": null,
            "_view_module": "@jupyter-widgets/base",
            "_view_module_version": "1.2.0",
            "_view_name": "StyleView",
            "description_width": ""
          }
        },
        "65b1ae5e9d66412bbef36dc88138663a": {
          "model_module": "@jupyter-widgets/base",
          "model_name": "LayoutModel",
          "state": {
            "_model_module": "@jupyter-widgets/base",
            "_model_module_version": "1.2.0",
            "_model_name": "LayoutModel",
            "_view_count": null,
            "_view_module": "@jupyter-widgets/base",
            "_view_module_version": "1.2.0",
            "_view_name": "LayoutView",
            "align_content": null,
            "align_items": null,
            "align_self": null,
            "border": null,
            "bottom": null,
            "display": null,
            "flex": null,
            "flex_flow": null,
            "grid_area": null,
            "grid_auto_columns": null,
            "grid_auto_flow": null,
            "grid_auto_rows": null,
            "grid_column": null,
            "grid_gap": null,
            "grid_row": null,
            "grid_template_areas": null,
            "grid_template_columns": null,
            "grid_template_rows": null,
            "height": null,
            "justify_content": null,
            "justify_items": null,
            "left": null,
            "margin": null,
            "max_height": null,
            "max_width": null,
            "min_height": null,
            "min_width": null,
            "object_fit": null,
            "object_position": null,
            "order": null,
            "overflow": null,
            "overflow_x": null,
            "overflow_y": null,
            "padding": null,
            "right": null,
            "top": null,
            "visibility": null,
            "width": null
          }
        },
        "7ea92eec3b9f4baba7af7da3d5842a80": {
          "model_module": "@jupyter-widgets/controls",
          "model_name": "HBoxModel",
          "state": {
            "_dom_classes": [],
            "_model_module": "@jupyter-widgets/controls",
            "_model_module_version": "1.5.0",
            "_model_name": "HBoxModel",
            "_view_count": null,
            "_view_module": "@jupyter-widgets/controls",
            "_view_module_version": "1.5.0",
            "_view_name": "HBoxView",
            "box_style": "",
            "children": [
              "IPY_MODEL_87f57d3521164703970531cbca981317",
              "IPY_MODEL_c11c46a768764251ad52cd850ebbf19d"
            ],
            "layout": "IPY_MODEL_975a245e1a4443eba22930e0b8fa3374"
          }
        },
        "975a245e1a4443eba22930e0b8fa3374": {
          "model_module": "@jupyter-widgets/base",
          "model_name": "LayoutModel",
          "state": {
            "_model_module": "@jupyter-widgets/base",
            "_model_module_version": "1.2.0",
            "_model_name": "LayoutModel",
            "_view_count": null,
            "_view_module": "@jupyter-widgets/base",
            "_view_module_version": "1.2.0",
            "_view_name": "LayoutView",
            "align_content": null,
            "align_items": null,
            "align_self": null,
            "border": null,
            "bottom": null,
            "display": null,
            "flex": null,
            "flex_flow": null,
            "grid_area": null,
            "grid_auto_columns": null,
            "grid_auto_flow": null,
            "grid_auto_rows": null,
            "grid_column": null,
            "grid_gap": null,
            "grid_row": null,
            "grid_template_areas": null,
            "grid_template_columns": null,
            "grid_template_rows": null,
            "height": null,
            "justify_content": null,
            "justify_items": null,
            "left": null,
            "margin": null,
            "max_height": null,
            "max_width": null,
            "min_height": null,
            "min_width": null,
            "object_fit": null,
            "object_position": null,
            "order": null,
            "overflow": null,
            "overflow_x": null,
            "overflow_y": null,
            "padding": null,
            "right": null,
            "top": null,
            "visibility": null,
            "width": null
          }
        },
        "87f57d3521164703970531cbca981317": {
          "model_module": "@jupyter-widgets/controls",
          "model_name": "IntProgressModel",
          "state": {
            "_dom_classes": [],
            "_model_module": "@jupyter-widgets/controls",
            "_model_module_version": "1.5.0",
            "_model_name": "IntProgressModel",
            "_view_count": null,
            "_view_module": "@jupyter-widgets/controls",
            "_view_module_version": "1.5.0",
            "_view_name": "ProgressView",
            "bar_style": "success",
            "description": "",
            "description_tooltip": null,
            "layout": "IPY_MODEL_15de3f04485247e1bca611f3020215ee",
            "max": 50210,
            "min": 0,
            "orientation": "horizontal",
            "style": "IPY_MODEL_f4ce203bfc0b428f84f045ba5c21da72",
            "value": 50210
          }
        },
        "c11c46a768764251ad52cd850ebbf19d": {
          "model_module": "@jupyter-widgets/controls",
          "model_name": "HTMLModel",
          "state": {
            "_dom_classes": [],
            "_model_module": "@jupyter-widgets/controls",
            "_model_module_version": "1.5.0",
            "_model_name": "HTMLModel",
            "_view_count": null,
            "_view_module": "@jupyter-widgets/controls",
            "_view_module_version": "1.5.0",
            "_view_name": "HTMLView",
            "description": "",
            "description_tooltip": null,
            "layout": "IPY_MODEL_ebe34bf91bbd417e939cc46e35231b84",
            "placeholder": "​",
            "style": "IPY_MODEL_bbb1f956fb6940fe8b3aaf99706303b2",
            "value": "100% 50210/50210 [00:42&lt;00:00, 1189.86it/s]"
          }
        },
        "f4ce203bfc0b428f84f045ba5c21da72": {
          "model_module": "@jupyter-widgets/controls",
          "model_name": "ProgressStyleModel",
          "state": {
            "_model_module": "@jupyter-widgets/controls",
            "_model_module_version": "1.5.0",
            "_model_name": "ProgressStyleModel",
            "_view_count": null,
            "_view_module": "@jupyter-widgets/base",
            "_view_module_version": "1.2.0",
            "_view_name": "StyleView",
            "bar_color": null,
            "description_width": ""
          }
        },
        "15de3f04485247e1bca611f3020215ee": {
          "model_module": "@jupyter-widgets/base",
          "model_name": "LayoutModel",
          "state": {
            "_model_module": "@jupyter-widgets/base",
            "_model_module_version": "1.2.0",
            "_model_name": "LayoutModel",
            "_view_count": null,
            "_view_module": "@jupyter-widgets/base",
            "_view_module_version": "1.2.0",
            "_view_name": "LayoutView",
            "align_content": null,
            "align_items": null,
            "align_self": null,
            "border": null,
            "bottom": null,
            "display": null,
            "flex": null,
            "flex_flow": null,
            "grid_area": null,
            "grid_auto_columns": null,
            "grid_auto_flow": null,
            "grid_auto_rows": null,
            "grid_column": null,
            "grid_gap": null,
            "grid_row": null,
            "grid_template_areas": null,
            "grid_template_columns": null,
            "grid_template_rows": null,
            "height": null,
            "justify_content": null,
            "justify_items": null,
            "left": null,
            "margin": null,
            "max_height": null,
            "max_width": null,
            "min_height": null,
            "min_width": null,
            "object_fit": null,
            "object_position": null,
            "order": null,
            "overflow": null,
            "overflow_x": null,
            "overflow_y": null,
            "padding": null,
            "right": null,
            "top": null,
            "visibility": null,
            "width": null
          }
        },
        "bbb1f956fb6940fe8b3aaf99706303b2": {
          "model_module": "@jupyter-widgets/controls",
          "model_name": "DescriptionStyleModel",
          "state": {
            "_model_module": "@jupyter-widgets/controls",
            "_model_module_version": "1.5.0",
            "_model_name": "DescriptionStyleModel",
            "_view_count": null,
            "_view_module": "@jupyter-widgets/base",
            "_view_module_version": "1.2.0",
            "_view_name": "StyleView",
            "description_width": ""
          }
        },
        "ebe34bf91bbd417e939cc46e35231b84": {
          "model_module": "@jupyter-widgets/base",
          "model_name": "LayoutModel",
          "state": {
            "_model_module": "@jupyter-widgets/base",
            "_model_module_version": "1.2.0",
            "_model_name": "LayoutModel",
            "_view_count": null,
            "_view_module": "@jupyter-widgets/base",
            "_view_module_version": "1.2.0",
            "_view_name": "LayoutView",
            "align_content": null,
            "align_items": null,
            "align_self": null,
            "border": null,
            "bottom": null,
            "display": null,
            "flex": null,
            "flex_flow": null,
            "grid_area": null,
            "grid_auto_columns": null,
            "grid_auto_flow": null,
            "grid_auto_rows": null,
            "grid_column": null,
            "grid_gap": null,
            "grid_row": null,
            "grid_template_areas": null,
            "grid_template_columns": null,
            "grid_template_rows": null,
            "height": null,
            "justify_content": null,
            "justify_items": null,
            "left": null,
            "margin": null,
            "max_height": null,
            "max_width": null,
            "min_height": null,
            "min_width": null,
            "object_fit": null,
            "object_position": null,
            "order": null,
            "overflow": null,
            "overflow_x": null,
            "overflow_y": null,
            "padding": null,
            "right": null,
            "top": null,
            "visibility": null,
            "width": null
          }
        },
        "90f94de5e8ab49cc8c356a9a74f9bff3": {
          "model_module": "@jupyter-widgets/controls",
          "model_name": "HBoxModel",
          "state": {
            "_dom_classes": [],
            "_model_module": "@jupyter-widgets/controls",
            "_model_module_version": "1.5.0",
            "_model_name": "HBoxModel",
            "_view_count": null,
            "_view_module": "@jupyter-widgets/controls",
            "_view_module_version": "1.5.0",
            "_view_name": "HBoxView",
            "box_style": "",
            "children": [
              "IPY_MODEL_54e5b51d37f94a4381d9d65d7b2b9f47",
              "IPY_MODEL_ddbd3a07e93c4ab4b74146ed55880ede"
            ],
            "layout": "IPY_MODEL_cea6e2ee167049c791f60c069987f745"
          }
        },
        "cea6e2ee167049c791f60c069987f745": {
          "model_module": "@jupyter-widgets/base",
          "model_name": "LayoutModel",
          "state": {
            "_model_module": "@jupyter-widgets/base",
            "_model_module_version": "1.2.0",
            "_model_name": "LayoutModel",
            "_view_count": null,
            "_view_module": "@jupyter-widgets/base",
            "_view_module_version": "1.2.0",
            "_view_name": "LayoutView",
            "align_content": null,
            "align_items": null,
            "align_self": null,
            "border": null,
            "bottom": null,
            "display": null,
            "flex": null,
            "flex_flow": null,
            "grid_area": null,
            "grid_auto_columns": null,
            "grid_auto_flow": null,
            "grid_auto_rows": null,
            "grid_column": null,
            "grid_gap": null,
            "grid_row": null,
            "grid_template_areas": null,
            "grid_template_columns": null,
            "grid_template_rows": null,
            "height": null,
            "justify_content": null,
            "justify_items": null,
            "left": null,
            "margin": null,
            "max_height": null,
            "max_width": null,
            "min_height": null,
            "min_width": null,
            "object_fit": null,
            "object_position": null,
            "order": null,
            "overflow": null,
            "overflow_x": null,
            "overflow_y": null,
            "padding": null,
            "right": null,
            "top": null,
            "visibility": null,
            "width": null
          }
        },
        "54e5b51d37f94a4381d9d65d7b2b9f47": {
          "model_module": "@jupyter-widgets/controls",
          "model_name": "IntProgressModel",
          "state": {
            "_dom_classes": [],
            "_model_module": "@jupyter-widgets/controls",
            "_model_module_version": "1.5.0",
            "_model_name": "IntProgressModel",
            "_view_count": null,
            "_view_module": "@jupyter-widgets/controls",
            "_view_module_version": "1.5.0",
            "_view_name": "ProgressView",
            "bar_style": "success",
            "description": "",
            "description_tooltip": null,
            "layout": "IPY_MODEL_8db4097598884b14b4cbb6d93501adbb",
            "max": 50210,
            "min": 0,
            "orientation": "horizontal",
            "style": "IPY_MODEL_b7de67c893574017982c843ab94a443a",
            "value": 50210
          }
        },
        "ddbd3a07e93c4ab4b74146ed55880ede": {
          "model_module": "@jupyter-widgets/controls",
          "model_name": "HTMLModel",
          "state": {
            "_dom_classes": [],
            "_model_module": "@jupyter-widgets/controls",
            "_model_module_version": "1.5.0",
            "_model_name": "HTMLModel",
            "_view_count": null,
            "_view_module": "@jupyter-widgets/controls",
            "_view_module_version": "1.5.0",
            "_view_name": "HTMLView",
            "description": "",
            "description_tooltip": null,
            "layout": "IPY_MODEL_613c72c43feb42d0ad1f78b7abd9bc34",
            "placeholder": "​",
            "style": "IPY_MODEL_2c2c43c20bcc4f068bad2cd072654f63",
            "value": "100% 50210/50210 [00:41&lt;00:00, 1200.80it/s]"
          }
        },
        "b7de67c893574017982c843ab94a443a": {
          "model_module": "@jupyter-widgets/controls",
          "model_name": "ProgressStyleModel",
          "state": {
            "_model_module": "@jupyter-widgets/controls",
            "_model_module_version": "1.5.0",
            "_model_name": "ProgressStyleModel",
            "_view_count": null,
            "_view_module": "@jupyter-widgets/base",
            "_view_module_version": "1.2.0",
            "_view_name": "StyleView",
            "bar_color": null,
            "description_width": ""
          }
        },
        "8db4097598884b14b4cbb6d93501adbb": {
          "model_module": "@jupyter-widgets/base",
          "model_name": "LayoutModel",
          "state": {
            "_model_module": "@jupyter-widgets/base",
            "_model_module_version": "1.2.0",
            "_model_name": "LayoutModel",
            "_view_count": null,
            "_view_module": "@jupyter-widgets/base",
            "_view_module_version": "1.2.0",
            "_view_name": "LayoutView",
            "align_content": null,
            "align_items": null,
            "align_self": null,
            "border": null,
            "bottom": null,
            "display": null,
            "flex": null,
            "flex_flow": null,
            "grid_area": null,
            "grid_auto_columns": null,
            "grid_auto_flow": null,
            "grid_auto_rows": null,
            "grid_column": null,
            "grid_gap": null,
            "grid_row": null,
            "grid_template_areas": null,
            "grid_template_columns": null,
            "grid_template_rows": null,
            "height": null,
            "justify_content": null,
            "justify_items": null,
            "left": null,
            "margin": null,
            "max_height": null,
            "max_width": null,
            "min_height": null,
            "min_width": null,
            "object_fit": null,
            "object_position": null,
            "order": null,
            "overflow": null,
            "overflow_x": null,
            "overflow_y": null,
            "padding": null,
            "right": null,
            "top": null,
            "visibility": null,
            "width": null
          }
        },
        "2c2c43c20bcc4f068bad2cd072654f63": {
          "model_module": "@jupyter-widgets/controls",
          "model_name": "DescriptionStyleModel",
          "state": {
            "_model_module": "@jupyter-widgets/controls",
            "_model_module_version": "1.5.0",
            "_model_name": "DescriptionStyleModel",
            "_view_count": null,
            "_view_module": "@jupyter-widgets/base",
            "_view_module_version": "1.2.0",
            "_view_name": "StyleView",
            "description_width": ""
          }
        },
        "613c72c43feb42d0ad1f78b7abd9bc34": {
          "model_module": "@jupyter-widgets/base",
          "model_name": "LayoutModel",
          "state": {
            "_model_module": "@jupyter-widgets/base",
            "_model_module_version": "1.2.0",
            "_model_name": "LayoutModel",
            "_view_count": null,
            "_view_module": "@jupyter-widgets/base",
            "_view_module_version": "1.2.0",
            "_view_name": "LayoutView",
            "align_content": null,
            "align_items": null,
            "align_self": null,
            "border": null,
            "bottom": null,
            "display": null,
            "flex": null,
            "flex_flow": null,
            "grid_area": null,
            "grid_auto_columns": null,
            "grid_auto_flow": null,
            "grid_auto_rows": null,
            "grid_column": null,
            "grid_gap": null,
            "grid_row": null,
            "grid_template_areas": null,
            "grid_template_columns": null,
            "grid_template_rows": null,
            "height": null,
            "justify_content": null,
            "justify_items": null,
            "left": null,
            "margin": null,
            "max_height": null,
            "max_width": null,
            "min_height": null,
            "min_width": null,
            "object_fit": null,
            "object_position": null,
            "order": null,
            "overflow": null,
            "overflow_x": null,
            "overflow_y": null,
            "padding": null,
            "right": null,
            "top": null,
            "visibility": null,
            "width": null
          }
        },
        "d55200a0fdb147ea9a9d3f3458b2f59e": {
          "model_module": "@jupyter-widgets/controls",
          "model_name": "HBoxModel",
          "state": {
            "_dom_classes": [],
            "_model_module": "@jupyter-widgets/controls",
            "_model_module_version": "1.5.0",
            "_model_name": "HBoxModel",
            "_view_count": null,
            "_view_module": "@jupyter-widgets/controls",
            "_view_module_version": "1.5.0",
            "_view_name": "HBoxView",
            "box_style": "",
            "children": [
              "IPY_MODEL_a873d5b3a0ff4e389d962526ae879cdc",
              "IPY_MODEL_c2a0729b952c4a168ea1ad931fe5fb3e"
            ],
            "layout": "IPY_MODEL_5a7b5f578c00466fb4e16ce0db270741"
          }
        },
        "5a7b5f578c00466fb4e16ce0db270741": {
          "model_module": "@jupyter-widgets/base",
          "model_name": "LayoutModel",
          "state": {
            "_model_module": "@jupyter-widgets/base",
            "_model_module_version": "1.2.0",
            "_model_name": "LayoutModel",
            "_view_count": null,
            "_view_module": "@jupyter-widgets/base",
            "_view_module_version": "1.2.0",
            "_view_name": "LayoutView",
            "align_content": null,
            "align_items": null,
            "align_self": null,
            "border": null,
            "bottom": null,
            "display": null,
            "flex": null,
            "flex_flow": null,
            "grid_area": null,
            "grid_auto_columns": null,
            "grid_auto_flow": null,
            "grid_auto_rows": null,
            "grid_column": null,
            "grid_gap": null,
            "grid_row": null,
            "grid_template_areas": null,
            "grid_template_columns": null,
            "grid_template_rows": null,
            "height": null,
            "justify_content": null,
            "justify_items": null,
            "left": null,
            "margin": null,
            "max_height": null,
            "max_width": null,
            "min_height": null,
            "min_width": null,
            "object_fit": null,
            "object_position": null,
            "order": null,
            "overflow": null,
            "overflow_x": null,
            "overflow_y": null,
            "padding": null,
            "right": null,
            "top": null,
            "visibility": null,
            "width": null
          }
        },
        "a873d5b3a0ff4e389d962526ae879cdc": {
          "model_module": "@jupyter-widgets/controls",
          "model_name": "IntProgressModel",
          "state": {
            "_dom_classes": [],
            "_model_module": "@jupyter-widgets/controls",
            "_model_module_version": "1.5.0",
            "_model_name": "IntProgressModel",
            "_view_count": null,
            "_view_module": "@jupyter-widgets/controls",
            "_view_module_version": "1.5.0",
            "_view_name": "ProgressView",
            "bar_style": "success",
            "description": "",
            "description_tooltip": null,
            "layout": "IPY_MODEL_1ba7a47f7d374bca95daefa14095b928",
            "max": 50210,
            "min": 0,
            "orientation": "horizontal",
            "style": "IPY_MODEL_3c055742da51482284d0694cac7aa12d",
            "value": 50210
          }
        },
        "c2a0729b952c4a168ea1ad931fe5fb3e": {
          "model_module": "@jupyter-widgets/controls",
          "model_name": "HTMLModel",
          "state": {
            "_dom_classes": [],
            "_model_module": "@jupyter-widgets/controls",
            "_model_module_version": "1.5.0",
            "_model_name": "HTMLModel",
            "_view_count": null,
            "_view_module": "@jupyter-widgets/controls",
            "_view_module_version": "1.5.0",
            "_view_name": "HTMLView",
            "description": "",
            "description_tooltip": null,
            "layout": "IPY_MODEL_63bcaf531cf84c5cab9fb53c66a4cc0c",
            "placeholder": "​",
            "style": "IPY_MODEL_27f32fdd65fa4cfcbeb248da9284641f",
            "value": "100% 50210/50210 [00:41&lt;00:00, 1215.38it/s]"
          }
        },
        "3c055742da51482284d0694cac7aa12d": {
          "model_module": "@jupyter-widgets/controls",
          "model_name": "ProgressStyleModel",
          "state": {
            "_model_module": "@jupyter-widgets/controls",
            "_model_module_version": "1.5.0",
            "_model_name": "ProgressStyleModel",
            "_view_count": null,
            "_view_module": "@jupyter-widgets/base",
            "_view_module_version": "1.2.0",
            "_view_name": "StyleView",
            "bar_color": null,
            "description_width": ""
          }
        },
        "1ba7a47f7d374bca95daefa14095b928": {
          "model_module": "@jupyter-widgets/base",
          "model_name": "LayoutModel",
          "state": {
            "_model_module": "@jupyter-widgets/base",
            "_model_module_version": "1.2.0",
            "_model_name": "LayoutModel",
            "_view_count": null,
            "_view_module": "@jupyter-widgets/base",
            "_view_module_version": "1.2.0",
            "_view_name": "LayoutView",
            "align_content": null,
            "align_items": null,
            "align_self": null,
            "border": null,
            "bottom": null,
            "display": null,
            "flex": null,
            "flex_flow": null,
            "grid_area": null,
            "grid_auto_columns": null,
            "grid_auto_flow": null,
            "grid_auto_rows": null,
            "grid_column": null,
            "grid_gap": null,
            "grid_row": null,
            "grid_template_areas": null,
            "grid_template_columns": null,
            "grid_template_rows": null,
            "height": null,
            "justify_content": null,
            "justify_items": null,
            "left": null,
            "margin": null,
            "max_height": null,
            "max_width": null,
            "min_height": null,
            "min_width": null,
            "object_fit": null,
            "object_position": null,
            "order": null,
            "overflow": null,
            "overflow_x": null,
            "overflow_y": null,
            "padding": null,
            "right": null,
            "top": null,
            "visibility": null,
            "width": null
          }
        },
        "27f32fdd65fa4cfcbeb248da9284641f": {
          "model_module": "@jupyter-widgets/controls",
          "model_name": "DescriptionStyleModel",
          "state": {
            "_model_module": "@jupyter-widgets/controls",
            "_model_module_version": "1.5.0",
            "_model_name": "DescriptionStyleModel",
            "_view_count": null,
            "_view_module": "@jupyter-widgets/base",
            "_view_module_version": "1.2.0",
            "_view_name": "StyleView",
            "description_width": ""
          }
        },
        "63bcaf531cf84c5cab9fb53c66a4cc0c": {
          "model_module": "@jupyter-widgets/base",
          "model_name": "LayoutModel",
          "state": {
            "_model_module": "@jupyter-widgets/base",
            "_model_module_version": "1.2.0",
            "_model_name": "LayoutModel",
            "_view_count": null,
            "_view_module": "@jupyter-widgets/base",
            "_view_module_version": "1.2.0",
            "_view_name": "LayoutView",
            "align_content": null,
            "align_items": null,
            "align_self": null,
            "border": null,
            "bottom": null,
            "display": null,
            "flex": null,
            "flex_flow": null,
            "grid_area": null,
            "grid_auto_columns": null,
            "grid_auto_flow": null,
            "grid_auto_rows": null,
            "grid_column": null,
            "grid_gap": null,
            "grid_row": null,
            "grid_template_areas": null,
            "grid_template_columns": null,
            "grid_template_rows": null,
            "height": null,
            "justify_content": null,
            "justify_items": null,
            "left": null,
            "margin": null,
            "max_height": null,
            "max_width": null,
            "min_height": null,
            "min_width": null,
            "object_fit": null,
            "object_position": null,
            "order": null,
            "overflow": null,
            "overflow_x": null,
            "overflow_y": null,
            "padding": null,
            "right": null,
            "top": null,
            "visibility": null,
            "width": null
          }
        },
        "85cb4e496cee448faeefff4251fd6947": {
          "model_module": "@jupyter-widgets/controls",
          "model_name": "HBoxModel",
          "state": {
            "_dom_classes": [],
            "_model_module": "@jupyter-widgets/controls",
            "_model_module_version": "1.5.0",
            "_model_name": "HBoxModel",
            "_view_count": null,
            "_view_module": "@jupyter-widgets/controls",
            "_view_module_version": "1.5.0",
            "_view_name": "HBoxView",
            "box_style": "",
            "children": [
              "IPY_MODEL_52ac3e96fcb947e683ba8adb1094cd73",
              "IPY_MODEL_79f984a071b74f0692a8f03da967e1b8"
            ],
            "layout": "IPY_MODEL_1b5bc9f566594d279197b04131b7fd2c"
          }
        },
        "1b5bc9f566594d279197b04131b7fd2c": {
          "model_module": "@jupyter-widgets/base",
          "model_name": "LayoutModel",
          "state": {
            "_model_module": "@jupyter-widgets/base",
            "_model_module_version": "1.2.0",
            "_model_name": "LayoutModel",
            "_view_count": null,
            "_view_module": "@jupyter-widgets/base",
            "_view_module_version": "1.2.0",
            "_view_name": "LayoutView",
            "align_content": null,
            "align_items": null,
            "align_self": null,
            "border": null,
            "bottom": null,
            "display": null,
            "flex": null,
            "flex_flow": null,
            "grid_area": null,
            "grid_auto_columns": null,
            "grid_auto_flow": null,
            "grid_auto_rows": null,
            "grid_column": null,
            "grid_gap": null,
            "grid_row": null,
            "grid_template_areas": null,
            "grid_template_columns": null,
            "grid_template_rows": null,
            "height": null,
            "justify_content": null,
            "justify_items": null,
            "left": null,
            "margin": null,
            "max_height": null,
            "max_width": null,
            "min_height": null,
            "min_width": null,
            "object_fit": null,
            "object_position": null,
            "order": null,
            "overflow": null,
            "overflow_x": null,
            "overflow_y": null,
            "padding": null,
            "right": null,
            "top": null,
            "visibility": null,
            "width": null
          }
        },
        "52ac3e96fcb947e683ba8adb1094cd73": {
          "model_module": "@jupyter-widgets/controls",
          "model_name": "IntProgressModel",
          "state": {
            "_dom_classes": [],
            "_model_module": "@jupyter-widgets/controls",
            "_model_module_version": "1.5.0",
            "_model_name": "IntProgressModel",
            "_view_count": null,
            "_view_module": "@jupyter-widgets/controls",
            "_view_module_version": "1.5.0",
            "_view_name": "ProgressView",
            "bar_style": "success",
            "description": "Part 0",
            "description_tooltip": null,
            "layout": "IPY_MODEL_a91cd587012b47bb9afafb764feedf00",
            "max": 50210,
            "min": 0,
            "orientation": "horizontal",
            "style": "IPY_MODEL_e6238ebab0e843699c133780cf5e5982",
            "value": 50210
          }
        },
        "79f984a071b74f0692a8f03da967e1b8": {
          "model_module": "@jupyter-widgets/controls",
          "model_name": "HTMLModel",
          "state": {
            "_dom_classes": [],
            "_model_module": "@jupyter-widgets/controls",
            "_model_module_version": "1.5.0",
            "_model_name": "HTMLModel",
            "_view_count": null,
            "_view_module": "@jupyter-widgets/controls",
            "_view_module_version": "1.5.0",
            "_view_name": "HTMLView",
            "description": "",
            "description_tooltip": null,
            "layout": "IPY_MODEL_0fb0688cb97443c09dbe811a357146fe",
            "placeholder": "​",
            "style": "IPY_MODEL_e13ee7cd674a4c1d972f3e73dbd46024",
            "value": "100% 50210/50210 [00:40&lt;00:00, 1239.54it/s]"
          }
        },
        "e6238ebab0e843699c133780cf5e5982": {
          "model_module": "@jupyter-widgets/controls",
          "model_name": "ProgressStyleModel",
          "state": {
            "_model_module": "@jupyter-widgets/controls",
            "_model_module_version": "1.5.0",
            "_model_name": "ProgressStyleModel",
            "_view_count": null,
            "_view_module": "@jupyter-widgets/base",
            "_view_module_version": "1.2.0",
            "_view_name": "StyleView",
            "bar_color": null,
            "description_width": "initial"
          }
        },
        "a91cd587012b47bb9afafb764feedf00": {
          "model_module": "@jupyter-widgets/base",
          "model_name": "LayoutModel",
          "state": {
            "_model_module": "@jupyter-widgets/base",
            "_model_module_version": "1.2.0",
            "_model_name": "LayoutModel",
            "_view_count": null,
            "_view_module": "@jupyter-widgets/base",
            "_view_module_version": "1.2.0",
            "_view_name": "LayoutView",
            "align_content": null,
            "align_items": null,
            "align_self": null,
            "border": null,
            "bottom": null,
            "display": null,
            "flex": null,
            "flex_flow": null,
            "grid_area": null,
            "grid_auto_columns": null,
            "grid_auto_flow": null,
            "grid_auto_rows": null,
            "grid_column": null,
            "grid_gap": null,
            "grid_row": null,
            "grid_template_areas": null,
            "grid_template_columns": null,
            "grid_template_rows": null,
            "height": null,
            "justify_content": null,
            "justify_items": null,
            "left": null,
            "margin": null,
            "max_height": null,
            "max_width": null,
            "min_height": null,
            "min_width": null,
            "object_fit": null,
            "object_position": null,
            "order": null,
            "overflow": null,
            "overflow_x": null,
            "overflow_y": null,
            "padding": null,
            "right": null,
            "top": null,
            "visibility": null,
            "width": null
          }
        },
        "e13ee7cd674a4c1d972f3e73dbd46024": {
          "model_module": "@jupyter-widgets/controls",
          "model_name": "DescriptionStyleModel",
          "state": {
            "_model_module": "@jupyter-widgets/controls",
            "_model_module_version": "1.5.0",
            "_model_name": "DescriptionStyleModel",
            "_view_count": null,
            "_view_module": "@jupyter-widgets/base",
            "_view_module_version": "1.2.0",
            "_view_name": "StyleView",
            "description_width": ""
          }
        },
        "0fb0688cb97443c09dbe811a357146fe": {
          "model_module": "@jupyter-widgets/base",
          "model_name": "LayoutModel",
          "state": {
            "_model_module": "@jupyter-widgets/base",
            "_model_module_version": "1.2.0",
            "_model_name": "LayoutModel",
            "_view_count": null,
            "_view_module": "@jupyter-widgets/base",
            "_view_module_version": "1.2.0",
            "_view_name": "LayoutView",
            "align_content": null,
            "align_items": null,
            "align_self": null,
            "border": null,
            "bottom": null,
            "display": null,
            "flex": null,
            "flex_flow": null,
            "grid_area": null,
            "grid_auto_columns": null,
            "grid_auto_flow": null,
            "grid_auto_rows": null,
            "grid_column": null,
            "grid_gap": null,
            "grid_row": null,
            "grid_template_areas": null,
            "grid_template_columns": null,
            "grid_template_rows": null,
            "height": null,
            "justify_content": null,
            "justify_items": null,
            "left": null,
            "margin": null,
            "max_height": null,
            "max_width": null,
            "min_height": null,
            "min_width": null,
            "object_fit": null,
            "object_position": null,
            "order": null,
            "overflow": null,
            "overflow_x": null,
            "overflow_y": null,
            "padding": null,
            "right": null,
            "top": null,
            "visibility": null,
            "width": null
          }
        },
        "82afc93e82f544fa9b77263ff4f4476b": {
          "model_module": "@jupyter-widgets/controls",
          "model_name": "HBoxModel",
          "state": {
            "_dom_classes": [],
            "_model_module": "@jupyter-widgets/controls",
            "_model_module_version": "1.5.0",
            "_model_name": "HBoxModel",
            "_view_count": null,
            "_view_module": "@jupyter-widgets/controls",
            "_view_module_version": "1.5.0",
            "_view_name": "HBoxView",
            "box_style": "",
            "children": [
              "IPY_MODEL_66f5ab3c0f9041469212c4f26b1a9d89",
              "IPY_MODEL_038ff7ed3fc64ecdac06f9d5ad10b81a"
            ],
            "layout": "IPY_MODEL_3a27ca226f1545308d5b19147a5bc39f"
          }
        },
        "3a27ca226f1545308d5b19147a5bc39f": {
          "model_module": "@jupyter-widgets/base",
          "model_name": "LayoutModel",
          "state": {
            "_model_module": "@jupyter-widgets/base",
            "_model_module_version": "1.2.0",
            "_model_name": "LayoutModel",
            "_view_count": null,
            "_view_module": "@jupyter-widgets/base",
            "_view_module_version": "1.2.0",
            "_view_name": "LayoutView",
            "align_content": null,
            "align_items": null,
            "align_self": null,
            "border": null,
            "bottom": null,
            "display": null,
            "flex": null,
            "flex_flow": null,
            "grid_area": null,
            "grid_auto_columns": null,
            "grid_auto_flow": null,
            "grid_auto_rows": null,
            "grid_column": null,
            "grid_gap": null,
            "grid_row": null,
            "grid_template_areas": null,
            "grid_template_columns": null,
            "grid_template_rows": null,
            "height": null,
            "justify_content": null,
            "justify_items": null,
            "left": null,
            "margin": null,
            "max_height": null,
            "max_width": null,
            "min_height": null,
            "min_width": null,
            "object_fit": null,
            "object_position": null,
            "order": null,
            "overflow": null,
            "overflow_x": null,
            "overflow_y": null,
            "padding": null,
            "right": null,
            "top": null,
            "visibility": null,
            "width": null
          }
        },
        "66f5ab3c0f9041469212c4f26b1a9d89": {
          "model_module": "@jupyter-widgets/controls",
          "model_name": "IntProgressModel",
          "state": {
            "_dom_classes": [],
            "_model_module": "@jupyter-widgets/controls",
            "_model_module_version": "1.5.0",
            "_model_name": "IntProgressModel",
            "_view_count": null,
            "_view_module": "@jupyter-widgets/controls",
            "_view_module_version": "1.5.0",
            "_view_name": "ProgressView",
            "bar_style": "success",
            "description": "Part 1",
            "description_tooltip": null,
            "layout": "IPY_MODEL_b0232c1d8be445e6b70d2e56ab607cdd",
            "max": 50210,
            "min": 0,
            "orientation": "horizontal",
            "style": "IPY_MODEL_9534778bf2ac47fd95a66192f09b001d",
            "value": 50210
          }
        },
        "038ff7ed3fc64ecdac06f9d5ad10b81a": {
          "model_module": "@jupyter-widgets/controls",
          "model_name": "HTMLModel",
          "state": {
            "_dom_classes": [],
            "_model_module": "@jupyter-widgets/controls",
            "_model_module_version": "1.5.0",
            "_model_name": "HTMLModel",
            "_view_count": null,
            "_view_module": "@jupyter-widgets/controls",
            "_view_module_version": "1.5.0",
            "_view_name": "HTMLView",
            "description": "",
            "description_tooltip": null,
            "layout": "IPY_MODEL_884a4229aa574bb6a3bbe025574ebe36",
            "placeholder": "​",
            "style": "IPY_MODEL_e0dee7d41e8c441e841c152b5933013d",
            "value": "100% 50210/50210 [00:40&lt;00:00, 1236.90it/s]"
          }
        },
        "9534778bf2ac47fd95a66192f09b001d": {
          "model_module": "@jupyter-widgets/controls",
          "model_name": "ProgressStyleModel",
          "state": {
            "_model_module": "@jupyter-widgets/controls",
            "_model_module_version": "1.5.0",
            "_model_name": "ProgressStyleModel",
            "_view_count": null,
            "_view_module": "@jupyter-widgets/base",
            "_view_module_version": "1.2.0",
            "_view_name": "StyleView",
            "bar_color": null,
            "description_width": "initial"
          }
        },
        "b0232c1d8be445e6b70d2e56ab607cdd": {
          "model_module": "@jupyter-widgets/base",
          "model_name": "LayoutModel",
          "state": {
            "_model_module": "@jupyter-widgets/base",
            "_model_module_version": "1.2.0",
            "_model_name": "LayoutModel",
            "_view_count": null,
            "_view_module": "@jupyter-widgets/base",
            "_view_module_version": "1.2.0",
            "_view_name": "LayoutView",
            "align_content": null,
            "align_items": null,
            "align_self": null,
            "border": null,
            "bottom": null,
            "display": null,
            "flex": null,
            "flex_flow": null,
            "grid_area": null,
            "grid_auto_columns": null,
            "grid_auto_flow": null,
            "grid_auto_rows": null,
            "grid_column": null,
            "grid_gap": null,
            "grid_row": null,
            "grid_template_areas": null,
            "grid_template_columns": null,
            "grid_template_rows": null,
            "height": null,
            "justify_content": null,
            "justify_items": null,
            "left": null,
            "margin": null,
            "max_height": null,
            "max_width": null,
            "min_height": null,
            "min_width": null,
            "object_fit": null,
            "object_position": null,
            "order": null,
            "overflow": null,
            "overflow_x": null,
            "overflow_y": null,
            "padding": null,
            "right": null,
            "top": null,
            "visibility": null,
            "width": null
          }
        },
        "e0dee7d41e8c441e841c152b5933013d": {
          "model_module": "@jupyter-widgets/controls",
          "model_name": "DescriptionStyleModel",
          "state": {
            "_model_module": "@jupyter-widgets/controls",
            "_model_module_version": "1.5.0",
            "_model_name": "DescriptionStyleModel",
            "_view_count": null,
            "_view_module": "@jupyter-widgets/base",
            "_view_module_version": "1.2.0",
            "_view_name": "StyleView",
            "description_width": ""
          }
        },
        "884a4229aa574bb6a3bbe025574ebe36": {
          "model_module": "@jupyter-widgets/base",
          "model_name": "LayoutModel",
          "state": {
            "_model_module": "@jupyter-widgets/base",
            "_model_module_version": "1.2.0",
            "_model_name": "LayoutModel",
            "_view_count": null,
            "_view_module": "@jupyter-widgets/base",
            "_view_module_version": "1.2.0",
            "_view_name": "LayoutView",
            "align_content": null,
            "align_items": null,
            "align_self": null,
            "border": null,
            "bottom": null,
            "display": null,
            "flex": null,
            "flex_flow": null,
            "grid_area": null,
            "grid_auto_columns": null,
            "grid_auto_flow": null,
            "grid_auto_rows": null,
            "grid_column": null,
            "grid_gap": null,
            "grid_row": null,
            "grid_template_areas": null,
            "grid_template_columns": null,
            "grid_template_rows": null,
            "height": null,
            "justify_content": null,
            "justify_items": null,
            "left": null,
            "margin": null,
            "max_height": null,
            "max_width": null,
            "min_height": null,
            "min_width": null,
            "object_fit": null,
            "object_position": null,
            "order": null,
            "overflow": null,
            "overflow_x": null,
            "overflow_y": null,
            "padding": null,
            "right": null,
            "top": null,
            "visibility": null,
            "width": null
          }
        },
        "efaea75136534b64a39471cfe27582df": {
          "model_module": "@jupyter-widgets/controls",
          "model_name": "HBoxModel",
          "state": {
            "_dom_classes": [],
            "_model_module": "@jupyter-widgets/controls",
            "_model_module_version": "1.5.0",
            "_model_name": "HBoxModel",
            "_view_count": null,
            "_view_module": "@jupyter-widgets/controls",
            "_view_module_version": "1.5.0",
            "_view_name": "HBoxView",
            "box_style": "",
            "children": [
              "IPY_MODEL_3611c8492b35465d8abb855ff6d0fecb",
              "IPY_MODEL_9c565eab4a384a6f856c0b20050cb76d"
            ],
            "layout": "IPY_MODEL_275df1f539c84d83b889b2e0c4ac3b86"
          }
        },
        "275df1f539c84d83b889b2e0c4ac3b86": {
          "model_module": "@jupyter-widgets/base",
          "model_name": "LayoutModel",
          "state": {
            "_model_module": "@jupyter-widgets/base",
            "_model_module_version": "1.2.0",
            "_model_name": "LayoutModel",
            "_view_count": null,
            "_view_module": "@jupyter-widgets/base",
            "_view_module_version": "1.2.0",
            "_view_name": "LayoutView",
            "align_content": null,
            "align_items": null,
            "align_self": null,
            "border": null,
            "bottom": null,
            "display": null,
            "flex": null,
            "flex_flow": null,
            "grid_area": null,
            "grid_auto_columns": null,
            "grid_auto_flow": null,
            "grid_auto_rows": null,
            "grid_column": null,
            "grid_gap": null,
            "grid_row": null,
            "grid_template_areas": null,
            "grid_template_columns": null,
            "grid_template_rows": null,
            "height": null,
            "justify_content": null,
            "justify_items": null,
            "left": null,
            "margin": null,
            "max_height": null,
            "max_width": null,
            "min_height": null,
            "min_width": null,
            "object_fit": null,
            "object_position": null,
            "order": null,
            "overflow": null,
            "overflow_x": null,
            "overflow_y": null,
            "padding": null,
            "right": null,
            "top": null,
            "visibility": null,
            "width": null
          }
        },
        "3611c8492b35465d8abb855ff6d0fecb": {
          "model_module": "@jupyter-widgets/controls",
          "model_name": "IntProgressModel",
          "state": {
            "_dom_classes": [],
            "_model_module": "@jupyter-widgets/controls",
            "_model_module_version": "1.5.0",
            "_model_name": "IntProgressModel",
            "_view_count": null,
            "_view_module": "@jupyter-widgets/controls",
            "_view_module_version": "1.5.0",
            "_view_name": "ProgressView",
            "bar_style": "success",
            "description": "Part 2",
            "description_tooltip": null,
            "layout": "IPY_MODEL_e73de080f17443c6bd1cd428a38837cb",
            "max": 50210,
            "min": 0,
            "orientation": "horizontal",
            "style": "IPY_MODEL_9795b737399f4001bd6b2b9191dcbac6",
            "value": 50210
          }
        },
        "9c565eab4a384a6f856c0b20050cb76d": {
          "model_module": "@jupyter-widgets/controls",
          "model_name": "HTMLModel",
          "state": {
            "_dom_classes": [],
            "_model_module": "@jupyter-widgets/controls",
            "_model_module_version": "1.5.0",
            "_model_name": "HTMLModel",
            "_view_count": null,
            "_view_module": "@jupyter-widgets/controls",
            "_view_module_version": "1.5.0",
            "_view_name": "HTMLView",
            "description": "",
            "description_tooltip": null,
            "layout": "IPY_MODEL_70fc1ad296824d9dabe05c8f685d1126",
            "placeholder": "​",
            "style": "IPY_MODEL_0ceaddbe54e4478daf50ef16957f3414",
            "value": "100% 50210/50210 [00:40&lt;00:00, 1230.50it/s]"
          }
        },
        "9795b737399f4001bd6b2b9191dcbac6": {
          "model_module": "@jupyter-widgets/controls",
          "model_name": "ProgressStyleModel",
          "state": {
            "_model_module": "@jupyter-widgets/controls",
            "_model_module_version": "1.5.0",
            "_model_name": "ProgressStyleModel",
            "_view_count": null,
            "_view_module": "@jupyter-widgets/base",
            "_view_module_version": "1.2.0",
            "_view_name": "StyleView",
            "bar_color": null,
            "description_width": "initial"
          }
        },
        "e73de080f17443c6bd1cd428a38837cb": {
          "model_module": "@jupyter-widgets/base",
          "model_name": "LayoutModel",
          "state": {
            "_model_module": "@jupyter-widgets/base",
            "_model_module_version": "1.2.0",
            "_model_name": "LayoutModel",
            "_view_count": null,
            "_view_module": "@jupyter-widgets/base",
            "_view_module_version": "1.2.0",
            "_view_name": "LayoutView",
            "align_content": null,
            "align_items": null,
            "align_self": null,
            "border": null,
            "bottom": null,
            "display": null,
            "flex": null,
            "flex_flow": null,
            "grid_area": null,
            "grid_auto_columns": null,
            "grid_auto_flow": null,
            "grid_auto_rows": null,
            "grid_column": null,
            "grid_gap": null,
            "grid_row": null,
            "grid_template_areas": null,
            "grid_template_columns": null,
            "grid_template_rows": null,
            "height": null,
            "justify_content": null,
            "justify_items": null,
            "left": null,
            "margin": null,
            "max_height": null,
            "max_width": null,
            "min_height": null,
            "min_width": null,
            "object_fit": null,
            "object_position": null,
            "order": null,
            "overflow": null,
            "overflow_x": null,
            "overflow_y": null,
            "padding": null,
            "right": null,
            "top": null,
            "visibility": null,
            "width": null
          }
        },
        "0ceaddbe54e4478daf50ef16957f3414": {
          "model_module": "@jupyter-widgets/controls",
          "model_name": "DescriptionStyleModel",
          "state": {
            "_model_module": "@jupyter-widgets/controls",
            "_model_module_version": "1.5.0",
            "_model_name": "DescriptionStyleModel",
            "_view_count": null,
            "_view_module": "@jupyter-widgets/base",
            "_view_module_version": "1.2.0",
            "_view_name": "StyleView",
            "description_width": ""
          }
        },
        "70fc1ad296824d9dabe05c8f685d1126": {
          "model_module": "@jupyter-widgets/base",
          "model_name": "LayoutModel",
          "state": {
            "_model_module": "@jupyter-widgets/base",
            "_model_module_version": "1.2.0",
            "_model_name": "LayoutModel",
            "_view_count": null,
            "_view_module": "@jupyter-widgets/base",
            "_view_module_version": "1.2.0",
            "_view_name": "LayoutView",
            "align_content": null,
            "align_items": null,
            "align_self": null,
            "border": null,
            "bottom": null,
            "display": null,
            "flex": null,
            "flex_flow": null,
            "grid_area": null,
            "grid_auto_columns": null,
            "grid_auto_flow": null,
            "grid_auto_rows": null,
            "grid_column": null,
            "grid_gap": null,
            "grid_row": null,
            "grid_template_areas": null,
            "grid_template_columns": null,
            "grid_template_rows": null,
            "height": null,
            "justify_content": null,
            "justify_items": null,
            "left": null,
            "margin": null,
            "max_height": null,
            "max_width": null,
            "min_height": null,
            "min_width": null,
            "object_fit": null,
            "object_position": null,
            "order": null,
            "overflow": null,
            "overflow_x": null,
            "overflow_y": null,
            "padding": null,
            "right": null,
            "top": null,
            "visibility": null,
            "width": null
          }
        },
        "c638cc99ea7f4f2899fd80d16f2e1068": {
          "model_module": "@jupyter-widgets/controls",
          "model_name": "HBoxModel",
          "state": {
            "_dom_classes": [],
            "_model_module": "@jupyter-widgets/controls",
            "_model_module_version": "1.5.0",
            "_model_name": "HBoxModel",
            "_view_count": null,
            "_view_module": "@jupyter-widgets/controls",
            "_view_module_version": "1.5.0",
            "_view_name": "HBoxView",
            "box_style": "",
            "children": [
              "IPY_MODEL_9f954c248d054ce5b3eabb1066b06334",
              "IPY_MODEL_f2c7c7cee89f49a398b035f6d1e98b08"
            ],
            "layout": "IPY_MODEL_e5251f93c1d048c4814cfc99212c6c99"
          }
        },
        "e5251f93c1d048c4814cfc99212c6c99": {
          "model_module": "@jupyter-widgets/base",
          "model_name": "LayoutModel",
          "state": {
            "_model_module": "@jupyter-widgets/base",
            "_model_module_version": "1.2.0",
            "_model_name": "LayoutModel",
            "_view_count": null,
            "_view_module": "@jupyter-widgets/base",
            "_view_module_version": "1.2.0",
            "_view_name": "LayoutView",
            "align_content": null,
            "align_items": null,
            "align_self": null,
            "border": null,
            "bottom": null,
            "display": null,
            "flex": null,
            "flex_flow": null,
            "grid_area": null,
            "grid_auto_columns": null,
            "grid_auto_flow": null,
            "grid_auto_rows": null,
            "grid_column": null,
            "grid_gap": null,
            "grid_row": null,
            "grid_template_areas": null,
            "grid_template_columns": null,
            "grid_template_rows": null,
            "height": null,
            "justify_content": null,
            "justify_items": null,
            "left": null,
            "margin": null,
            "max_height": null,
            "max_width": null,
            "min_height": null,
            "min_width": null,
            "object_fit": null,
            "object_position": null,
            "order": null,
            "overflow": null,
            "overflow_x": null,
            "overflow_y": null,
            "padding": null,
            "right": null,
            "top": null,
            "visibility": null,
            "width": null
          }
        },
        "9f954c248d054ce5b3eabb1066b06334": {
          "model_module": "@jupyter-widgets/controls",
          "model_name": "IntProgressModel",
          "state": {
            "_dom_classes": [],
            "_model_module": "@jupyter-widgets/controls",
            "_model_module_version": "1.5.0",
            "_model_name": "IntProgressModel",
            "_view_count": null,
            "_view_module": "@jupyter-widgets/controls",
            "_view_module_version": "1.5.0",
            "_view_name": "ProgressView",
            "bar_style": "success",
            "description": "Part 3",
            "description_tooltip": null,
            "layout": "IPY_MODEL_26b6cc57b9f3435aa3012c3d5568a394",
            "max": 50210,
            "min": 0,
            "orientation": "horizontal",
            "style": "IPY_MODEL_c213590b9efc490590edd218b610b696",
            "value": 50210
          }
        },
        "f2c7c7cee89f49a398b035f6d1e98b08": {
          "model_module": "@jupyter-widgets/controls",
          "model_name": "HTMLModel",
          "state": {
            "_dom_classes": [],
            "_model_module": "@jupyter-widgets/controls",
            "_model_module_version": "1.5.0",
            "_model_name": "HTMLModel",
            "_view_count": null,
            "_view_module": "@jupyter-widgets/controls",
            "_view_module_version": "1.5.0",
            "_view_name": "HTMLView",
            "description": "",
            "description_tooltip": null,
            "layout": "IPY_MODEL_55aa3a9d4bb34f6cb0ed14aa3fe4c2b0",
            "placeholder": "​",
            "style": "IPY_MODEL_dd785ad4bed044bc8ad07abaa92d4f99",
            "value": "100% 50210/50210 [00:40&lt;00:00, 1239.27it/s]"
          }
        },
        "c213590b9efc490590edd218b610b696": {
          "model_module": "@jupyter-widgets/controls",
          "model_name": "ProgressStyleModel",
          "state": {
            "_model_module": "@jupyter-widgets/controls",
            "_model_module_version": "1.5.0",
            "_model_name": "ProgressStyleModel",
            "_view_count": null,
            "_view_module": "@jupyter-widgets/base",
            "_view_module_version": "1.2.0",
            "_view_name": "StyleView",
            "bar_color": null,
            "description_width": "initial"
          }
        },
        "26b6cc57b9f3435aa3012c3d5568a394": {
          "model_module": "@jupyter-widgets/base",
          "model_name": "LayoutModel",
          "state": {
            "_model_module": "@jupyter-widgets/base",
            "_model_module_version": "1.2.0",
            "_model_name": "LayoutModel",
            "_view_count": null,
            "_view_module": "@jupyter-widgets/base",
            "_view_module_version": "1.2.0",
            "_view_name": "LayoutView",
            "align_content": null,
            "align_items": null,
            "align_self": null,
            "border": null,
            "bottom": null,
            "display": null,
            "flex": null,
            "flex_flow": null,
            "grid_area": null,
            "grid_auto_columns": null,
            "grid_auto_flow": null,
            "grid_auto_rows": null,
            "grid_column": null,
            "grid_gap": null,
            "grid_row": null,
            "grid_template_areas": null,
            "grid_template_columns": null,
            "grid_template_rows": null,
            "height": null,
            "justify_content": null,
            "justify_items": null,
            "left": null,
            "margin": null,
            "max_height": null,
            "max_width": null,
            "min_height": null,
            "min_width": null,
            "object_fit": null,
            "object_position": null,
            "order": null,
            "overflow": null,
            "overflow_x": null,
            "overflow_y": null,
            "padding": null,
            "right": null,
            "top": null,
            "visibility": null,
            "width": null
          }
        },
        "dd785ad4bed044bc8ad07abaa92d4f99": {
          "model_module": "@jupyter-widgets/controls",
          "model_name": "DescriptionStyleModel",
          "state": {
            "_model_module": "@jupyter-widgets/controls",
            "_model_module_version": "1.5.0",
            "_model_name": "DescriptionStyleModel",
            "_view_count": null,
            "_view_module": "@jupyter-widgets/base",
            "_view_module_version": "1.2.0",
            "_view_name": "StyleView",
            "description_width": ""
          }
        },
        "55aa3a9d4bb34f6cb0ed14aa3fe4c2b0": {
          "model_module": "@jupyter-widgets/base",
          "model_name": "LayoutModel",
          "state": {
            "_model_module": "@jupyter-widgets/base",
            "_model_module_version": "1.2.0",
            "_model_name": "LayoutModel",
            "_view_count": null,
            "_view_module": "@jupyter-widgets/base",
            "_view_module_version": "1.2.0",
            "_view_name": "LayoutView",
            "align_content": null,
            "align_items": null,
            "align_self": null,
            "border": null,
            "bottom": null,
            "display": null,
            "flex": null,
            "flex_flow": null,
            "grid_area": null,
            "grid_auto_columns": null,
            "grid_auto_flow": null,
            "grid_auto_rows": null,
            "grid_column": null,
            "grid_gap": null,
            "grid_row": null,
            "grid_template_areas": null,
            "grid_template_columns": null,
            "grid_template_rows": null,
            "height": null,
            "justify_content": null,
            "justify_items": null,
            "left": null,
            "margin": null,
            "max_height": null,
            "max_width": null,
            "min_height": null,
            "min_width": null,
            "object_fit": null,
            "object_position": null,
            "order": null,
            "overflow": null,
            "overflow_x": null,
            "overflow_y": null,
            "padding": null,
            "right": null,
            "top": null,
            "visibility": null,
            "width": null
          }
        },
        "f452c9ac6e9d46e2a6954eb58f8c4f64": {
          "model_module": "@jupyter-widgets/controls",
          "model_name": "HBoxModel",
          "state": {
            "_dom_classes": [],
            "_model_module": "@jupyter-widgets/controls",
            "_model_module_version": "1.5.0",
            "_model_name": "HBoxModel",
            "_view_count": null,
            "_view_module": "@jupyter-widgets/controls",
            "_view_module_version": "1.5.0",
            "_view_name": "HBoxView",
            "box_style": "",
            "children": [
              "IPY_MODEL_b1eff58557284e779e35b98169357f8f",
              "IPY_MODEL_c31c5dbb3f5340fb897e1903e024c76a"
            ],
            "layout": "IPY_MODEL_d92adaf02352477d9890e8bef0254c79"
          }
        },
        "d92adaf02352477d9890e8bef0254c79": {
          "model_module": "@jupyter-widgets/base",
          "model_name": "LayoutModel",
          "state": {
            "_model_module": "@jupyter-widgets/base",
            "_model_module_version": "1.2.0",
            "_model_name": "LayoutModel",
            "_view_count": null,
            "_view_module": "@jupyter-widgets/base",
            "_view_module_version": "1.2.0",
            "_view_name": "LayoutView",
            "align_content": null,
            "align_items": null,
            "align_self": null,
            "border": null,
            "bottom": null,
            "display": null,
            "flex": null,
            "flex_flow": null,
            "grid_area": null,
            "grid_auto_columns": null,
            "grid_auto_flow": null,
            "grid_auto_rows": null,
            "grid_column": null,
            "grid_gap": null,
            "grid_row": null,
            "grid_template_areas": null,
            "grid_template_columns": null,
            "grid_template_rows": null,
            "height": null,
            "justify_content": null,
            "justify_items": null,
            "left": null,
            "margin": null,
            "max_height": null,
            "max_width": null,
            "min_height": null,
            "min_width": null,
            "object_fit": null,
            "object_position": null,
            "order": null,
            "overflow": null,
            "overflow_x": null,
            "overflow_y": null,
            "padding": null,
            "right": null,
            "top": null,
            "visibility": null,
            "width": null
          }
        },
        "b1eff58557284e779e35b98169357f8f": {
          "model_module": "@jupyter-widgets/controls",
          "model_name": "IntProgressModel",
          "state": {
            "_dom_classes": [],
            "_model_module": "@jupyter-widgets/controls",
            "_model_module_version": "1.5.0",
            "_model_name": "IntProgressModel",
            "_view_count": null,
            "_view_module": "@jupyter-widgets/controls",
            "_view_module_version": "1.5.0",
            "_view_name": "ProgressView",
            "bar_style": "success",
            "description": "Part 0",
            "description_tooltip": null,
            "layout": "IPY_MODEL_2bf0982c8e1b4dbe974335616b035930",
            "max": 50210,
            "min": 0,
            "orientation": "horizontal",
            "style": "IPY_MODEL_c88816bc07e3474e8582f4b8f66716f6",
            "value": 50210
          }
        },
        "c31c5dbb3f5340fb897e1903e024c76a": {
          "model_module": "@jupyter-widgets/controls",
          "model_name": "HTMLModel",
          "state": {
            "_dom_classes": [],
            "_model_module": "@jupyter-widgets/controls",
            "_model_module_version": "1.5.0",
            "_model_name": "HTMLModel",
            "_view_count": null,
            "_view_module": "@jupyter-widgets/controls",
            "_view_module_version": "1.5.0",
            "_view_name": "HTMLView",
            "description": "",
            "description_tooltip": null,
            "layout": "IPY_MODEL_7e153cc9aa8f4f5c8c413daf347ed810",
            "placeholder": "​",
            "style": "IPY_MODEL_ff7f2de1a11647b293e4157aa9c57cae",
            "value": "100% 50210/50210 [00:39&lt;00:00, 1261.17it/s]"
          }
        },
        "c88816bc07e3474e8582f4b8f66716f6": {
          "model_module": "@jupyter-widgets/controls",
          "model_name": "ProgressStyleModel",
          "state": {
            "_model_module": "@jupyter-widgets/controls",
            "_model_module_version": "1.5.0",
            "_model_name": "ProgressStyleModel",
            "_view_count": null,
            "_view_module": "@jupyter-widgets/base",
            "_view_module_version": "1.2.0",
            "_view_name": "StyleView",
            "bar_color": null,
            "description_width": "initial"
          }
        },
        "2bf0982c8e1b4dbe974335616b035930": {
          "model_module": "@jupyter-widgets/base",
          "model_name": "LayoutModel",
          "state": {
            "_model_module": "@jupyter-widgets/base",
            "_model_module_version": "1.2.0",
            "_model_name": "LayoutModel",
            "_view_count": null,
            "_view_module": "@jupyter-widgets/base",
            "_view_module_version": "1.2.0",
            "_view_name": "LayoutView",
            "align_content": null,
            "align_items": null,
            "align_self": null,
            "border": null,
            "bottom": null,
            "display": null,
            "flex": null,
            "flex_flow": null,
            "grid_area": null,
            "grid_auto_columns": null,
            "grid_auto_flow": null,
            "grid_auto_rows": null,
            "grid_column": null,
            "grid_gap": null,
            "grid_row": null,
            "grid_template_areas": null,
            "grid_template_columns": null,
            "grid_template_rows": null,
            "height": null,
            "justify_content": null,
            "justify_items": null,
            "left": null,
            "margin": null,
            "max_height": null,
            "max_width": null,
            "min_height": null,
            "min_width": null,
            "object_fit": null,
            "object_position": null,
            "order": null,
            "overflow": null,
            "overflow_x": null,
            "overflow_y": null,
            "padding": null,
            "right": null,
            "top": null,
            "visibility": null,
            "width": null
          }
        },
        "ff7f2de1a11647b293e4157aa9c57cae": {
          "model_module": "@jupyter-widgets/controls",
          "model_name": "DescriptionStyleModel",
          "state": {
            "_model_module": "@jupyter-widgets/controls",
            "_model_module_version": "1.5.0",
            "_model_name": "DescriptionStyleModel",
            "_view_count": null,
            "_view_module": "@jupyter-widgets/base",
            "_view_module_version": "1.2.0",
            "_view_name": "StyleView",
            "description_width": ""
          }
        },
        "7e153cc9aa8f4f5c8c413daf347ed810": {
          "model_module": "@jupyter-widgets/base",
          "model_name": "LayoutModel",
          "state": {
            "_model_module": "@jupyter-widgets/base",
            "_model_module_version": "1.2.0",
            "_model_name": "LayoutModel",
            "_view_count": null,
            "_view_module": "@jupyter-widgets/base",
            "_view_module_version": "1.2.0",
            "_view_name": "LayoutView",
            "align_content": null,
            "align_items": null,
            "align_self": null,
            "border": null,
            "bottom": null,
            "display": null,
            "flex": null,
            "flex_flow": null,
            "grid_area": null,
            "grid_auto_columns": null,
            "grid_auto_flow": null,
            "grid_auto_rows": null,
            "grid_column": null,
            "grid_gap": null,
            "grid_row": null,
            "grid_template_areas": null,
            "grid_template_columns": null,
            "grid_template_rows": null,
            "height": null,
            "justify_content": null,
            "justify_items": null,
            "left": null,
            "margin": null,
            "max_height": null,
            "max_width": null,
            "min_height": null,
            "min_width": null,
            "object_fit": null,
            "object_position": null,
            "order": null,
            "overflow": null,
            "overflow_x": null,
            "overflow_y": null,
            "padding": null,
            "right": null,
            "top": null,
            "visibility": null,
            "width": null
          }
        }
      }
    }
  },
  "cells": [
    {
      "cell_type": "code",
      "metadata": {
        "colab_type": "code",
        "id": "26xREESgI5yD",
        "outputId": "4f729c92-1bac-498b-b042-0666a20bd85d",
        "colab": {
          "base_uri": "https://localhost:8080/",
          "height": 627
        }
      },
      "source": [
        "!python mlip_setup_env.py"
      ],
      "execution_count": 0,
      "outputs": [
        {
          "output_type": "stream",
          "text": [
            "Collecting wandb\n",
            "\u001b[?25l  Downloading https://files.pythonhosted.org/packages/62/7c/cd5ef2bc3aa0597b5fd5645357f0207c02345ec2f3569dcbb56e6dafa070/wandb-0.8.27-py2.py3-none-any.whl (1.4MB)\n",
            "\u001b[K     |████████████████████████████████| 1.4MB 2.7MB/s \n",
            "\u001b[?25hRequirement already satisfied, skipping upgrade: watchdog>=0.8.3 in /usr/local/lib/python3.6/dist-packages (from wandb) (0.10.2)\n",
            "Requirement already satisfied, skipping upgrade: gql==0.2.0 in /usr/local/lib/python3.6/dist-packages (from wandb) (0.2.0)\n",
            "Requirement already satisfied, skipping upgrade: nvidia-ml-py3>=7.352.0 in /usr/local/lib/python3.6/dist-packages (from wandb) (7.352.0)\n",
            "Requirement already satisfied, skipping upgrade: python-dateutil>=2.6.1 in /usr/local/lib/python3.6/dist-packages (from wandb) (2.6.1)\n",
            "Requirement already satisfied, skipping upgrade: GitPython>=1.0.0 in /usr/local/lib/python3.6/dist-packages (from wandb) (3.0.7)\n",
            "Requirement already satisfied, skipping upgrade: shortuuid>=0.5.0 in /usr/local/lib/python3.6/dist-packages (from wandb) (0.5.0)\n",
            "Requirement already satisfied, skipping upgrade: Click>=7.0 in /usr/local/lib/python3.6/dist-packages (from wandb) (7.0)\n",
            "Requirement already satisfied, skipping upgrade: subprocess32>=3.5.3 in /usr/local/lib/python3.6/dist-packages (from wandb) (3.5.4)\n",
            "Requirement already satisfied, skipping upgrade: PyYAML>=3.10 in /usr/local/lib/python3.6/dist-packages (from wandb) (3.13)\n",
            "Requirement already satisfied, skipping upgrade: docker-pycreds>=0.4.0 in /usr/local/lib/python3.6/dist-packages (from wandb) (0.4.0)\n",
            "Requirement already satisfied, skipping upgrade: sentry-sdk>=0.4.0 in /usr/local/lib/python3.6/dist-packages (from wandb) (0.14.1)\n",
            "Requirement already satisfied, skipping upgrade: requests>=2.0.0 in /usr/local/lib/python3.6/dist-packages (from wandb) (2.21.0)\n",
            "Requirement already satisfied, skipping upgrade: configparser>=3.8.1 in /usr/local/lib/python3.6/dist-packages (from wandb) (4.0.2)\n",
            "Requirement already satisfied, skipping upgrade: six>=1.10.0 in /usr/local/lib/python3.6/dist-packages (from wandb) (1.14.0)\n",
            "Requirement already satisfied, skipping upgrade: psutil>=5.0.0 in /usr/local/lib/python3.6/dist-packages (from wandb) (5.4.8)\n",
            "Requirement already satisfied, skipping upgrade: pathtools>=0.1.1 in /usr/local/lib/python3.6/dist-packages (from watchdog>=0.8.3->wandb) (0.1.2)\n",
            "Requirement already satisfied, skipping upgrade: graphql-core<2,>=0.5.0 in /usr/local/lib/python3.6/dist-packages (from gql==0.2.0->wandb) (1.1)\n",
            "Requirement already satisfied, skipping upgrade: promise<3,>=2.0 in /usr/local/lib/python3.6/dist-packages (from gql==0.2.0->wandb) (2.3)\n",
            "Requirement already satisfied, skipping upgrade: gitdb2>=2.0.0 in /usr/local/lib/python3.6/dist-packages (from GitPython>=1.0.0->wandb) (2.0.6)\n",
            "Requirement already satisfied, skipping upgrade: certifi in /usr/local/lib/python3.6/dist-packages (from sentry-sdk>=0.4.0->wandb) (2019.11.28)\n",
            "Requirement already satisfied, skipping upgrade: urllib3>=1.10.0 in /usr/local/lib/python3.6/dist-packages (from sentry-sdk>=0.4.0->wandb) (1.24.3)\n",
            "Requirement already satisfied, skipping upgrade: idna<2.9,>=2.5 in /usr/local/lib/python3.6/dist-packages (from requests>=2.0.0->wandb) (2.8)\n",
            "Requirement already satisfied, skipping upgrade: chardet<3.1.0,>=3.0.2 in /usr/local/lib/python3.6/dist-packages (from requests>=2.0.0->wandb) (3.0.4)\n",
            "Requirement already satisfied, skipping upgrade: smmap2>=2.0.0 in /usr/local/lib/python3.6/dist-packages (from gitdb2>=2.0.0->GitPython>=1.0.0->wandb) (2.0.5)\n",
            "Installing collected packages: wandb\n",
            "  Found existing installation: wandb 0.8.26\n",
            "    Uninstalling wandb-0.8.26:\n",
            "      Successfully uninstalled wandb-0.8.26\n",
            "Successfully installed wandb-0.8.27\n",
            "\u001b[34m\u001b[1mwandb\u001b[0m: Appending key for api.wandb.ai to your netrc file: /root/.netrc\n",
            "\u001b[32mSuccessfully logged in to Weights & Biases!\u001b[0m\n"
          ],
          "name": "stdout"
        }
      ]
    },
    {
      "cell_type": "code",
      "metadata": {
        "colab_type": "code",
        "id": "wAMg98mXZNJw",
        "outputId": "13349aab-2027-41a8-9857-75f5f81b70ad",
        "colab": {
          "base_uri": "https://localhost:8080/",
          "height": 34
        }
      },
      "source": [
        "%tensorflow_version 2.x\n",
        "\n",
        "import numpy as np\n",
        "import pandas as pd"
      ],
      "execution_count": 0,
      "outputs": [
        {
          "output_type": "stream",
          "text": [
            "TensorFlow 2.x selected.\n"
          ],
          "name": "stdout"
        }
      ]
    },
    {
      "cell_type": "markdown",
      "metadata": {
        "colab_type": "text",
        "id": "z9j4F5GvVyRU"
      },
      "source": [
        "# Perform preprocessing explicitly (optional)"
      ]
    },
    {
      "cell_type": "markdown",
      "metadata": {
        "colab_type": "text",
        "id": "Rx05A6vcf785"
      },
      "source": [
        "## Write to parquet (slow)"
      ]
    },
    {
      "cell_type": "code",
      "metadata": {
        "colab_type": "code",
        "id": "6KWwK0QXK1ZV",
        "outputId": "f9479086-36b8-4b14-8ae4-37986ae5ea91",
        "colab": {
          "base_uri": "https://localhost:8080/",
          "height": 213,
          "referenced_widgets": [
            "5bf1117a41c14142ac968956735a5cf0",
            "66b5ccf42e58462088e7267df2f33781",
            "4107f9ff3dad4d48b5d3bdb455160409",
            "336bab06fe7d4007839572cdcfd0b461",
            "59ad03d513ff454d9361fe38e8d2a56b",
            "005998f8f5b74fb3b92737b82f568861",
            "5a6743b6fd9149b5a9b76b84978f8682",
            "e7fa4e9f859244e3b1b0a03bc3c5afc7",
            "0b773192912043dd9766e147fb1888f3",
            "6e092b350c0a45f9a9346a97aa93d786",
            "48e114588a084dea819e01173b903541",
            "a51f5e1b24454bd4a2902e24a79fb7ff",
            "452ef2f3b1734fafa707091525e098d5",
            "0caf4d959dad4ee3975df0b91b803560",
            "cc2a1ac11f564004b65b9b55836823f0",
            "4bd0a569dbad4772bc61f0d6fd232d83",
            "2ee1d183d5154484be59ba0546687478",
            "47f43b4077634403bb25e49ead8d20d9",
            "cc18181316b84c70aaae4bcc6f3fc9bd",
            "19e66b578fc04f7d82dace5c46ec0ca4",
            "5a4965af8df249c28431be268076bcd6",
            "36aefbecfd334001994e3904e49207d6",
            "62a703426c494b928e8c5f7a699fd010",
            "dbe2a98b9a73499a877352a96f024384",
            "0acfe035498a461a8a32ff55bc15539b",
            "4ce0b19b08b3484a8c4a59c227ca9e64",
            "edaefeec334e4d74b2e67fe77cab196e",
            "0eaa00af18514024bc3495e0d879ff40",
            "c062d1f80489414a99712b66d6e49167",
            "e727d7d13ad4499282f64d6e585de039",
            "11dbecef994447778b87232ee437cf39",
            "8d405f5a526649c1a1c017f5e6e086e8"
          ]
        }
      },
      "source": [
        "from preprocessing import perform_preprocessing\n",
        "\n",
        "preprocess_args = dict(\n",
        "    image_width=64,\n",
        "    image_height=64,\n",
        "    padding=6,\n",
        ")\n",
        "\n",
        "# requires a (virtual) machine with at least 12 GB of RAM\n",
        "# on physical machines I expect the SSD to take over from\n",
        "# RAM when necessary\n",
        "perform_preprocessing(preprocess_args, out='parquet')"
      ],
      "execution_count": 0,
      "outputs": [
        {
          "output_type": "display_data",
          "data": {
            "application/vnd.jupyter.widget-view+json": {
              "model_id": "5bf1117a41c14142ac968956735a5cf0",
              "version_major": 2,
              "version_minor": 0
            },
            "text/plain": [
              "HBox(children=(IntProgress(value=0, max=50210), HTML(value='')))"
            ]
          },
          "metadata": {
            "tags": []
          }
        },
        {
          "output_type": "stream",
          "text": [
            "\n"
          ],
          "name": "stdout"
        },
        {
          "output_type": "display_data",
          "data": {
            "application/vnd.jupyter.widget-view+json": {
              "model_id": "0b773192912043dd9766e147fb1888f3",
              "version_major": 2,
              "version_minor": 0
            },
            "text/plain": [
              "HBox(children=(IntProgress(value=0, max=50210), HTML(value='')))"
            ]
          },
          "metadata": {
            "tags": []
          }
        },
        {
          "output_type": "stream",
          "text": [
            "\n"
          ],
          "name": "stdout"
        },
        {
          "output_type": "display_data",
          "data": {
            "application/vnd.jupyter.widget-view+json": {
              "model_id": "2ee1d183d5154484be59ba0546687478",
              "version_major": 2,
              "version_minor": 0
            },
            "text/plain": [
              "HBox(children=(IntProgress(value=0, max=50210), HTML(value='')))"
            ]
          },
          "metadata": {
            "tags": []
          }
        },
        {
          "output_type": "stream",
          "text": [
            "\n"
          ],
          "name": "stdout"
        },
        {
          "output_type": "display_data",
          "data": {
            "application/vnd.jupyter.widget-view+json": {
              "model_id": "0acfe035498a461a8a32ff55bc15539b",
              "version_major": 2,
              "version_minor": 0
            },
            "text/plain": [
              "HBox(children=(IntProgress(value=0, max=50210), HTML(value='')))"
            ]
          },
          "metadata": {
            "tags": []
          }
        },
        {
          "output_type": "stream",
          "text": [
            "\n"
          ],
          "name": "stdout"
        }
      ]
    },
    {
      "cell_type": "markdown",
      "metadata": {
        "colab_type": "text",
        "id": "zRjlkeMYf_Oh"
      },
      "source": [
        "## Write to png files (less slow)"
      ]
    },
    {
      "cell_type": "code",
      "metadata": {
        "colab_type": "code",
        "id": "0EgZvYsVYhaf",
        "outputId": "af812ac9-cee1-451e-d7a2-9411563b21fe",
        "colab": {
          "base_uri": "https://localhost:8080/",
          "referenced_widgets": [
            "bd092bd9e86e4e1687875ce0a71cfdf2",
            "9ed4086a52984a7cb8da8596b52b1cb3",
            "c47c5f3695d84ee995039579b821a853",
            "8579c98675f943cf8be0ef24699dcd61",
            "bdce5520c13d406f9300489b1d66bf65",
            "703d643031f349d6901f391c1b83350f",
            "f0e99577679b45f9b951931e89ece6d2",
            "65b1ae5e9d66412bbef36dc88138663a",
            "7ea92eec3b9f4baba7af7da3d5842a80",
            "975a245e1a4443eba22930e0b8fa3374",
            "87f57d3521164703970531cbca981317",
            "c11c46a768764251ad52cd850ebbf19d",
            "f4ce203bfc0b428f84f045ba5c21da72",
            "15de3f04485247e1bca611f3020215ee",
            "bbb1f956fb6940fe8b3aaf99706303b2",
            "ebe34bf91bbd417e939cc46e35231b84",
            "90f94de5e8ab49cc8c356a9a74f9bff3",
            "cea6e2ee167049c791f60c069987f745",
            "54e5b51d37f94a4381d9d65d7b2b9f47",
            "ddbd3a07e93c4ab4b74146ed55880ede",
            "b7de67c893574017982c843ab94a443a",
            "8db4097598884b14b4cbb6d93501adbb",
            "2c2c43c20bcc4f068bad2cd072654f63",
            "613c72c43feb42d0ad1f78b7abd9bc34",
            "d55200a0fdb147ea9a9d3f3458b2f59e",
            "5a7b5f578c00466fb4e16ce0db270741",
            "a873d5b3a0ff4e389d962526ae879cdc",
            "c2a0729b952c4a168ea1ad931fe5fb3e",
            "3c055742da51482284d0694cac7aa12d",
            "1ba7a47f7d374bca95daefa14095b928",
            "27f32fdd65fa4cfcbeb248da9284641f",
            "63bcaf531cf84c5cab9fb53c66a4cc0c"
          ]
        }
      },
      "source": [
        "from preprocessing import perform_preprocessing\n",
        "\n",
        "preprocess_args = dict(\n",
        "    image_width=64,\n",
        "    image_height=64,\n",
        "    padding=6,\n",
        ")\n",
        "\n",
        "# requires less RAM than parquet method, about ~4 GB\n",
        "# also this method seems faster, because here\n",
        "# the time required to save the result is included\n",
        "# in the time below, while above it is only the conversion time.\n",
        "perform_preprocessing(preprocess_args, out='png')"
      ],
      "execution_count": 0,
      "outputs": [
        {
          "output_type": "display_data",
          "data": {
            "application/vnd.jupyter.widget-view+json": {
              "model_id": "bd092bd9e86e4e1687875ce0a71cfdf2",
              "version_major": 2,
              "version_minor": 0
            },
            "text/plain": [
              "HBox(children=(IntProgress(value=0, max=50210), HTML(value='')))"
            ]
          },
          "metadata": {
            "tags": []
          }
        },
        {
          "output_type": "stream",
          "text": [
            "\n"
          ],
          "name": "stdout"
        },
        {
          "output_type": "display_data",
          "data": {
            "application/vnd.jupyter.widget-view+json": {
              "model_id": "7ea92eec3b9f4baba7af7da3d5842a80",
              "version_major": 2,
              "version_minor": 0
            },
            "text/plain": [
              "HBox(children=(IntProgress(value=0, max=50210), HTML(value='')))"
            ]
          },
          "metadata": {
            "tags": []
          }
        },
        {
          "output_type": "stream",
          "text": [
            "\n"
          ],
          "name": "stdout"
        },
        {
          "output_type": "display_data",
          "data": {
            "application/vnd.jupyter.widget-view+json": {
              "model_id": "90f94de5e8ab49cc8c356a9a74f9bff3",
              "version_major": 2,
              "version_minor": 0
            },
            "text/plain": [
              "HBox(children=(IntProgress(value=0, max=50210), HTML(value='')))"
            ]
          },
          "metadata": {
            "tags": []
          }
        },
        {
          "output_type": "stream",
          "text": [
            "\n"
          ],
          "name": "stdout"
        },
        {
          "output_type": "display_data",
          "data": {
            "application/vnd.jupyter.widget-view+json": {
              "model_id": "d55200a0fdb147ea9a9d3f3458b2f59e",
              "version_major": 2,
              "version_minor": 0
            },
            "text/plain": [
              "HBox(children=(IntProgress(value=0, max=50210), HTML(value='')))"
            ]
          },
          "metadata": {
            "tags": []
          }
        },
        {
          "output_type": "stream",
          "text": [
            "\n"
          ],
          "name": "stdout"
        }
      ]
    },
    {
      "cell_type": "markdown",
      "metadata": {
        "colab_type": "text",
        "id": "N4eM13ffV0an"
      },
      "source": [
        "# New code in parts (for insight/interaction)\n",
        "To determine the effect of changing the region of interest, a plan is developed to test it. The data preprocessing automatically selects a square box that contains the sign completely, this is called the region of interest(ROI). Then this ROI is, depending on the size of the automatic selection, either downscaled or upscaled to a different image size. Most ROI's will be upscaled since the original images were 136x237 and only a small fraction of the images actually contained a sign. \n",
        "\n",
        "The square ROI is varied from 32x32 (downscaling),64x64,96x96,128x128,160x160(upscaling) to determine the effects scaling the ROI. With this range, the required padding is computed with \\cref{eq:padding} to prevent cutoffs when the image is rotated and sheared.\n",
        "\\begin{equation}\n",
        "  \\frac{side}{2}tan(rotation+shear)\n",
        "  \\label{eq:padding}\n",
        "\\end{equation}\n",
        "To ensure the planned evaluation strategy is feasible the computational time is estimated before engaging the run to balance cost-result performance. "
      ]
    },
    {
      "cell_type": "code",
      "metadata": {
        "colab_type": "code",
        "id": "leCpSgle57BO",
        "outputId": "31a9c7ba-63d3-4895-b841-31a80df184ae",
        "colab": {
          "base_uri": "https://localhost:8080/"
        }
      },
      "source": [
        "from helper import train_from_prep\n",
        "\n",
        "datagen_args = dict(\n",
        "    featurewise_center=False,  # set input mean to 0 over the dataset\n",
        "    samplewise_center=False,  # set each sample mean to 0\n",
        "    featurewise_std_normalization=False,  # divide inputs by std of the dataset\n",
        "    samplewise_std_normalization=False,  # divide each input by its std\n",
        "    zca_whitening=False,  # apply ZCA whitening\n",
        "    rotation_range=8,  # randomly rotate images in the range (degrees, 0 to 180)\n",
        "    zoom_range = 0.15, # Randomly zoom image \n",
        "    width_shift_range=0.15,  # randomly shift images horizontally (fraction of total width)\n",
        "    height_shift_range=0.15,  # randomly shift images vertically (fraction of total height)\n",
        "    horizontal_flip=False,  # randomly flip images\n",
        "    vertical_flip=False,\n",
        "    shear_range=8, #Shear Intensity (Shear angle in counter-clockwise direction in degrees)\n",
        ")\n",
        "\n",
        "\n",
        "preprocess_args = dict(\n",
        "    image_width = 64,\n",
        "    image_height = 64,\n",
        "    padding = 6,\n",
        ")\n",
        "\n",
        "model = train_from_prep(datagen_args, name='Image 64, padding 6', \n",
        "                        preprocess_args=preprocess_args)\n",
        "\n",
        "model.save(\"example.h5\")"
      ],
      "execution_count": 0,
      "outputs": [
        {
          "output_type": "display_data",
          "data": {
            "text/html": [
              "\n",
              "                Logging results to <a href=\"https://wandb.com\" target=\"_blank\">Weights & Biases</a> <a href=\"https://docs.wandb.com/integrations/jupyter.html\" target=\"_blank\">(Documentation)</a>.<br/>\n",
              "                Project page: <a href=\"https://app.wandb.ai/joeranbosma/mlip\" target=\"_blank\">https://app.wandb.ai/joeranbosma/mlip</a><br/>\n",
              "                Run page: <a href=\"https://app.wandb.ai/joeranbosma/mlip/runs/ge5c1tlx\" target=\"_blank\">https://app.wandb.ai/joeranbosma/mlip/runs/ge5c1tlx</a><br/>\n",
              "            "
            ],
            "text/plain": [
              "<IPython.core.display.HTML object>"
            ]
          },
          "metadata": {
            "tags": []
          }
        },
        {
          "output_type": "stream",
          "text": [
            "Converting grapheme_root to one-hot encoding\n",
            "Converting vowel_diacritic to one-hot encoding\n",
            "Converting consonant_diacritic to one-hot encoding\n",
            "Found 184772 validated image filenames.\n",
            "Found 16068 validated image filenames.\n",
            "WARNING:tensorflow:sample_weight modes were coerced from\n",
            "  {'out_root': '...', 'out_vowel': '...', 'out_consonant': '...'}\n",
            "    to  \n",
            "  ['...', '...', '...']\n",
            "WARNING:tensorflow:sample_weight modes were coerced from\n",
            "  {'out_root': '...', 'out_vowel': '...', 'out_consonant': '...'}\n",
            "    to  \n",
            "  ['...', '...', '...']\n",
            "Train for 721 steps, validate for 62 steps\n",
            "Epoch 1/30\n",
            "721/721 [==============================] - 144s 199ms/step - loss: 10.2637 - out_root_loss: 4.0971 - out_vowel_loss: 1.1138 - out_consonant_loss: 0.9557 - out_root_acc: 0.0790 - out_vowel_acc: 0.6074 - out_consonant_acc: 0.6792 - val_loss: 6.6041 - val_out_root_loss: 2.7268 - val_out_vowel_loss: 0.5807 - val_out_consonant_loss: 0.5698 - val_out_root_acc: 0.2588 - val_out_vowel_acc: 0.7948 - val_out_consonant_acc: 0.7921\n",
            "Epoch 2/30\n",
            "721/721 [==============================] - 135s 187ms/step - loss: 5.0409 - out_root_loss: 2.0074 - out_vowel_loss: 0.5761 - out_consonant_loss: 0.4500 - out_root_acc: 0.4344 - out_vowel_acc: 0.8037 - out_consonant_acc: 0.8484 - val_loss: 2.1494 - val_out_root_loss: 0.8530 - val_out_vowel_loss: 0.2434 - val_out_consonant_loss: 0.2000 - val_out_root_acc: 0.7471 - val_out_vowel_acc: 0.9246 - val_out_consonant_acc: 0.9377\n",
            "Epoch 3/30\n",
            "721/721 [==============================] - 137s 190ms/step - loss: 2.5899 - out_root_loss: 0.9905 - out_vowel_loss: 0.3444 - out_consonant_loss: 0.2646 - out_root_acc: 0.7183 - out_vowel_acc: 0.8915 - out_consonant_acc: 0.9157 - val_loss: 1.3312 - val_out_root_loss: 0.5161 - val_out_vowel_loss: 0.1599 - val_out_consonant_loss: 0.1393 - val_out_root_acc: 0.8551 - val_out_vowel_acc: 0.9554 - val_out_consonant_acc: 0.9584\n",
            "Epoch 4/30\n",
            "721/721 [==============================] - 136s 189ms/step - loss: 1.8112 - out_root_loss: 0.6777 - out_vowel_loss: 0.2517 - out_consonant_loss: 0.2042 - out_root_acc: 0.8095 - out_vowel_acc: 0.9254 - out_consonant_acc: 0.9368 - val_loss: 1.0132 - val_out_root_loss: 0.3869 - val_out_vowel_loss: 0.1186 - val_out_consonant_loss: 0.1207 - val_out_root_acc: 0.8906 - val_out_vowel_acc: 0.9659 - val_out_consonant_acc: 0.9619\n",
            "Epoch 5/30\n",
            "721/721 [==============================] - 136s 189ms/step - loss: 1.4726 - out_root_loss: 0.5473 - out_vowel_loss: 0.2080 - out_consonant_loss: 0.1701 - out_root_acc: 0.8480 - out_vowel_acc: 0.9397 - out_consonant_acc: 0.9472 - val_loss: 0.8478 - val_out_root_loss: 0.3229 - val_out_vowel_loss: 0.1015 - val_out_consonant_loss: 0.1004 - val_out_root_acc: 0.9102 - val_out_vowel_acc: 0.9735 - val_out_consonant_acc: 0.9707\n",
            "Epoch 6/30\n",
            "721/721 [==============================] - 138s 191ms/step - loss: 1.3086 - out_root_loss: 0.4837 - out_vowel_loss: 0.1881 - out_consonant_loss: 0.1531 - out_root_acc: 0.8659 - out_vowel_acc: 0.9463 - out_consonant_acc: 0.9537 - val_loss: 0.7836 - val_out_root_loss: 0.3015 - val_out_vowel_loss: 0.0931 - val_out_consonant_loss: 0.0875 - val_out_root_acc: 0.9193 - val_out_vowel_acc: 0.9749 - val_out_consonant_acc: 0.9757\n",
            "Epoch 7/30\n",
            "721/721 [==============================] - 135s 187ms/step - loss: 1.1762 - out_root_loss: 0.4322 - out_vowel_loss: 0.1699 - out_consonant_loss: 0.1419 - out_root_acc: 0.8798 - out_vowel_acc: 0.9520 - out_consonant_acc: 0.9571 - val_loss: 0.7942 - val_out_root_loss: 0.3067 - val_out_vowel_loss: 0.0950 - val_out_consonant_loss: 0.0858 - val_out_root_acc: 0.9154 - val_out_vowel_acc: 0.9755 - val_out_consonant_acc: 0.9753\n",
            "Epoch 8/30\n",
            "721/721 [==============================] - 132s 182ms/step - loss: 1.0814 - out_root_loss: 0.3960 - out_vowel_loss: 0.1586 - out_consonant_loss: 0.1309 - out_root_acc: 0.8894 - out_vowel_acc: 0.9554 - out_consonant_acc: 0.9608 - val_loss: 0.7388 - val_out_root_loss: 0.2833 - val_out_vowel_loss: 0.0878 - val_out_consonant_loss: 0.0845 - val_out_root_acc: 0.9241 - val_out_vowel_acc: 0.9779 - val_out_consonant_acc: 0.9751\n",
            "Epoch 9/30\n",
            "721/721 [==============================] - 129s 179ms/step - loss: 1.0003 - out_root_loss: 0.3640 - out_vowel_loss: 0.1503 - out_consonant_loss: 0.1219 - out_root_acc: 0.8988 - out_vowel_acc: 0.9580 - out_consonant_acc: 0.9640 - val_loss: 0.6919 - val_out_root_loss: 0.2667 - val_out_vowel_loss: 0.0851 - val_out_consonant_loss: 0.0733 - val_out_root_acc: 0.9275 - val_out_vowel_acc: 0.9786 - val_out_consonant_acc: 0.9778\n",
            "Epoch 10/30\n",
            "721/721 [==============================] - 130s 181ms/step - loss: 0.9423 - out_root_loss: 0.3427 - out_vowel_loss: 0.1418 - out_consonant_loss: 0.1151 - out_root_acc: 0.9033 - out_vowel_acc: 0.9605 - out_consonant_acc: 0.9655 - val_loss: 0.6576 - val_out_root_loss: 0.2475 - val_out_vowel_loss: 0.0902 - val_out_consonant_loss: 0.0724 - val_out_root_acc: 0.9346 - val_out_vowel_acc: 0.9782 - val_out_consonant_acc: 0.9794\n",
            "Epoch 11/30\n",
            "219/721 [========>.....................] - ETA: 1:34 - loss: 0.8850 - out_root_loss: 0.3186 - out_vowel_loss: 0.1344 - out_consonant_loss: 0.1134 - out_root_acc: 0.9097 - out_vowel_acc: 0.9633 - out_consonant_acc: 0.9668"
          ],
          "name": "stdout"
        },
        {
          "output_type": "error",
          "ename": "KeyboardInterrupt",
          "evalue": "ignored",
          "traceback": [
            "\u001b[0;31m---------------------------------------------------------------------------\u001b[0m",
            "\u001b[0;31mKeyboardInterrupt\u001b[0m                         Traceback (most recent call last)",
            "\u001b[0;32m<ipython-input-2-660c2805dbf3>\u001b[0m in \u001b[0;36m<module>\u001b[0;34m()\u001b[0m\n\u001b[1;32m     23\u001b[0m \u001b[0;34m\u001b[0m\u001b[0m\n\u001b[1;32m     24\u001b[0m model = train_from_prep(datagen_args, name='Image 64, padding 6', \n\u001b[0;32m---> 25\u001b[0;31m                         preprocess_args=preprocess_args)\n\u001b[0m",
            "\u001b[0;32m/content/helper.py\u001b[0m in \u001b[0;36mtrain_from_prep\u001b[0;34m(datagen_args, name, epochs, model, N_CHANNELS, batch_size, preprocess_args, data_path, prep_folder)\u001b[0m\n\u001b[1;32m    151\u001b[0m                         \u001b[0mvalidation_steps\u001b[0m\u001b[0;34m=\u001b[0m\u001b[0mval_generator\u001b[0m\u001b[0;34m.\u001b[0m\u001b[0mn\u001b[0m\u001b[0;34m//\u001b[0m\u001b[0mval_generator\u001b[0m\u001b[0;34m.\u001b[0m\u001b[0mbatch_size\u001b[0m\u001b[0;34m,\u001b[0m\u001b[0;34m\u001b[0m\u001b[0;34m\u001b[0m\u001b[0m\n\u001b[1;32m    152\u001b[0m                         callbacks=[lr_reduction_root, lr_reduction_vowel, lr_reduction_consonant,\n\u001b[0;32m--> 153\u001b[0;31m                                    WandbCallback(), global_accuracy_callback])\n\u001b[0m\u001b[1;32m    154\u001b[0m \u001b[0;34m\u001b[0m\u001b[0m\n\u001b[1;32m    155\u001b[0m     \u001b[0;31m# save model online\u001b[0m\u001b[0;34m\u001b[0m\u001b[0;34m\u001b[0m\u001b[0;34m\u001b[0m\u001b[0m\n",
            "\u001b[0;32m/tensorflow-2.1.0/python3.6/tensorflow_core/python/keras/engine/training.py\u001b[0m in \u001b[0;36mfit\u001b[0;34m(self, x, y, batch_size, epochs, verbose, callbacks, validation_split, validation_data, shuffle, class_weight, sample_weight, initial_epoch, steps_per_epoch, validation_steps, validation_freq, max_queue_size, workers, use_multiprocessing, **kwargs)\u001b[0m\n\u001b[1;32m    817\u001b[0m         \u001b[0mmax_queue_size\u001b[0m\u001b[0;34m=\u001b[0m\u001b[0mmax_queue_size\u001b[0m\u001b[0;34m,\u001b[0m\u001b[0;34m\u001b[0m\u001b[0;34m\u001b[0m\u001b[0m\n\u001b[1;32m    818\u001b[0m         \u001b[0mworkers\u001b[0m\u001b[0;34m=\u001b[0m\u001b[0mworkers\u001b[0m\u001b[0;34m,\u001b[0m\u001b[0;34m\u001b[0m\u001b[0;34m\u001b[0m\u001b[0m\n\u001b[0;32m--> 819\u001b[0;31m         use_multiprocessing=use_multiprocessing)\n\u001b[0m\u001b[1;32m    820\u001b[0m \u001b[0;34m\u001b[0m\u001b[0m\n\u001b[1;32m    821\u001b[0m   def evaluate(self,\n",
            "\u001b[0;32m/usr/local/lib/python3.6/dist-packages/wandb/keras/__init__.py\u001b[0m in \u001b[0;36mnew_v2\u001b[0;34m(*args, **kwargs)\u001b[0m\n\u001b[1;32m    110\u001b[0m             \u001b[0;32mfor\u001b[0m \u001b[0mcbk\u001b[0m \u001b[0;32min\u001b[0m \u001b[0mcbks\u001b[0m\u001b[0;34m:\u001b[0m\u001b[0;34m\u001b[0m\u001b[0;34m\u001b[0m\u001b[0m\n\u001b[1;32m    111\u001b[0m                 \u001b[0mset_wandb_attrs\u001b[0m\u001b[0;34m(\u001b[0m\u001b[0mcbk\u001b[0m\u001b[0;34m,\u001b[0m \u001b[0mval_data\u001b[0m\u001b[0;34m)\u001b[0m\u001b[0;34m\u001b[0m\u001b[0;34m\u001b[0m\u001b[0m\n\u001b[0;32m--> 112\u001b[0;31m         \u001b[0;32mreturn\u001b[0m \u001b[0mold_v2\u001b[0m\u001b[0;34m(\u001b[0m\u001b[0;34m*\u001b[0m\u001b[0margs\u001b[0m\u001b[0;34m,\u001b[0m \u001b[0;34m**\u001b[0m\u001b[0mkwargs\u001b[0m\u001b[0;34m)\u001b[0m\u001b[0;34m\u001b[0m\u001b[0;34m\u001b[0m\u001b[0m\n\u001b[0m\u001b[1;32m    113\u001b[0m \u001b[0;34m\u001b[0m\u001b[0m\n\u001b[1;32m    114\u001b[0m     \u001b[0mtraining_arrays\u001b[0m\u001b[0;34m.\u001b[0m\u001b[0morig_fit_loop\u001b[0m \u001b[0;34m=\u001b[0m \u001b[0mold_arrays\u001b[0m\u001b[0;34m\u001b[0m\u001b[0;34m\u001b[0m\u001b[0m\n",
            "\u001b[0;32m/tensorflow-2.1.0/python3.6/tensorflow_core/python/keras/engine/training_v2.py\u001b[0m in \u001b[0;36mfit\u001b[0;34m(self, model, x, y, batch_size, epochs, verbose, callbacks, validation_split, validation_data, shuffle, class_weight, sample_weight, initial_epoch, steps_per_epoch, validation_steps, validation_freq, max_queue_size, workers, use_multiprocessing, **kwargs)\u001b[0m\n\u001b[1;32m    340\u001b[0m                 \u001b[0mmode\u001b[0m\u001b[0;34m=\u001b[0m\u001b[0mModeKeys\u001b[0m\u001b[0;34m.\u001b[0m\u001b[0mTRAIN\u001b[0m\u001b[0;34m,\u001b[0m\u001b[0;34m\u001b[0m\u001b[0;34m\u001b[0m\u001b[0m\n\u001b[1;32m    341\u001b[0m                 \u001b[0mtraining_context\u001b[0m\u001b[0;34m=\u001b[0m\u001b[0mtraining_context\u001b[0m\u001b[0;34m,\u001b[0m\u001b[0;34m\u001b[0m\u001b[0;34m\u001b[0m\u001b[0m\n\u001b[0;32m--> 342\u001b[0;31m                 total_epochs=epochs)\n\u001b[0m\u001b[1;32m    343\u001b[0m             \u001b[0mcbks\u001b[0m\u001b[0;34m.\u001b[0m\u001b[0mmake_logs\u001b[0m\u001b[0;34m(\u001b[0m\u001b[0mmodel\u001b[0m\u001b[0;34m,\u001b[0m \u001b[0mepoch_logs\u001b[0m\u001b[0;34m,\u001b[0m \u001b[0mtraining_result\u001b[0m\u001b[0;34m,\u001b[0m \u001b[0mModeKeys\u001b[0m\u001b[0;34m.\u001b[0m\u001b[0mTRAIN\u001b[0m\u001b[0;34m)\u001b[0m\u001b[0;34m\u001b[0m\u001b[0;34m\u001b[0m\u001b[0m\n\u001b[1;32m    344\u001b[0m \u001b[0;34m\u001b[0m\u001b[0m\n",
            "\u001b[0;32m/tensorflow-2.1.0/python3.6/tensorflow_core/python/keras/engine/training_v2.py\u001b[0m in \u001b[0;36mrun_one_epoch\u001b[0;34m(model, iterator, execution_function, dataset_size, batch_size, strategy, steps_per_epoch, num_samples, mode, training_context, total_epochs)\u001b[0m\n\u001b[1;32m    126\u001b[0m         step=step, mode=mode, size=current_batch_size) as batch_logs:\n\u001b[1;32m    127\u001b[0m       \u001b[0;32mtry\u001b[0m\u001b[0;34m:\u001b[0m\u001b[0;34m\u001b[0m\u001b[0;34m\u001b[0m\u001b[0m\n\u001b[0;32m--> 128\u001b[0;31m         \u001b[0mbatch_outs\u001b[0m \u001b[0;34m=\u001b[0m \u001b[0mexecution_function\u001b[0m\u001b[0;34m(\u001b[0m\u001b[0miterator\u001b[0m\u001b[0;34m)\u001b[0m\u001b[0;34m\u001b[0m\u001b[0;34m\u001b[0m\u001b[0m\n\u001b[0m\u001b[1;32m    129\u001b[0m       \u001b[0;32mexcept\u001b[0m \u001b[0;34m(\u001b[0m\u001b[0mStopIteration\u001b[0m\u001b[0;34m,\u001b[0m \u001b[0merrors\u001b[0m\u001b[0;34m.\u001b[0m\u001b[0mOutOfRangeError\u001b[0m\u001b[0;34m)\u001b[0m\u001b[0;34m:\u001b[0m\u001b[0;34m\u001b[0m\u001b[0;34m\u001b[0m\u001b[0m\n\u001b[1;32m    130\u001b[0m         \u001b[0;31m# TODO(kaftan): File bug about tf function and errors.OutOfRangeError?\u001b[0m\u001b[0;34m\u001b[0m\u001b[0;34m\u001b[0m\u001b[0;34m\u001b[0m\u001b[0m\n",
            "\u001b[0;32m/tensorflow-2.1.0/python3.6/tensorflow_core/python/keras/engine/training_v2_utils.py\u001b[0m in \u001b[0;36mexecution_function\u001b[0;34m(input_fn)\u001b[0m\n\u001b[1;32m     96\u001b[0m     \u001b[0;31m# `numpy` translates Tensors to values in Eager mode.\u001b[0m\u001b[0;34m\u001b[0m\u001b[0;34m\u001b[0m\u001b[0;34m\u001b[0m\u001b[0m\n\u001b[1;32m     97\u001b[0m     return nest.map_structure(_non_none_constant_value,\n\u001b[0;32m---> 98\u001b[0;31m                               distributed_function(input_fn))\n\u001b[0m\u001b[1;32m     99\u001b[0m \u001b[0;34m\u001b[0m\u001b[0m\n\u001b[1;32m    100\u001b[0m   \u001b[0;32mreturn\u001b[0m \u001b[0mexecution_function\u001b[0m\u001b[0;34m\u001b[0m\u001b[0;34m\u001b[0m\u001b[0m\n",
            "\u001b[0;32m/tensorflow-2.1.0/python3.6/tensorflow_core/python/eager/def_function.py\u001b[0m in \u001b[0;36m__call__\u001b[0;34m(self, *args, **kwds)\u001b[0m\n\u001b[1;32m    566\u001b[0m         \u001b[0mxla_context\u001b[0m\u001b[0;34m.\u001b[0m\u001b[0mExit\u001b[0m\u001b[0;34m(\u001b[0m\u001b[0;34m)\u001b[0m\u001b[0;34m\u001b[0m\u001b[0;34m\u001b[0m\u001b[0m\n\u001b[1;32m    567\u001b[0m     \u001b[0;32melse\u001b[0m\u001b[0;34m:\u001b[0m\u001b[0;34m\u001b[0m\u001b[0;34m\u001b[0m\u001b[0m\n\u001b[0;32m--> 568\u001b[0;31m       \u001b[0mresult\u001b[0m \u001b[0;34m=\u001b[0m \u001b[0mself\u001b[0m\u001b[0;34m.\u001b[0m\u001b[0m_call\u001b[0m\u001b[0;34m(\u001b[0m\u001b[0;34m*\u001b[0m\u001b[0margs\u001b[0m\u001b[0;34m,\u001b[0m \u001b[0;34m**\u001b[0m\u001b[0mkwds\u001b[0m\u001b[0;34m)\u001b[0m\u001b[0;34m\u001b[0m\u001b[0;34m\u001b[0m\u001b[0m\n\u001b[0m\u001b[1;32m    569\u001b[0m \u001b[0;34m\u001b[0m\u001b[0m\n\u001b[1;32m    570\u001b[0m     \u001b[0;32mif\u001b[0m \u001b[0mtracing_count\u001b[0m \u001b[0;34m==\u001b[0m \u001b[0mself\u001b[0m\u001b[0;34m.\u001b[0m\u001b[0m_get_tracing_count\u001b[0m\u001b[0;34m(\u001b[0m\u001b[0;34m)\u001b[0m\u001b[0;34m:\u001b[0m\u001b[0;34m\u001b[0m\u001b[0;34m\u001b[0m\u001b[0m\n",
            "\u001b[0;32m/tensorflow-2.1.0/python3.6/tensorflow_core/python/eager/def_function.py\u001b[0m in \u001b[0;36m_call\u001b[0;34m(self, *args, **kwds)\u001b[0m\n\u001b[1;32m    597\u001b[0m       \u001b[0;31m# In this case we have created variables on the first call, so we run the\u001b[0m\u001b[0;34m\u001b[0m\u001b[0;34m\u001b[0m\u001b[0;34m\u001b[0m\u001b[0m\n\u001b[1;32m    598\u001b[0m       \u001b[0;31m# defunned version which is guaranteed to never create variables.\u001b[0m\u001b[0;34m\u001b[0m\u001b[0;34m\u001b[0m\u001b[0;34m\u001b[0m\u001b[0m\n\u001b[0;32m--> 599\u001b[0;31m       \u001b[0;32mreturn\u001b[0m \u001b[0mself\u001b[0m\u001b[0;34m.\u001b[0m\u001b[0m_stateless_fn\u001b[0m\u001b[0;34m(\u001b[0m\u001b[0;34m*\u001b[0m\u001b[0margs\u001b[0m\u001b[0;34m,\u001b[0m \u001b[0;34m**\u001b[0m\u001b[0mkwds\u001b[0m\u001b[0;34m)\u001b[0m  \u001b[0;31m# pylint: disable=not-callable\u001b[0m\u001b[0;34m\u001b[0m\u001b[0;34m\u001b[0m\u001b[0m\n\u001b[0m\u001b[1;32m    600\u001b[0m     \u001b[0;32melif\u001b[0m \u001b[0mself\u001b[0m\u001b[0;34m.\u001b[0m\u001b[0m_stateful_fn\u001b[0m \u001b[0;32mis\u001b[0m \u001b[0;32mnot\u001b[0m \u001b[0;32mNone\u001b[0m\u001b[0;34m:\u001b[0m\u001b[0;34m\u001b[0m\u001b[0;34m\u001b[0m\u001b[0m\n\u001b[1;32m    601\u001b[0m       \u001b[0;31m# Release the lock early so that multiple threads can perform the call\u001b[0m\u001b[0;34m\u001b[0m\u001b[0;34m\u001b[0m\u001b[0;34m\u001b[0m\u001b[0m\n",
            "\u001b[0;32m/tensorflow-2.1.0/python3.6/tensorflow_core/python/eager/function.py\u001b[0m in \u001b[0;36m__call__\u001b[0;34m(self, *args, **kwargs)\u001b[0m\n\u001b[1;32m   2361\u001b[0m     \u001b[0;32mwith\u001b[0m \u001b[0mself\u001b[0m\u001b[0;34m.\u001b[0m\u001b[0m_lock\u001b[0m\u001b[0;34m:\u001b[0m\u001b[0;34m\u001b[0m\u001b[0;34m\u001b[0m\u001b[0m\n\u001b[1;32m   2362\u001b[0m       \u001b[0mgraph_function\u001b[0m\u001b[0;34m,\u001b[0m \u001b[0margs\u001b[0m\u001b[0;34m,\u001b[0m \u001b[0mkwargs\u001b[0m \u001b[0;34m=\u001b[0m \u001b[0mself\u001b[0m\u001b[0;34m.\u001b[0m\u001b[0m_maybe_define_function\u001b[0m\u001b[0;34m(\u001b[0m\u001b[0margs\u001b[0m\u001b[0;34m,\u001b[0m \u001b[0mkwargs\u001b[0m\u001b[0;34m)\u001b[0m\u001b[0;34m\u001b[0m\u001b[0;34m\u001b[0m\u001b[0m\n\u001b[0;32m-> 2363\u001b[0;31m     \u001b[0;32mreturn\u001b[0m \u001b[0mgraph_function\u001b[0m\u001b[0;34m.\u001b[0m\u001b[0m_filtered_call\u001b[0m\u001b[0;34m(\u001b[0m\u001b[0margs\u001b[0m\u001b[0;34m,\u001b[0m \u001b[0mkwargs\u001b[0m\u001b[0;34m)\u001b[0m  \u001b[0;31m# pylint: disable=protected-access\u001b[0m\u001b[0;34m\u001b[0m\u001b[0;34m\u001b[0m\u001b[0m\n\u001b[0m\u001b[1;32m   2364\u001b[0m \u001b[0;34m\u001b[0m\u001b[0m\n\u001b[1;32m   2365\u001b[0m   \u001b[0;34m@\u001b[0m\u001b[0mproperty\u001b[0m\u001b[0;34m\u001b[0m\u001b[0;34m\u001b[0m\u001b[0m\n",
            "\u001b[0;32m/tensorflow-2.1.0/python3.6/tensorflow_core/python/eager/function.py\u001b[0m in \u001b[0;36m_filtered_call\u001b[0;34m(self, args, kwargs)\u001b[0m\n\u001b[1;32m   1609\u001b[0m          if isinstance(t, (ops.Tensor,\n\u001b[1;32m   1610\u001b[0m                            resource_variable_ops.BaseResourceVariable))),\n\u001b[0;32m-> 1611\u001b[0;31m         self.captured_inputs)\n\u001b[0m\u001b[1;32m   1612\u001b[0m \u001b[0;34m\u001b[0m\u001b[0m\n\u001b[1;32m   1613\u001b[0m   \u001b[0;32mdef\u001b[0m \u001b[0m_call_flat\u001b[0m\u001b[0;34m(\u001b[0m\u001b[0mself\u001b[0m\u001b[0;34m,\u001b[0m \u001b[0margs\u001b[0m\u001b[0;34m,\u001b[0m \u001b[0mcaptured_inputs\u001b[0m\u001b[0;34m,\u001b[0m \u001b[0mcancellation_manager\u001b[0m\u001b[0;34m=\u001b[0m\u001b[0;32mNone\u001b[0m\u001b[0;34m)\u001b[0m\u001b[0;34m:\u001b[0m\u001b[0;34m\u001b[0m\u001b[0;34m\u001b[0m\u001b[0m\n",
            "\u001b[0;32m/tensorflow-2.1.0/python3.6/tensorflow_core/python/eager/function.py\u001b[0m in \u001b[0;36m_call_flat\u001b[0;34m(self, args, captured_inputs, cancellation_manager)\u001b[0m\n\u001b[1;32m   1690\u001b[0m       \u001b[0;31m# No tape is watching; skip to running the function.\u001b[0m\u001b[0;34m\u001b[0m\u001b[0;34m\u001b[0m\u001b[0;34m\u001b[0m\u001b[0m\n\u001b[1;32m   1691\u001b[0m       return self._build_call_outputs(self._inference_function.call(\n\u001b[0;32m-> 1692\u001b[0;31m           ctx, args, cancellation_manager=cancellation_manager))\n\u001b[0m\u001b[1;32m   1693\u001b[0m     forward_backward = self._select_forward_and_backward_functions(\n\u001b[1;32m   1694\u001b[0m         \u001b[0margs\u001b[0m\u001b[0;34m,\u001b[0m\u001b[0;34m\u001b[0m\u001b[0;34m\u001b[0m\u001b[0m\n",
            "\u001b[0;32m/tensorflow-2.1.0/python3.6/tensorflow_core/python/eager/function.py\u001b[0m in \u001b[0;36mcall\u001b[0;34m(self, ctx, args, cancellation_manager)\u001b[0m\n\u001b[1;32m    543\u001b[0m               \u001b[0minputs\u001b[0m\u001b[0;34m=\u001b[0m\u001b[0margs\u001b[0m\u001b[0;34m,\u001b[0m\u001b[0;34m\u001b[0m\u001b[0;34m\u001b[0m\u001b[0m\n\u001b[1;32m    544\u001b[0m               \u001b[0mattrs\u001b[0m\u001b[0;34m=\u001b[0m\u001b[0;34m(\u001b[0m\u001b[0;34m\"executor_type\"\u001b[0m\u001b[0;34m,\u001b[0m \u001b[0mexecutor_type\u001b[0m\u001b[0;34m,\u001b[0m \u001b[0;34m\"config_proto\"\u001b[0m\u001b[0;34m,\u001b[0m \u001b[0mconfig\u001b[0m\u001b[0;34m)\u001b[0m\u001b[0;34m,\u001b[0m\u001b[0;34m\u001b[0m\u001b[0;34m\u001b[0m\u001b[0m\n\u001b[0;32m--> 545\u001b[0;31m               ctx=ctx)\n\u001b[0m\u001b[1;32m    546\u001b[0m         \u001b[0;32melse\u001b[0m\u001b[0;34m:\u001b[0m\u001b[0;34m\u001b[0m\u001b[0;34m\u001b[0m\u001b[0m\n\u001b[1;32m    547\u001b[0m           outputs = execute.execute_with_cancellation(\n",
            "\u001b[0;32m/tensorflow-2.1.0/python3.6/tensorflow_core/python/eager/execute.py\u001b[0m in \u001b[0;36mquick_execute\u001b[0;34m(op_name, num_outputs, inputs, attrs, ctx, name)\u001b[0m\n\u001b[1;32m     59\u001b[0m     tensors = pywrap_tensorflow.TFE_Py_Execute(ctx._handle, device_name,\n\u001b[1;32m     60\u001b[0m                                                \u001b[0mop_name\u001b[0m\u001b[0;34m,\u001b[0m \u001b[0minputs\u001b[0m\u001b[0;34m,\u001b[0m \u001b[0mattrs\u001b[0m\u001b[0;34m,\u001b[0m\u001b[0;34m\u001b[0m\u001b[0;34m\u001b[0m\u001b[0m\n\u001b[0;32m---> 61\u001b[0;31m                                                num_outputs)\n\u001b[0m\u001b[1;32m     62\u001b[0m   \u001b[0;32mexcept\u001b[0m \u001b[0mcore\u001b[0m\u001b[0;34m.\u001b[0m\u001b[0m_NotOkStatusException\u001b[0m \u001b[0;32mas\u001b[0m \u001b[0me\u001b[0m\u001b[0;34m:\u001b[0m\u001b[0;34m\u001b[0m\u001b[0;34m\u001b[0m\u001b[0m\n\u001b[1;32m     63\u001b[0m     \u001b[0;32mif\u001b[0m \u001b[0mname\u001b[0m \u001b[0;32mis\u001b[0m \u001b[0;32mnot\u001b[0m \u001b[0;32mNone\u001b[0m\u001b[0;34m:\u001b[0m\u001b[0;34m\u001b[0m\u001b[0;34m\u001b[0m\u001b[0m\n",
            "\u001b[0;31mKeyboardInterrupt\u001b[0m: "
          ]
        }
      ]
    },
    {
      "cell_type": "code",
      "metadata": {
        "colab_type": "code",
        "id": "NesIhQZJFXQK",
        "colab": {}
      },
      "source": [
        "from starter_eda_model_funcs import get_model\n",
        "model = get_model()"
      ],
      "execution_count": 0,
      "outputs": []
    },
    {
      "cell_type": "code",
      "metadata": {
        "colab_type": "code",
        "id": "lXZkUOmP57Lw",
        "colab": {}
      },
      "source": [
        "import os\n",
        "data_path = 'Data/'; prep_folder = 'prep/'\n",
        "# set variables and load training labels\n",
        "image_width, image_height = preprocess_args['image_width'], preprocess_args['image_height']\n",
        "if image_width == image_height:\n",
        "    preprocess_args['image_size'] = image_width\n",
        "prep_path = data_path + prep_folder\n",
        "\n",
        "# check if preprocessing has been done, and coincides with current arguments\n",
        "if os.path.exists(prep_path + 'config.csv'):\n",
        "    # check preprocessing arguments, and convert from DataFrame to Series\n",
        "    prep_config = pd.read_csv(prep_path + 'config.csv', index_col=0, header=None).iloc[:,0]\n",
        "    if not prep_config.equals(pd.Series(preprocess_args)):\n",
        "        # preprocessing arguments do not coince, so\n",
        "        # preprocessing needs to be done with new arguments\n",
        "        print(\"Preprocessing arguments changed. Performing data preprocessing...\")\n",
        "        perform_preprocessing(preprocess_args, data_path=data_path, prep_folder=prep_folder, out='png')\n",
        "else:\n",
        "    print(\"Performing data preprocessing...\")\n",
        "    perform_preprocessing(preprocess_args, data_path=data_path, prep_folder=prep_folder, out='png')\n",
        "\n",
        "\n",
        "# read train labels\n",
        "train_df_ = pd.read_csv(f'{data_path}/train.csv')"
      ],
      "execution_count": 0,
      "outputs": []
    },
    {
      "cell_type": "code",
      "metadata": {
        "colab_type": "code",
        "id": "llYUFKCA57J3",
        "colab": {}
      },
      "source": [
        "if model == None:\n",
        "    assert image_width == image_height, \"function get_model not yet ready for rectanglurar images\"\n",
        "    model = get_model(img_size=image_width)"
      ],
      "execution_count": 0,
      "outputs": []
    },
    {
      "cell_type": "code",
      "metadata": {
        "colab_type": "code",
        "id": "inXr2DYr57If",
        "outputId": "50c104bd-970f-499b-ec08-271d91ffe1ae",
        "colab": {
          "base_uri": "https://localhost:8080/"
        }
      },
      "source": [
        "from helper import to_one_hot\n",
        "\n",
        "# add filename column to train labels df\n",
        "train_df_['filename'] = train_df_['image_id'] + '.png'\n",
        "\n",
        "# convert target labels to one-hot encoding\n",
        "# this also returns the ordered labels of the newly created columns\n",
        "train_df_, features = to_one_hot(train_df_, one_hot_columns = ['grapheme_root', 'vowel_diacritic', 'consonant_diacritic'])\n",
        "assert len(features) == 168 + 11 + 7, print(f\"found {len(features)} one-hot encoded features\")"
      ],
      "execution_count": 0,
      "outputs": [
        {
          "output_type": "stream",
          "text": [
            "Converting grapheme_root to one-hot encoding\n",
            "Converting vowel_diacritic to one-hot encoding\n",
            "Converting consonant_diacritic to one-hot encoding\n"
          ],
          "name": "stdout"
        }
      ]
    },
    {
      "cell_type": "code",
      "metadata": {
        "colab_type": "code",
        "id": "Uj8Wiil-57G7",
        "colab": {}
      },
      "source": [
        "from starter_eda_model_funcs import MultiOutputDataGenerator\n",
        "# define data augmentation generator for multiple outputs\n",
        "train_datagen = MultiOutputDataGenerator(**datagen_args)\n",
        "val_datagen = MultiOutputDataGenerator({})"
      ],
      "execution_count": 0,
      "outputs": []
    },
    {
      "cell_type": "code",
      "metadata": {
        "colab_type": "code",
        "id": "oGoD4xJ357Ej",
        "outputId": "a8fe7876-6001-4b5f-b193-1bb3dc19f389",
        "colab": {
          "base_uri": "https://localhost:8080/"
        }
      },
      "source": [
        "from sklearn.model_selection import train_test_split\n",
        "from helper import flow_from_prep\n",
        "batch_size = 256\n",
        "# split the train and validation data\n",
        "train_df, val_df = train_test_split(train_df_, test_size=0.08, random_state=666)\n",
        "\n",
        "# couple the data generator to the prepared images\n",
        "train_generator = flow_from_prep(train_datagen, df=train_df, prep_path=prep_path, labels=features,\n",
        "                                image_size=(image_width, image_height), batch_size=batch_size)\n",
        "val_generator = flow_from_prep(val_datagen, df=val_df, prep_path=prep_path, labels=features,\n",
        "                                image_size=(image_width, image_height), batch_size=batch_size)"
      ],
      "execution_count": 0,
      "outputs": [
        {
          "output_type": "stream",
          "text": [
            "Found 184772 validated image filenames.\n",
            "Found 16068 validated image filenames.\n"
          ],
          "name": "stdout"
        }
      ]
    },
    {
      "cell_type": "code",
      "metadata": {
        "colab_type": "code",
        "id": "PcrKf1e956_i",
        "colab": {}
      },
      "source": [
        "from helper import GlobalAccuracyCallback, generator_wrapper\n",
        "# create custom global accuracy with weights 50%, 25%, 25%\n",
        "global_accuracy_callback = GlobalAccuracyCallback(validation_generator = val_generator)"
      ],
      "execution_count": 0,
      "outputs": []
    },
    {
      "cell_type": "code",
      "metadata": {
        "colab_type": "code",
        "id": "bWrW8S7VG9uv",
        "outputId": "736d3eca-710a-43a1-ad7b-63354a343e0e",
        "colab": {
          "base_uri": "https://localhost:8080/"
        }
      },
      "source": [
        "from helper import get_lr_reduction_calbacks\n",
        "epochs = 1\n",
        "# get lr reduction on plateau callbacks\n",
        "lr_reduction_root, lr_reduction_vowel, lr_reduction_consonant = get_lr_reduction_calbacks()\n",
        "\n",
        "# Fit the model\n",
        "# wrap the data generator to support multiple output labels\n",
        "history = model.fit(generator_wrapper(train_generator), validation_data = generator_wrapper(val_generator),\n",
        "                    epochs = epochs, steps_per_epoch=train_generator.n//train_generator.batch_size,\n",
        "                    validation_steps=val_generator.n//val_generator.batch_size,\n",
        "                    callbacks=[lr_reduction_root, lr_reduction_vowel, lr_reduction_consonant,\n",
        "                                global_accuracy_callback])"
      ],
      "execution_count": 0,
      "outputs": [
        {
          "output_type": "stream",
          "text": [
            "WARNING:tensorflow:sample_weight modes were coerced from\n",
            "  {'out_root': '...', 'out_vowel': '...', 'out_consonant': '...'}\n",
            "    to  \n",
            "  ['...', '...', '...']\n",
            "WARNING:tensorflow:sample_weight modes were coerced from\n",
            "  {'out_root': '...', 'out_vowel': '...', 'out_consonant': '...'}\n",
            "    to  \n",
            "  ['...', '...', '...']\n",
            "Train for 721 steps, validate for 62 steps\n",
            "721/721 [==============================] - 136s 188ms/step - loss: 10.0076 - out_root_loss: 3.9592 - out_vowel_loss: 1.1304 - out_consonant_loss: 0.9589 - out_root_acc: 0.0899 - out_vowel_acc: 0.5985 - out_consonant_acc: 0.6760 - val_loss: 6.0754 - val_out_root_loss: 2.5231 - val_out_vowel_loss: 0.5551 - val_out_consonant_loss: 0.4741 - val_out_root_acc: 0.2718 - val_out_vowel_acc: 0.8012 - val_out_consonant_acc: 0.8245\n"
          ],
          "name": "stdout"
        }
      ]
    },
    {
      "cell_type": "code",
      "metadata": {
        "colab_type": "code",
        "id": "e_-wtGVj5683",
        "outputId": "cfe71d0a-59c9-49f7-ff17-357ab08b5477",
        "colab": {
          "base_uri": "https://localhost:8080/"
        }
      },
      "source": [
        "val_generator.reset()\n",
        "metrics = model.evaluate(generator_wrapper(val_generator), \n",
        "                         steps=val_generator.n // val_generator.batch_size,\n",
        "                         verbose=1)\n",
        "metric_labels = model.metrics_names"
      ],
      "execution_count": 0,
      "outputs": [
        {
          "output_type": "stream",
          "text": [
            "WARNING:tensorflow:sample_weight modes were coerced from\n",
            "  {'out_root': '...', 'out_vowel': '...', 'out_consonant': '...'}\n",
            "    to  \n",
            "  ['...', '...', '...']\n",
            "62/62 [==============================] - 3s 49ms/step - loss: 6.0742 - out_root_loss: 2.5211 - out_vowel_loss: 0.5526 - out_consonant_loss: 0.4793 - out_root_acc: 0.2697 - out_vowel_acc: 0.8026 - out_consonant_acc: 0.8212\n"
          ],
          "name": "stdout"
        }
      ]
    },
    {
      "cell_type": "code",
      "metadata": {
        "colab_type": "code",
        "id": "mhA3xAAfGZsv",
        "colab": {}
      },
      "source": [
        "global_acc = 0\n",
        "global_weights = {'out_root_acc': 0.5, 'out_vowel_acc': 0.25, 'out_consonant_acc': 0.25}\n",
        "assert np.sum(list(global_weights.values())) == 1., \"Set weights to sum to one, for normalization\""
      ],
      "execution_count": 0,
      "outputs": []
    },
    {
      "cell_type": "code",
      "metadata": {
        "colab_type": "code",
        "id": "D09fvyGPIBYN",
        "outputId": "7261558f-b07c-42d4-9701-b52d69f53394",
        "colab": {
          "base_uri": "https://localhost:8080/"
        }
      },
      "source": [
        "metrics, metric_labels"
      ],
      "execution_count": 0,
      "outputs": [
        {
          "output_type": "execute_result",
          "data": {
            "text/plain": [
              "([6.074159445301179,\n",
              "  2.5210865,\n",
              "  0.5526414,\n",
              "  0.47934666,\n",
              "  0.26972026,\n",
              "  0.8026084,\n",
              "  0.8211945],\n",
              " ['loss',\n",
              "  'out_root_loss',\n",
              "  'out_vowel_loss',\n",
              "  'out_consonant_loss',\n",
              "  'out_root_acc',\n",
              "  'out_vowel_acc',\n",
              "  'out_consonant_acc'])"
            ]
          },
          "metadata": {
            "tags": []
          },
          "execution_count": 34
        }
      ]
    },
    {
      "cell_type": "code",
      "metadata": {
        "colab_type": "code",
        "id": "1lHQSOZ2IGiS",
        "colab": {}
      },
      "source": [
        "for key, weight in global_weights.items():\n",
        "    idx = metric_labels.index(key)\n",
        "    global_acc += metrics[idx] * weight"
      ],
      "execution_count": 0,
      "outputs": []
    },
    {
      "cell_type": "code",
      "metadata": {
        "colab_type": "code",
        "id": "Vt3uHPAMIbns",
        "outputId": "9ef1dbb2-578b-4e0b-823e-ce8ba6d9f435",
        "colab": {
          "base_uri": "https://localhost:8080/"
        }
      },
      "source": [
        "global_acc"
      ],
      "execution_count": 0,
      "outputs": [
        {
          "output_type": "execute_result",
          "data": {
            "text/plain": [
              "0.5408108532428741"
            ]
          },
          "metadata": {
            "tags": []
          },
          "execution_count": 39
        }
      ]
    },
    {
      "cell_type": "markdown",
      "metadata": {
        "colab_type": "text",
        "id": "hFXirXZgJJSG"
      },
      "source": [
        "# Utilize new preprocessing"
      ]
    },
    {
      "cell_type": "code",
      "metadata": {
        "colab_type": "code",
        "id": "V0KEXF5QJLeR",
        "outputId": "bf1a0211-eecb-4d40-c159-0cff1830e365",
        "colab": {
          "base_uri": "https://localhost:8080/",
          "height": 1000,
          "referenced_widgets": [
            "85cb4e496cee448faeefff4251fd6947",
            "1b5bc9f566594d279197b04131b7fd2c",
            "52ac3e96fcb947e683ba8adb1094cd73",
            "79f984a071b74f0692a8f03da967e1b8",
            "e6238ebab0e843699c133780cf5e5982",
            "a91cd587012b47bb9afafb764feedf00",
            "e13ee7cd674a4c1d972f3e73dbd46024",
            "0fb0688cb97443c09dbe811a357146fe",
            "82afc93e82f544fa9b77263ff4f4476b",
            "3a27ca226f1545308d5b19147a5bc39f",
            "66f5ab3c0f9041469212c4f26b1a9d89",
            "038ff7ed3fc64ecdac06f9d5ad10b81a",
            "9534778bf2ac47fd95a66192f09b001d",
            "b0232c1d8be445e6b70d2e56ab607cdd",
            "e0dee7d41e8c441e841c152b5933013d",
            "884a4229aa574bb6a3bbe025574ebe36",
            "efaea75136534b64a39471cfe27582df",
            "275df1f539c84d83b889b2e0c4ac3b86",
            "3611c8492b35465d8abb855ff6d0fecb",
            "9c565eab4a384a6f856c0b20050cb76d",
            "9795b737399f4001bd6b2b9191dcbac6",
            "e73de080f17443c6bd1cd428a38837cb",
            "0ceaddbe54e4478daf50ef16957f3414",
            "70fc1ad296824d9dabe05c8f685d1126",
            "c638cc99ea7f4f2899fd80d16f2e1068",
            "e5251f93c1d048c4814cfc99212c6c99",
            "9f954c248d054ce5b3eabb1066b06334",
            "f2c7c7cee89f49a398b035f6d1e98b08",
            "c213590b9efc490590edd218b610b696",
            "26b6cc57b9f3435aa3012c3d5568a394",
            "dd785ad4bed044bc8ad07abaa92d4f99",
            "55aa3a9d4bb34f6cb0ed14aa3fe4c2b0"
          ]
        }
      },
      "source": [
        "from helper import train_from_prep\n",
        "\n",
        "datagen_args = dict(\n",
        "    featurewise_center=False,  # set input mean to 0 over the dataset\n",
        "    samplewise_center=False,  # set each sample mean to 0\n",
        "    featurewise_std_normalization=False,  # divide inputs by std of the dataset\n",
        "    samplewise_std_normalization=False,  # divide each input by its std\n",
        "    zca_whitening=False,  # apply ZCA whitening\n",
        "    rotation_range=8,  # randomly rotate images in the range (degrees, 0 to 180)\n",
        "    zoom_range = 0.15, # Randomly zoom image \n",
        "    width_shift_range=0.15,  # randomly shift images horizontally (fraction of total width)\n",
        "    height_shift_range=0.15,  # randomly shift images vertically (fraction of total height)\n",
        "    horizontal_flip=False,  # randomly flip images\n",
        "    vertical_flip=False,\n",
        "    shear_range=8, #Shear Intensity (Shear angle in counter-clockwise direction in degrees)\n",
        ")\n",
        "\n",
        "# leaves actual grapheme at 64x64, but adds a padding of 16 all around\n",
        "preprocess_args = dict(\n",
        "    image_width = 96,\n",
        "    image_height = 96,\n",
        "    padding = 16,\n",
        ")\n",
        "\n",
        "model = train_from_prep(datagen_args, name='Image 96, padding 16', \n",
        "                        preprocess_args=preprocess_args)"
      ],
      "execution_count": 0,
      "outputs": [
        {
          "output_type": "stream",
          "text": [
            "Performing data preprocessing...\n"
          ],
          "name": "stdout"
        },
        {
          "output_type": "display_data",
          "data": {
            "application/vnd.jupyter.widget-view+json": {
              "model_id": "85cb4e496cee448faeefff4251fd6947",
              "version_major": 2,
              "version_minor": 0
            },
            "text/plain": [
              "HBox(children=(IntProgress(value=0, description='Part 0', max=50210, style=ProgressStyle(description_width='in…"
            ]
          },
          "metadata": {
            "tags": []
          }
        },
        {
          "output_type": "stream",
          "text": [
            "\n"
          ],
          "name": "stdout"
        },
        {
          "output_type": "display_data",
          "data": {
            "application/vnd.jupyter.widget-view+json": {
              "model_id": "82afc93e82f544fa9b77263ff4f4476b",
              "version_major": 2,
              "version_minor": 0
            },
            "text/plain": [
              "HBox(children=(IntProgress(value=0, description='Part 1', max=50210, style=ProgressStyle(description_width='in…"
            ]
          },
          "metadata": {
            "tags": []
          }
        },
        {
          "output_type": "stream",
          "text": [
            "\n"
          ],
          "name": "stdout"
        },
        {
          "output_type": "display_data",
          "data": {
            "application/vnd.jupyter.widget-view+json": {
              "model_id": "efaea75136534b64a39471cfe27582df",
              "version_major": 2,
              "version_minor": 0
            },
            "text/plain": [
              "HBox(children=(IntProgress(value=0, description='Part 2', max=50210, style=ProgressStyle(description_width='in…"
            ]
          },
          "metadata": {
            "tags": []
          }
        },
        {
          "output_type": "stream",
          "text": [
            "\n"
          ],
          "name": "stdout"
        },
        {
          "output_type": "display_data",
          "data": {
            "application/vnd.jupyter.widget-view+json": {
              "model_id": "c638cc99ea7f4f2899fd80d16f2e1068",
              "version_major": 2,
              "version_minor": 0
            },
            "text/plain": [
              "HBox(children=(IntProgress(value=0, description='Part 3', max=50210, style=ProgressStyle(description_width='in…"
            ]
          },
          "metadata": {
            "tags": []
          }
        },
        {
          "output_type": "stream",
          "text": [
            "\n"
          ],
          "name": "stdout"
        },
        {
          "output_type": "display_data",
          "data": {
            "text/html": [
              "\n",
              "                Logging results to <a href=\"https://wandb.com\" target=\"_blank\">Weights & Biases</a> <a href=\"https://docs.wandb.com/integrations/jupyter.html\" target=\"_blank\">(Documentation)</a>.<br/>\n",
              "                Project page: <a href=\"https://app.wandb.ai/joeranbosma/mlip\" target=\"_blank\">https://app.wandb.ai/joeranbosma/mlip</a><br/>\n",
              "                Run page: <a href=\"https://app.wandb.ai/joeranbosma/mlip/runs/kquou0mx\" target=\"_blank\">https://app.wandb.ai/joeranbosma/mlip/runs/kquou0mx</a><br/>\n",
              "            "
            ],
            "text/plain": [
              "<IPython.core.display.HTML object>"
            ]
          },
          "metadata": {
            "tags": []
          }
        },
        {
          "output_type": "stream",
          "text": [
            "Converting grapheme_root to one-hot encoding\n",
            "Converting vowel_diacritic to one-hot encoding\n",
            "Converting consonant_diacritic to one-hot encoding\n",
            "Found 184772 validated image filenames.\n",
            "Found 16068 validated image filenames.\n",
            "WARNING:tensorflow:sample_weight modes were coerced from\n",
            "  {'out_root': '...', 'out_vowel': '...', 'out_consonant': '...'}\n",
            "    to  \n",
            "  ['...', '...', '...']\n",
            "WARNING:tensorflow:sample_weight modes were coerced from\n",
            "  {'out_root': '...', 'out_vowel': '...', 'out_consonant': '...'}\n",
            "    to  \n",
            "  ['...', '...', '...']\n",
            "Train for 721 steps, validate for 62 steps\n",
            "Epoch 1/30\n",
            "720/721 [============================>.] - ETA: 0s - loss: 2.5178 - out_root_loss: 4.0038 - out_vowel_loss: 1.1792 - out_consonant_loss: 0.8843 - out_root_acc: 0.0874 - out_vowel_acc: 0.5843 - out_consonant_acc: 0.7035WARNING:tensorflow:sample_weight modes were coerced from\n",
            "  {'out_root': '...', 'out_vowel': '...', 'out_consonant': '...'}\n",
            "    to  \n",
            "  ['...', '...', '...']\n",
            "721/721 [==============================] - 220s 305ms/step - loss: 2.5168 - out_root_loss: 4.0024 - out_vowel_loss: 1.1785 - out_consonant_loss: 0.8840 - out_root_acc: 0.0876 - out_vowel_acc: 0.5846 - out_consonant_acc: 0.7036 - val_loss: 1.5769 - val_out_root_loss: 2.6533 - val_out_vowel_loss: 0.5171 - val_out_consonant_loss: 0.4840 - val_out_root_acc: 0.2704 - val_out_vowel_acc: 0.8244 - val_out_consonant_acc: 0.8153\n",
            "Epoch 2/30\n",
            "720/721 [============================>.] - ETA: 0s - loss: 1.1828 - out_root_loss: 1.9046 - out_vowel_loss: 0.5192 - out_consonant_loss: 0.4029 - out_root_acc: 0.4642 - out_vowel_acc: 0.8269 - out_consonant_acc: 0.8634WARNING:tensorflow:sample_weight modes were coerced from\n",
            "  {'out_root': '...', 'out_vowel': '...', 'out_consonant': '...'}\n",
            "    to  \n",
            "  ['...', '...', '...']\n",
            "721/721 [==============================] - 211s 293ms/step - loss: 1.1821 - out_root_loss: 1.9033 - out_vowel_loss: 0.5191 - out_consonant_loss: 0.4027 - out_root_acc: 0.4646 - out_vowel_acc: 0.8270 - out_consonant_acc: 0.8634 - val_loss: 0.4977 - val_out_root_loss: 0.7905 - val_out_vowel_loss: 0.2222 - val_out_consonant_loss: 0.1876 - val_out_root_acc: 0.7697 - val_out_vowel_acc: 0.9290 - val_out_consonant_acc: 0.9397\n",
            "Epoch 3/30\n",
            "720/721 [============================>.] - ETA: 0s - loss: 0.5698 - out_root_loss: 0.8713 - out_vowel_loss: 0.3014 - out_consonant_loss: 0.2351 - out_root_acc: 0.7518 - out_vowel_acc: 0.9058 - out_consonant_acc: 0.9250WARNING:tensorflow:sample_weight modes were coerced from\n",
            "  {'out_root': '...', 'out_vowel': '...', 'out_consonant': '...'}\n",
            "    to  \n",
            "  ['...', '...', '...']\n",
            "721/721 [==============================] - 210s 291ms/step - loss: 0.5696 - out_root_loss: 0.8710 - out_vowel_loss: 0.3013 - out_consonant_loss: 0.2351 - out_root_acc: 0.7518 - out_vowel_acc: 0.9058 - out_consonant_acc: 0.9250 - val_loss: 0.3090 - val_out_root_loss: 0.4811 - val_out_vowel_loss: 0.1541 - val_out_consonant_loss: 0.1196 - val_out_root_acc: 0.8661 - val_out_vowel_acc: 0.9546 - val_out_consonant_acc: 0.9640\n",
            "Epoch 4/30\n",
            "720/721 [============================>.] - ETA: 0s - loss: 0.4036 - out_root_loss: 0.6070 - out_vowel_loss: 0.2195 - out_consonant_loss: 0.1808 - out_root_acc: 0.8294 - out_vowel_acc: 0.9354 - out_consonant_acc: 0.9443WARNING:tensorflow:sample_weight modes were coerced from\n",
            "  {'out_root': '...', 'out_vowel': '...', 'out_consonant': '...'}\n",
            "    to  \n",
            "  ['...', '...', '...']\n",
            "721/721 [==============================] - 210s 291ms/step - loss: 0.4035 - out_root_loss: 0.6068 - out_vowel_loss: 0.2195 - out_consonant_loss: 0.1808 - out_root_acc: 0.8294 - out_vowel_acc: 0.9354 - out_consonant_acc: 0.9443 - val_loss: 0.2355 - val_out_root_loss: 0.3679 - val_out_vowel_loss: 0.1071 - val_out_consonant_loss: 0.0992 - val_out_root_acc: 0.8998 - val_out_vowel_acc: 0.9719 - val_out_consonant_acc: 0.9703\n",
            "Epoch 5/30\n",
            "720/721 [============================>.] - ETA: 0s - loss: 0.3297 - out_root_loss: 0.4919 - out_vowel_loss: 0.1824 - out_consonant_loss: 0.1527 - out_root_acc: 0.8617 - out_vowel_acc: 0.9475 - out_consonant_acc: 0.9531WARNING:tensorflow:sample_weight modes were coerced from\n",
            "  {'out_root': '...', 'out_vowel': '...', 'out_consonant': '...'}\n",
            "    to  \n",
            "  ['...', '...', '...']\n",
            "721/721 [==============================] - 209s 290ms/step - loss: 0.3298 - out_root_loss: 0.4920 - out_vowel_loss: 0.1824 - out_consonant_loss: 0.1527 - out_root_acc: 0.8617 - out_vowel_acc: 0.9475 - out_consonant_acc: 0.9531 - val_loss: 0.2052 - val_out_root_loss: 0.3179 - val_out_vowel_loss: 0.0970 - val_out_consonant_loss: 0.0881 - val_out_root_acc: 0.9100 - val_out_vowel_acc: 0.9746 - val_out_consonant_acc: 0.9733\n",
            "Epoch 6/30\n",
            "720/721 [============================>.] - ETA: 0s - loss: 0.2879 - out_root_loss: 0.4288 - out_vowel_loss: 0.1591 - out_consonant_loss: 0.1349 - out_root_acc: 0.8803 - out_vowel_acc: 0.9552 - out_consonant_acc: 0.9593WARNING:tensorflow:sample_weight modes were coerced from\n",
            "  {'out_root': '...', 'out_vowel': '...', 'out_consonant': '...'}\n",
            "    to  \n",
            "  ['...', '...', '...']\n",
            "721/721 [==============================] - 209s 290ms/step - loss: 0.2879 - out_root_loss: 0.4288 - out_vowel_loss: 0.1591 - out_consonant_loss: 0.1349 - out_root_acc: 0.8803 - out_vowel_acc: 0.9552 - out_consonant_acc: 0.9593 - val_loss: 0.1869 - val_out_root_loss: 0.2891 - val_out_vowel_loss: 0.0888 - val_out_consonant_loss: 0.0807 - val_out_root_acc: 0.9192 - val_out_vowel_acc: 0.9763 - val_out_consonant_acc: 0.9769\n",
            "Epoch 7/30\n",
            "720/721 [============================>.] - ETA: 0s - loss: 0.2596 - out_root_loss: 0.3842 - out_vowel_loss: 0.1467 - out_consonant_loss: 0.1233 - out_root_acc: 0.8919 - out_vowel_acc: 0.9594 - out_consonant_acc: 0.9632WARNING:tensorflow:sample_weight modes were coerced from\n",
            "  {'out_root': '...', 'out_vowel': '...', 'out_consonant': '...'}\n",
            "    to  \n",
            "  ['...', '...', '...']\n",
            "721/721 [==============================] - 209s 290ms/step - loss: 0.2596 - out_root_loss: 0.3842 - out_vowel_loss: 0.1467 - out_consonant_loss: 0.1233 - out_root_acc: 0.8919 - out_vowel_acc: 0.9594 - out_consonant_acc: 0.9632 - val_loss: 0.1718 - val_out_root_loss: 0.2660 - val_out_vowel_loss: 0.0788 - val_out_consonant_loss: 0.0762 - val_out_root_acc: 0.9270 - val_out_vowel_acc: 0.9805 - val_out_consonant_acc: 0.9779\n",
            "Epoch 8/30\n",
            "720/721 [============================>.] - ETA: 0s - loss: 0.2379 - out_root_loss: 0.3512 - out_vowel_loss: 0.1356 - out_consonant_loss: 0.1137 - out_root_acc: 0.9014 - out_vowel_acc: 0.9629 - out_consonant_acc: 0.9660WARNING:tensorflow:sample_weight modes were coerced from\n",
            "  {'out_root': '...', 'out_vowel': '...', 'out_consonant': '...'}\n",
            "    to  \n",
            "  ['...', '...', '...']\n",
            "721/721 [==============================] - 209s 290ms/step - loss: 0.2379 - out_root_loss: 0.3512 - out_vowel_loss: 0.1356 - out_consonant_loss: 0.1136 - out_root_acc: 0.9014 - out_vowel_acc: 0.9629 - out_consonant_acc: 0.9661 - val_loss: 0.1622 - val_out_root_loss: 0.2486 - val_out_vowel_loss: 0.0795 - val_out_consonant_loss: 0.0721 - val_out_root_acc: 0.9326 - val_out_vowel_acc: 0.9787 - val_out_consonant_acc: 0.9803\n",
            "Epoch 9/30\n",
            "720/721 [============================>.] - ETA: 0s - loss: 0.2205 - out_root_loss: 0.3256 - out_vowel_loss: 0.1243 - out_consonant_loss: 0.1064 - out_root_acc: 0.9097 - out_vowel_acc: 0.9662 - out_consonant_acc: 0.9683WARNING:tensorflow:sample_weight modes were coerced from\n",
            "  {'out_root': '...', 'out_vowel': '...', 'out_consonant': '...'}\n",
            "    to  \n",
            "  ['...', '...', '...']\n",
            "721/721 [==============================] - 209s 290ms/step - loss: 0.2204 - out_root_loss: 0.3255 - out_vowel_loss: 0.1242 - out_consonant_loss: 0.1064 - out_root_acc: 0.9097 - out_vowel_acc: 0.9662 - out_consonant_acc: 0.9683 - val_loss: 0.1505 - val_out_root_loss: 0.2285 - val_out_vowel_loss: 0.0800 - val_out_consonant_loss: 0.0649 - val_out_root_acc: 0.9361 - val_out_vowel_acc: 0.9800 - val_out_consonant_acc: 0.9824\n",
            "Epoch 10/30\n",
            "720/721 [============================>.] - ETA: 0s - loss: 0.2064 - out_root_loss: 0.3031 - out_vowel_loss: 0.1183 - out_consonant_loss: 0.1010 - out_root_acc: 0.9146 - out_vowel_acc: 0.9677 - out_consonant_acc: 0.9701WARNING:tensorflow:sample_weight modes were coerced from\n",
            "  {'out_root': '...', 'out_vowel': '...', 'out_consonant': '...'}\n",
            "    to  \n",
            "  ['...', '...', '...']\n",
            "721/721 [==============================] - 209s 290ms/step - loss: 0.2064 - out_root_loss: 0.3031 - out_vowel_loss: 0.1183 - out_consonant_loss: 0.1011 - out_root_acc: 0.9146 - out_vowel_acc: 0.9677 - out_consonant_acc: 0.9701 - val_loss: 0.1449 - val_out_root_loss: 0.2258 - val_out_vowel_loss: 0.0687 - val_out_consonant_loss: 0.0596 - val_out_root_acc: 0.9395 - val_out_vowel_acc: 0.9826 - val_out_consonant_acc: 0.9826\n",
            "Epoch 11/30\n",
            "720/721 [============================>.] - ETA: 0s - loss: 0.1948 - out_root_loss: 0.2868 - out_vowel_loss: 0.1115 - out_consonant_loss: 0.0938 - out_root_acc: 0.9194 - out_vowel_acc: 0.9701 - out_consonant_acc: 0.9722WARNING:tensorflow:sample_weight modes were coerced from\n",
            "  {'out_root': '...', 'out_vowel': '...', 'out_consonant': '...'}\n",
            "    to  \n",
            "  ['...', '...', '...']\n",
            "721/721 [==============================] - 210s 291ms/step - loss: 0.1948 - out_root_loss: 0.2868 - out_vowel_loss: 0.1116 - out_consonant_loss: 0.0938 - out_root_acc: 0.9194 - out_vowel_acc: 0.9701 - out_consonant_acc: 0.9722 - val_loss: 0.1393 - val_out_root_loss: 0.2162 - val_out_vowel_loss: 0.0649 - val_out_consonant_loss: 0.0597 - val_out_root_acc: 0.9412 - val_out_vowel_acc: 0.9836 - val_out_consonant_acc: 0.9830\n",
            "Epoch 12/30\n",
            "720/721 [============================>.] - ETA: 0s - loss: 0.1836 - out_root_loss: 0.2687 - out_vowel_loss: 0.1067 - out_consonant_loss: 0.0905 - out_root_acc: 0.9245 - out_vowel_acc: 0.9715 - out_consonant_acc: 0.9734WARNING:tensorflow:sample_weight modes were coerced from\n",
            "  {'out_root': '...', 'out_vowel': '...', 'out_consonant': '...'}\n",
            "    to  \n",
            "  ['...', '...', '...']\n",
            "721/721 [==============================] - 210s 291ms/step - loss: 0.1837 - out_root_loss: 0.2687 - out_vowel_loss: 0.1067 - out_consonant_loss: 0.0906 - out_root_acc: 0.9245 - out_vowel_acc: 0.9714 - out_consonant_acc: 0.9734 - val_loss: 0.1350 - val_out_root_loss: 0.2067 - val_out_vowel_loss: 0.0696 - val_out_consonant_loss: 0.0571 - val_out_root_acc: 0.9452 - val_out_vowel_acc: 0.9832 - val_out_consonant_acc: 0.9831\n",
            "Epoch 13/30\n",
            "720/721 [============================>.] - ETA: 0s - loss: 0.1751 - out_root_loss: 0.2560 - out_vowel_loss: 0.1026 - out_consonant_loss: 0.0859 - out_root_acc: 0.9278 - out_vowel_acc: 0.9725 - out_consonant_acc: 0.9747WARNING:tensorflow:sample_weight modes were coerced from\n",
            "  {'out_root': '...', 'out_vowel': '...', 'out_consonant': '...'}\n",
            "    to  \n",
            "  ['...', '...', '...']\n",
            "721/721 [==============================] - 209s 290ms/step - loss: 0.1752 - out_root_loss: 0.2561 - out_vowel_loss: 0.1026 - out_consonant_loss: 0.0860 - out_root_acc: 0.9277 - out_vowel_acc: 0.9725 - out_consonant_acc: 0.9747 - val_loss: 0.1314 - val_out_root_loss: 0.2029 - val_out_vowel_loss: 0.0620 - val_out_consonant_loss: 0.0580 - val_out_root_acc: 0.9442 - val_out_vowel_acc: 0.9846 - val_out_consonant_acc: 0.9836\n",
            "Epoch 14/30\n",
            "720/721 [============================>.] - ETA: 0s - loss: 0.1664 - out_root_loss: 0.2416 - out_vowel_loss: 0.0970 - out_consonant_loss: 0.0854 - out_root_acc: 0.9316 - out_vowel_acc: 0.9744 - out_consonant_acc: 0.9751WARNING:tensorflow:sample_weight modes were coerced from\n",
            "  {'out_root': '...', 'out_vowel': '...', 'out_consonant': '...'}\n",
            "    to  \n",
            "  ['...', '...', '...']\n",
            "721/721 [==============================] - 209s 289ms/step - loss: 0.1663 - out_root_loss: 0.2414 - out_vowel_loss: 0.0970 - out_consonant_loss: 0.0854 - out_root_acc: 0.9316 - out_vowel_acc: 0.9744 - out_consonant_acc: 0.9751 - val_loss: 0.1327 - val_out_root_loss: 0.1969 - val_out_vowel_loss: 0.0772 - val_out_consonant_loss: 0.0599 - val_out_root_acc: 0.9467 - val_out_vowel_acc: 0.9810 - val_out_consonant_acc: 0.9832\n",
            "Epoch 15/30\n",
            "720/721 [============================>.] - ETA: 0s - loss: 0.1589 - out_root_loss: 0.2300 - out_vowel_loss: 0.0935 - out_consonant_loss: 0.0820 - out_root_acc: 0.9345 - out_vowel_acc: 0.9747 - out_consonant_acc: 0.9765WARNING:tensorflow:sample_weight modes were coerced from\n",
            "  {'out_root': '...', 'out_vowel': '...', 'out_consonant': '...'}\n",
            "    to  \n",
            "  ['...', '...', '...']\n",
            "721/721 [==============================] - 209s 290ms/step - loss: 0.1589 - out_root_loss: 0.2301 - out_vowel_loss: 0.0934 - out_consonant_loss: 0.0820 - out_root_acc: 0.9345 - out_vowel_acc: 0.9747 - out_consonant_acc: 0.9765 - val_loss: 0.1275 - val_out_root_loss: 0.1954 - val_out_vowel_loss: 0.0657 - val_out_consonant_loss: 0.0536 - val_out_root_acc: 0.9467 - val_out_vowel_acc: 0.9844 - val_out_consonant_acc: 0.9846\n",
            "Epoch 16/30\n",
            "720/721 [============================>.] - ETA: 0s - loss: 0.1504 - out_root_loss: 0.2182 - out_vowel_loss: 0.0891 - out_consonant_loss: 0.0762 - out_root_acc: 0.9377 - out_vowel_acc: 0.9762 - out_consonant_acc: 0.9777WARNING:tensorflow:sample_weight modes were coerced from\n",
            "  {'out_root': '...', 'out_vowel': '...', 'out_consonant': '...'}\n",
            "    to  \n",
            "  ['...', '...', '...']\n",
            "721/721 [==============================] - 209s 290ms/step - loss: 0.1504 - out_root_loss: 0.2181 - out_vowel_loss: 0.0892 - out_consonant_loss: 0.0762 - out_root_acc: 0.9378 - out_vowel_acc: 0.9762 - out_consonant_acc: 0.9777 - val_loss: 0.1193 - val_out_root_loss: 0.1855 - val_out_vowel_loss: 0.0560 - val_out_consonant_loss: 0.0503 - val_out_root_acc: 0.9504 - val_out_vowel_acc: 0.9865 - val_out_consonant_acc: 0.9852\n",
            "Epoch 17/30\n",
            "720/721 [============================>.] - ETA: 0s - loss: 0.1459 - out_root_loss: 0.2114 - out_vowel_loss: 0.0873 - out_consonant_loss: 0.0735 - out_root_acc: 0.9395 - out_vowel_acc: 0.9769 - out_consonant_acc: 0.9786WARNING:tensorflow:sample_weight modes were coerced from\n",
            "  {'out_root': '...', 'out_vowel': '...', 'out_consonant': '...'}\n",
            "    to  \n",
            "  ['...', '...', '...']\n",
            "721/721 [==============================] - 209s 289ms/step - loss: 0.1459 - out_root_loss: 0.2114 - out_vowel_loss: 0.0874 - out_consonant_loss: 0.0735 - out_root_acc: 0.9395 - out_vowel_acc: 0.9769 - out_consonant_acc: 0.9786 - val_loss: 0.1194 - val_out_root_loss: 0.1795 - val_out_vowel_loss: 0.0598 - val_out_consonant_loss: 0.0587 - val_out_root_acc: 0.9500 - val_out_vowel_acc: 0.9856 - val_out_consonant_acc: 0.9840\n",
            "Epoch 18/30\n",
            "720/721 [============================>.] - ETA: 0s - loss: 0.1397 - out_root_loss: 0.2028 - out_vowel_loss: 0.0826 - out_consonant_loss: 0.0707 - out_root_acc: 0.9421 - out_vowel_acc: 0.9779 - out_consonant_acc: 0.9799WARNING:tensorflow:sample_weight modes were coerced from\n",
            "  {'out_root': '...', 'out_vowel': '...', 'out_consonant': '...'}\n",
            "    to  \n",
            "  ['...', '...', '...']\n",
            "721/721 [==============================] - 209s 290ms/step - loss: 0.1398 - out_root_loss: 0.2029 - out_vowel_loss: 0.0826 - out_consonant_loss: 0.0707 - out_root_acc: 0.9421 - out_vowel_acc: 0.9779 - out_consonant_acc: 0.9799 - val_loss: 0.1150 - val_out_root_loss: 0.1751 - val_out_vowel_loss: 0.0623 - val_out_consonant_loss: 0.0477 - val_out_root_acc: 0.9504 - val_out_vowel_acc: 0.9850 - val_out_consonant_acc: 0.9863\n",
            "Epoch 19/30\n",
            "720/721 [============================>.] - ETA: 0s - loss: 0.1354 - out_root_loss: 0.1949 - out_vowel_loss: 0.0805 - out_consonant_loss: 0.0713 - out_root_acc: 0.9445 - out_vowel_acc: 0.9785 - out_consonant_acc: 0.9792WARNING:tensorflow:sample_weight modes were coerced from\n",
            "  {'out_root': '...', 'out_vowel': '...', 'out_consonant': '...'}\n",
            "    to  \n",
            "  ['...', '...', '...']\n",
            "721/721 [==============================] - 209s 289ms/step - loss: 0.1354 - out_root_loss: 0.1949 - out_vowel_loss: 0.0805 - out_consonant_loss: 0.0712 - out_root_acc: 0.9445 - out_vowel_acc: 0.9786 - out_consonant_acc: 0.9792 - val_loss: 0.1203 - val_out_root_loss: 0.1838 - val_out_vowel_loss: 0.0645 - val_out_consonant_loss: 0.0492 - val_out_root_acc: 0.9497 - val_out_vowel_acc: 0.9853 - val_out_consonant_acc: 0.9864\n",
            "Epoch 20/30\n",
            "720/721 [============================>.] - ETA: 0s - loss: 0.1295 - out_root_loss: 0.1867 - out_vowel_loss: 0.0769 - out_consonant_loss: 0.0674 - out_root_acc: 0.9462 - out_vowel_acc: 0.9795 - out_consonant_acc: 0.9808WARNING:tensorflow:sample_weight modes were coerced from\n",
            "  {'out_root': '...', 'out_vowel': '...', 'out_consonant': '...'}\n",
            "    to  \n",
            "  ['...', '...', '...']\n",
            "721/721 [==============================] - 209s 289ms/step - loss: 0.1294 - out_root_loss: 0.1867 - out_vowel_loss: 0.0769 - out_consonant_loss: 0.0674 - out_root_acc: 0.9462 - out_vowel_acc: 0.9795 - out_consonant_acc: 0.9808 - val_loss: 0.1185 - val_out_root_loss: 0.1805 - val_out_vowel_loss: 0.0588 - val_out_consonant_loss: 0.0541 - val_out_root_acc: 0.9505 - val_out_vowel_acc: 0.9867 - val_out_consonant_acc: 0.9862\n",
            "Epoch 21/30\n",
            "720/721 [============================>.] - ETA: 0s - loss: 0.1269 - out_root_loss: 0.1822 - out_vowel_loss: 0.0765 - out_consonant_loss: 0.0665 - out_root_acc: 0.9477 - out_vowel_acc: 0.9796 - out_consonant_acc: 0.9806WARNING:tensorflow:sample_weight modes were coerced from\n",
            "  {'out_root': '...', 'out_vowel': '...', 'out_consonant': '...'}\n",
            "    to  \n",
            "  ['...', '...', '...']\n",
            "721/721 [==============================] - 209s 290ms/step - loss: 0.1269 - out_root_loss: 0.1822 - out_vowel_loss: 0.0766 - out_consonant_loss: 0.0665 - out_root_acc: 0.9477 - out_vowel_acc: 0.9796 - out_consonant_acc: 0.9806 - val_loss: 0.1131 - val_out_root_loss: 0.1710 - val_out_vowel_loss: 0.0580 - val_out_consonant_loss: 0.0525 - val_out_root_acc: 0.9535 - val_out_vowel_acc: 0.9860 - val_out_consonant_acc: 0.9853\n",
            "Epoch 22/30\n",
            "720/721 [============================>.] - ETA: 0s - loss: 0.1218 - out_root_loss: 0.1746 - out_vowel_loss: 0.0742 - out_consonant_loss: 0.0638 - out_root_acc: 0.9489 - out_vowel_acc: 0.9801 - out_consonant_acc: 0.9819WARNING:tensorflow:sample_weight modes were coerced from\n",
            "  {'out_root': '...', 'out_vowel': '...', 'out_consonant': '...'}\n",
            "    to  \n",
            "  ['...', '...', '...']\n",
            "721/721 [==============================] - 209s 289ms/step - loss: 0.1218 - out_root_loss: 0.1746 - out_vowel_loss: 0.0742 - out_consonant_loss: 0.0638 - out_root_acc: 0.9489 - out_vowel_acc: 0.9801 - out_consonant_acc: 0.9819 - val_loss: 0.1131 - val_out_root_loss: 0.1735 - val_out_vowel_loss: 0.0584 - val_out_consonant_loss: 0.0472 - val_out_root_acc: 0.9534 - val_out_vowel_acc: 0.9860 - val_out_consonant_acc: 0.9869\n",
            "Epoch 23/30\n",
            "720/721 [============================>.] - ETA: 0s - loss: 0.1201 - out_root_loss: 0.1726 - out_vowel_loss: 0.0721 - out_consonant_loss: 0.0631 - out_root_acc: 0.9499 - out_vowel_acc: 0.9811 - out_consonant_acc: 0.9816WARNING:tensorflow:sample_weight modes were coerced from\n",
            "  {'out_root': '...', 'out_vowel': '...', 'out_consonant': '...'}\n",
            "    to  \n",
            "  ['...', '...', '...']\n",
            "721/721 [==============================] - 209s 290ms/step - loss: 0.1201 - out_root_loss: 0.1726 - out_vowel_loss: 0.0720 - out_consonant_loss: 0.0631 - out_root_acc: 0.9499 - out_vowel_acc: 0.9811 - out_consonant_acc: 0.9816 - val_loss: 0.1131 - val_out_root_loss: 0.1681 - val_out_vowel_loss: 0.0609 - val_out_consonant_loss: 0.0550 - val_out_root_acc: 0.9548 - val_out_vowel_acc: 0.9862 - val_out_consonant_acc: 0.9838\n",
            "Epoch 24/30\n",
            "720/721 [============================>.] - ETA: 0s - loss: 0.1181 - out_root_loss: 0.1689 - out_vowel_loss: 0.0734 - out_consonant_loss: 0.0612 - out_root_acc: 0.9510 - out_vowel_acc: 0.9808 - out_consonant_acc: 0.9821WARNING:tensorflow:sample_weight modes were coerced from\n",
            "  {'out_root': '...', 'out_vowel': '...', 'out_consonant': '...'}\n",
            "    to  \n",
            "  ['...', '...', '...']\n",
            "721/721 [==============================] - 209s 290ms/step - loss: 0.1181 - out_root_loss: 0.1690 - out_vowel_loss: 0.0733 - out_consonant_loss: 0.0612 - out_root_acc: 0.9510 - out_vowel_acc: 0.9808 - out_consonant_acc: 0.9821 - val_loss: 0.1124 - val_out_root_loss: 0.1742 - val_out_vowel_loss: 0.0558 - val_out_consonant_loss: 0.0455 - val_out_root_acc: 0.9535 - val_out_vowel_acc: 0.9872 - val_out_consonant_acc: 0.9874\n",
            "Epoch 25/30\n",
            "720/721 [============================>.] - ETA: 0s - loss: 0.1132 - out_root_loss: 0.1617 - out_vowel_loss: 0.0687 - out_consonant_loss: 0.0605 - out_root_acc: 0.9527 - out_vowel_acc: 0.9819 - out_consonant_acc: 0.9826WARNING:tensorflow:sample_weight modes were coerced from\n",
            "  {'out_root': '...', 'out_vowel': '...', 'out_consonant': '...'}\n",
            "    to  \n",
            "  ['...', '...', '...']\n",
            "721/721 [==============================] - 209s 290ms/step - loss: 0.1132 - out_root_loss: 0.1617 - out_vowel_loss: 0.0688 - out_consonant_loss: 0.0605 - out_root_acc: 0.9527 - out_vowel_acc: 0.9818 - out_consonant_acc: 0.9827 - val_loss: 0.1106 - val_out_root_loss: 0.1694 - val_out_vowel_loss: 0.0532 - val_out_consonant_loss: 0.0505 - val_out_root_acc: 0.9538 - val_out_vowel_acc: 0.9871 - val_out_consonant_acc: 0.9860\n",
            "Epoch 26/30\n",
            "720/721 [============================>.] - ETA: 0s - loss: 0.1125 - out_root_loss: 0.1613 - out_vowel_loss: 0.0680 - out_consonant_loss: 0.0595 - out_root_acc: 0.9531 - out_vowel_acc: 0.9819 - out_consonant_acc: 0.9825WARNING:tensorflow:sample_weight modes were coerced from\n",
            "  {'out_root': '...', 'out_vowel': '...', 'out_consonant': '...'}\n",
            "    to  \n",
            "  ['...', '...', '...']\n",
            "721/721 [==============================] - 209s 290ms/step - loss: 0.1125 - out_root_loss: 0.1612 - out_vowel_loss: 0.0679 - out_consonant_loss: 0.0595 - out_root_acc: 0.9531 - out_vowel_acc: 0.9819 - out_consonant_acc: 0.9825 - val_loss: 0.1105 - val_out_root_loss: 0.1702 - val_out_vowel_loss: 0.0536 - val_out_consonant_loss: 0.0479 - val_out_root_acc: 0.9536 - val_out_vowel_acc: 0.9882 - val_out_consonant_acc: 0.9865\n",
            "Epoch 27/30\n",
            "720/721 [============================>.] - ETA: 0s - loss: 0.1083 - out_root_loss: 0.1543 - out_vowel_loss: 0.0663 - out_consonant_loss: 0.0582 - out_root_acc: 0.9547 - out_vowel_acc: 0.9822 - out_consonant_acc: 0.9831WARNING:tensorflow:sample_weight modes were coerced from\n",
            "  {'out_root': '...', 'out_vowel': '...', 'out_consonant': '...'}\n",
            "    to  \n",
            "  ['...', '...', '...']\n",
            "721/721 [==============================] - 209s 289ms/step - loss: 0.1083 - out_root_loss: 0.1543 - out_vowel_loss: 0.0663 - out_consonant_loss: 0.0582 - out_root_acc: 0.9547 - out_vowel_acc: 0.9822 - out_consonant_acc: 0.9831 - val_loss: 0.1114 - val_out_root_loss: 0.1693 - val_out_vowel_loss: 0.0580 - val_out_consonant_loss: 0.0491 - val_out_root_acc: 0.9559 - val_out_vowel_acc: 0.9874 - val_out_consonant_acc: 0.9865\n",
            "Epoch 28/30\n",
            "720/721 [============================>.] - ETA: 0s - loss: 0.1058 - out_root_loss: 0.1502 - out_vowel_loss: 0.0659 - out_consonant_loss: 0.0569 - out_root_acc: 0.9555 - out_vowel_acc: 0.9827 - out_consonant_acc: 0.9834WARNING:tensorflow:sample_weight modes were coerced from\n",
            "  {'out_root': '...', 'out_vowel': '...', 'out_consonant': '...'}\n",
            "    to  \n",
            "  ['...', '...', '...']\n",
            "721/721 [==============================] - 209s 290ms/step - loss: 0.1058 - out_root_loss: 0.1503 - out_vowel_loss: 0.0658 - out_consonant_loss: 0.0569 - out_root_acc: 0.9555 - out_vowel_acc: 0.9827 - out_consonant_acc: 0.9834 - val_loss: 0.1083 - val_out_root_loss: 0.1658 - val_out_vowel_loss: 0.0562 - val_out_consonant_loss: 0.0454 - val_out_root_acc: 0.9577 - val_out_vowel_acc: 0.9870 - val_out_consonant_acc: 0.9877\n",
            "Epoch 29/30\n",
            "720/721 [============================>.] - ETA: 0s - loss: 0.1032 - out_root_loss: 0.1470 - out_vowel_loss: 0.0636 - out_consonant_loss: 0.0555 - out_root_acc: 0.9568 - out_vowel_acc: 0.9835 - out_consonant_acc: 0.9840WARNING:tensorflow:sample_weight modes were coerced from\n",
            "  {'out_root': '...', 'out_vowel': '...', 'out_consonant': '...'}\n",
            "    to  \n",
            "  ['...', '...', '...']\n",
            "721/721 [==============================] - 209s 289ms/step - loss: 0.1032 - out_root_loss: 0.1470 - out_vowel_loss: 0.0636 - out_consonant_loss: 0.0555 - out_root_acc: 0.9568 - out_vowel_acc: 0.9835 - out_consonant_acc: 0.9840 - val_loss: 0.1094 - val_out_root_loss: 0.1683 - val_out_vowel_loss: 0.0550 - val_out_consonant_loss: 0.0462 - val_out_root_acc: 0.9552 - val_out_vowel_acc: 0.9876 - val_out_consonant_acc: 0.9873\n",
            "Epoch 30/30\n",
            "720/721 [============================>.] - ETA: 0s - loss: 0.1032 - out_root_loss: 0.1464 - out_vowel_loss: 0.0644 - out_consonant_loss: 0.0557 - out_root_acc: 0.9569 - out_vowel_acc: 0.9831 - out_consonant_acc: 0.9838WARNING:tensorflow:sample_weight modes were coerced from\n",
            "  {'out_root': '...', 'out_vowel': '...', 'out_consonant': '...'}\n",
            "    to  \n",
            "  ['...', '...', '...']\n",
            "721/721 [==============================] - 209s 290ms/step - loss: 0.1033 - out_root_loss: 0.1465 - out_vowel_loss: 0.0644 - out_consonant_loss: 0.0556 - out_root_acc: 0.9569 - out_vowel_acc: 0.9831 - out_consonant_acc: 0.9838 - val_loss: 0.1052 - val_out_root_loss: 0.1587 - val_out_vowel_loss: 0.0550 - val_out_consonant_loss: 0.0483 - val_out_root_acc: 0.9584 - val_out_vowel_acc: 0.9865 - val_out_consonant_acc: 0.9869\n"
          ],
          "name": "stdout"
        },
        {
          "output_type": "error",
          "ename": "NameError",
          "evalue": "ignored",
          "traceback": [
            "\u001b[0;31m---------------------------------------------------------------------------\u001b[0m",
            "\u001b[0;31mNameError\u001b[0m                                 Traceback (most recent call last)",
            "\u001b[0;32m<ipython-input-2-784370f9b687>\u001b[0m in \u001b[0;36m<module>\u001b[0;34m()\u001b[0m\n\u001b[1;32m     24\u001b[0m \u001b[0;34m\u001b[0m\u001b[0m\n\u001b[1;32m     25\u001b[0m model = train_from_prep(datagen_args, name='Image 96, padding 16', \n\u001b[0;32m---> 26\u001b[0;31m                         preprocess_args=preprocess_args)\n\u001b[0m",
            "\u001b[0;32m/content/helper.py\u001b[0m in \u001b[0;36mtrain_from_prep\u001b[0;34m(datagen_args, name, epochs, model, N_CHANNELS, batch_size, preprocess_args, data_path, prep_folder)\u001b[0m\n\u001b[1;32m    157\u001b[0m \u001b[0;34m\u001b[0m\u001b[0m\n\u001b[1;32m    158\u001b[0m     \u001b[0;31m# save model online\u001b[0m\u001b[0;34m\u001b[0m\u001b[0;34m\u001b[0m\u001b[0;34m\u001b[0m\u001b[0m\n\u001b[0;32m--> 159\u001b[0;31m     \u001b[0mmodel\u001b[0m\u001b[0;34m.\u001b[0m\u001b[0msave\u001b[0m\u001b[0;34m(\u001b[0m\u001b[0mos\u001b[0m\u001b[0;34m.\u001b[0m\u001b[0mpath\u001b[0m\u001b[0;34m.\u001b[0m\u001b[0mjoin\u001b[0m\u001b[0;34m(\u001b[0m\u001b[0mwandb\u001b[0m\u001b[0;34m.\u001b[0m\u001b[0mrun\u001b[0m\u001b[0;34m.\u001b[0m\u001b[0mdir\u001b[0m\u001b[0;34m,\u001b[0m \u001b[0;34m\"model_{}.h5\"\u001b[0m\u001b[0;34m.\u001b[0m\u001b[0mformat\u001b[0m\u001b[0;34m(\u001b[0m\u001b[0mi\u001b[0m\u001b[0;34m)\u001b[0m\u001b[0;34m)\u001b[0m\u001b[0;34m)\u001b[0m\u001b[0;34m\u001b[0m\u001b[0;34m\u001b[0m\u001b[0m\n\u001b[0m\u001b[1;32m    160\u001b[0m     \u001b[0;32mreturn\u001b[0m \u001b[0mmodel\u001b[0m\u001b[0;34m\u001b[0m\u001b[0;34m\u001b[0m\u001b[0m\n\u001b[1;32m    161\u001b[0m \u001b[0;34m\u001b[0m\u001b[0m\n",
            "\u001b[0;31mNameError\u001b[0m: name 'i' is not defined"
          ]
        }
      ]
    },
    {
      "cell_type": "code",
      "metadata": {
        "colab_type": "code",
        "id": "8iebU72iy9ds",
        "outputId": "5ffc4b7e-69e1-4676-af93-42e6cb661a3a",
        "colab": {
          "base_uri": "https://localhost:8080/",
          "height": 84,
          "referenced_widgets": [
            "f452c9ac6e9d46e2a6954eb58f8c4f64",
            "d92adaf02352477d9890e8bef0254c79",
            "b1eff58557284e779e35b98169357f8f",
            "c31c5dbb3f5340fb897e1903e024c76a",
            "c88816bc07e3474e8582f4b8f66716f6",
            "2bf0982c8e1b4dbe974335616b035930",
            "ff7f2de1a11647b293e4157aa9c57cae",
            "7e153cc9aa8f4f5c8c413daf347ed810"
          ]
        }
      },
      "source": [
        "from helper import train_from_prep\n",
        "\n",
        "datagen_args = dict(\n",
        "    featurewise_center=False,  # set input mean to 0 over the dataset\n",
        "    samplewise_center=False,  # set each sample mean to 0\n",
        "    featurewise_std_normalization=False,  # divide inputs by std of the dataset\n",
        "    samplewise_std_normalization=False,  # divide each input by its std\n",
        "    zca_whitening=False,  # apply ZCA whitening\n",
        "    rotation_range=8,  # randomly rotate images in the range (degrees, 0 to 180)\n",
        "    zoom_range = 0.15, # Randomly zoom image \n",
        "    width_shift_range=0.15,  # randomly shift images horizontally (fraction of total width)\n",
        "    height_shift_range=0.15,  # randomly shift images vertically (fraction of total height)\n",
        "    horizontal_flip=False,  # randomly flip images\n",
        "    vertical_flip=False,\n",
        "    shear_range=8, #Shear Intensity (Shear angle in counter-clockwise direction in degrees)\n",
        ")\n",
        "\n",
        "# leaves actual grapheme at 64x64, but adds a padding of 16 all around\n",
        "preprocess_args = dict(\n",
        "    image_width = 64,\n",
        "    image_height = 64,\n",
        "    padding = 8,\n",
        ")\n",
        "\n",
        "model = train_from_prep(datagen_args, name='Image 64, padding 8',\n",
        "                        preprocess_args=preprocess_args)"
      ],
      "execution_count": 0,
      "outputs": [
        {
          "output_type": "stream",
          "text": [
            "Preprocessing arguments changed. Performing data preprocessing...\n"
          ],
          "name": "stdout"
        },
        {
          "output_type": "display_data",
          "data": {
            "application/vnd.jupyter.widget-view+json": {
              "model_id": "f452c9ac6e9d46e2a6954eb58f8c4f64",
              "version_major": 2,
              "version_minor": 0
            },
            "text/plain": [
              "HBox(children=(IntProgress(value=0, description='Part 0', max=50210, style=ProgressStyle(description_width='in…"
            ]
          },
          "metadata": {
            "tags": []
          }
        },
        {
          "output_type": "stream",
          "text": [
            "\n"
          ],
          "name": "stdout"
        }
      ]
    }
  ]
}